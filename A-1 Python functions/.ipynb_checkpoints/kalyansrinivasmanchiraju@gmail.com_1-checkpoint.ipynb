{
 "cells": [
  {
   "cell_type": "markdown",
   "metadata": {},
   "source": [
    "#### 1. Write a function that inputs a number and prints the multiplication table of that number"
   ]
  },
  {
   "cell_type": "code",
   "execution_count": 1,
   "metadata": {},
   "outputs": [
    {
     "name": "stdout",
     "output_type": "stream",
     "text": [
      "9 * 1 = 9\n",
      "9 * 2 = 18\n",
      "9 * 3 = 27\n",
      "9 * 4 = 36\n",
      "9 * 5 = 45\n",
      "9 * 6 = 54\n",
      "9 * 7 = 63\n",
      "9 * 8 = 72\n",
      "9 * 9 = 81\n",
      "9 * 10 = 90\n"
     ]
    }
   ],
   "source": [
    "#function to print multiplication table of a number\n",
    "def multiply(num):\n",
    "    for i in range(1,11):\n",
    "        print(num,\"*\",i,\"=\",num*i)\n",
    "    return\n",
    "multiply(9)"
   ]
  },
  {
   "cell_type": "markdown",
   "metadata": {},
   "source": [
    "#### 2. Write a program to print twin primes less than 1000. If two consecutive odd numbers are both prime then they are known as twin primes"
   ]
  },
  {
   "cell_type": "code",
   "execution_count": 2,
   "metadata": {},
   "outputs": [
    {
     "name": "stdout",
     "output_type": "stream",
     "text": [
      "( 3 , 5 )\n",
      "( 5 , 7 )\n",
      "( 11 , 13 )\n",
      "( 17 , 19 )\n",
      "( 29 , 31 )\n",
      "( 41 , 43 )\n",
      "( 59 , 61 )\n",
      "( 71 , 73 )\n",
      "( 101 , 103 )\n",
      "( 107 , 109 )\n",
      "( 137 , 139 )\n",
      "( 149 , 151 )\n",
      "( 179 , 181 )\n",
      "( 191 , 193 )\n",
      "( 197 , 199 )\n",
      "( 227 , 229 )\n",
      "( 239 , 241 )\n",
      "( 269 , 271 )\n",
      "( 281 , 283 )\n",
      "( 311 , 313 )\n",
      "( 347 , 349 )\n",
      "( 419 , 421 )\n",
      "( 431 , 433 )\n",
      "( 461 , 463 )\n",
      "( 521 , 523 )\n",
      "( 569 , 571 )\n",
      "( 599 , 601 )\n",
      "( 617 , 619 )\n",
      "( 641 , 643 )\n",
      "( 659 , 661 )\n",
      "( 809 , 811 )\n",
      "( 821 , 823 )\n",
      "( 827 , 829 )\n",
      "( 857 , 859 )\n",
      "( 881 , 883 )\n"
     ]
    }
   ],
   "source": [
    "#Program to print twin primes less than 1000\n",
    "import math\n",
    "def isPrime(num):\n",
    "    for i in range(2,int(math.sqrt(num))+1):\n",
    "        if num%i==0:\n",
    "            return False\n",
    "    return True\n",
    "def twinPrime():\n",
    "    for i in range(3,1000,2):\n",
    "        if isPrime(i)==isPrime(i+2)==True:\n",
    "            print(\"(\",i,\",\",i+2,\")\")\n",
    "    return\n",
    "twinPrime()"
   ]
  },
  {
   "cell_type": "markdown",
   "metadata": {},
   "source": [
    "#### 3. Write a program to find out the prime factors of a number. Example: prime factors of 56 - 2, 2, 2, 7"
   ]
  },
  {
   "cell_type": "code",
   "execution_count": 3,
   "metadata": {},
   "outputs": [
    {
     "name": "stdout",
     "output_type": "stream",
     "text": [
      "3\n",
      "3\n",
      "7\n"
     ]
    }
   ],
   "source": [
    "#Program to find prime factors\n",
    "def primeFact(num):\n",
    "    while num%2==0:\n",
    "        print(2)\n",
    "        num=num/2\n",
    "    for i in range(3,int(num)+1,2):\n",
    "        while num%i==0:\n",
    "            print(i)\n",
    "            num=num/i\n",
    "primeFact(63)     "
   ]
  },
  {
   "cell_type": "markdown",
   "metadata": {},
   "source": [
    "#### 4. Write a program to implement these formulae of permutations and combinations. Number of permutations of n objects taken r at a time: p(n, r) = n! / (n-r)!. Number of combinations of n objects taken r at a time is: c(n, r) = n! / (r!*(n-r)!) = p(n,r) / r!"
   ]
  },
  {
   "cell_type": "code",
   "execution_count": 4,
   "metadata": {},
   "outputs": [
    {
     "name": "stdout",
     "output_type": "stream",
     "text": [
      "No of Permutations:  360\n",
      "No of Combinations:  15\n"
     ]
    }
   ],
   "source": [
    "#Program to implement formulae of permutations and combinations\n",
    "def fact(n):\n",
    "    if n==1:\n",
    "        return n\n",
    "    return n*fact(n-1)\n",
    "def permutations(n,r):\n",
    "    return int(fact(n)/fact(n-r))\n",
    "def combinations(n,r):\n",
    "    return int(permutations(n,r)/fact(r))\n",
    "print(\"No of Permutations: \",permutations(6,4))\n",
    "print(\"No of Combinations: \",combinations(6,4))"
   ]
  },
  {
   "cell_type": "markdown",
   "metadata": {},
   "source": [
    "#### 5. Write a function that converts a decimal number to binary number"
   ]
  },
  {
   "cell_type": "code",
   "execution_count": 5,
   "metadata": {},
   "outputs": [
    {
     "name": "stdout",
     "output_type": "stream",
     "text": [
      "Binary format of given number: 1011\n"
     ]
    }
   ],
   "source": [
    "#Function to convert decimal number to binary number\n",
    "def binConversion(n):\n",
    "    i=1\n",
    "    res=0\n",
    "    while n>0:\n",
    "        res=res+(n%2)*i\n",
    "        i=i*10\n",
    "        n=int(n/2)\n",
    "    return res\n",
    "print(\"Binary format of given number:\",binConversion(11))"
   ]
  },
  {
   "cell_type": "markdown",
   "metadata": {},
   "source": [
    "#### 6.Write a function cubesum() that accepts an integer and returns the sum of the cubes of individual digits of that number. Use this function to make functions PrintArmstrong() and isArmstrong() to print Armstrong numbers and to find whether is an Armstrong number."
   ]
  },
  {
   "cell_type": "code",
   "execution_count": 6,
   "metadata": {},
   "outputs": [
    {
     "name": "stdout",
     "output_type": "stream",
     "text": [
      "153 is an Armstrong number.\n"
     ]
    }
   ],
   "source": [
    "#Functions to find a sum of cube of digits of a number, to check a number is Armstrong or not and to print it\n",
    "def cubeSum(n):\n",
    "    res=0\n",
    "    while n>0:\n",
    "        res=res+((n%10)**3)\n",
    "        n=int(n/10)\n",
    "    return res\n",
    "def isArmStrong(num):\n",
    "    return (num==cubeSum(num))\n",
    "def printArmStrong(num):\n",
    "    if isArmStrong(num):\n",
    "        print(num,\"is an Armstrong number.\")\n",
    "    else:\n",
    "        print(num,\"is not an Armstrong number.\")\n",
    "printArmStrong(153)"
   ]
  },
  {
   "cell_type": "markdown",
   "metadata": {},
   "source": [
    "#### 7.Write a function prodDigits() that inputs a number and returns the product of digits of that number."
   ]
  },
  {
   "cell_type": "code",
   "execution_count": 7,
   "metadata": {},
   "outputs": [
    {
     "name": "stdout",
     "output_type": "stream",
     "text": [
      "Product of Digits: 72\n"
     ]
    }
   ],
   "source": [
    "#Function to return the product of digits of a number\n",
    "def prodDigits(num):\n",
    "    if num==0:\n",
    "        return 1\n",
    "    return (num%10)*prodDigits(int(num/10))\n",
    "print(\"Product of Digits:\",prodDigits(189))"
   ]
  },
  {
   "cell_type": "markdown",
   "metadata": {},
   "source": [
    "#### 8. If all digits of a number n are multiplied by each other repeating with the product, the one digit number obtained at last is called the multiplicative digital root of n. The number of times digits need to be multiplied to reach one digit is called the multiplicative persistance of n.Example: 86 -> 48 -> 32 -> 6 (MDR 6, MPersistence 3) 341 -> 12->2 (MDR 2, MPersistence 2) Using the function prodDigits() of previous exercise write functions MDR() and MPersistence() that input a number and return its multiplicative digital root and multiplicative persistence respectively"
   ]
  },
  {
   "cell_type": "code",
   "execution_count": 8,
   "metadata": {},
   "outputs": [
    {
     "name": "stdout",
     "output_type": "stream",
     "text": [
      "MDR: 2\n",
      "MPersistence: 2\n"
     ]
    }
   ],
   "source": [
    "# Functions to return multiplicative digital root and multiplicative persistence of given number\n",
    "def MDR(num):\n",
    "    if int(num/10)==0:\n",
    "        return num\n",
    "    return MDR(prodDigits(num))\n",
    "def MPersistence(num):\n",
    "    count=0\n",
    "    while int(num/10)!=0:\n",
    "        num=prodDigits(num)\n",
    "        count=count+1\n",
    "    return count\n",
    "print(\"MDR:\",MDR(341))\n",
    "print(\"MPersistence:\",MPersistence(341))"
   ]
  },
  {
   "cell_type": "markdown",
   "metadata": {},
   "source": [
    "#### 9. Write a function sumPdivisors() that finds the sum of proper divisors of a number. Proper divisors of a number are those numbers by which the number is divisible, except the number itself. For example proper divisors of 36 are 1, 2, 3, 4, 6, 9, 18"
   ]
  },
  {
   "cell_type": "code",
   "execution_count": 9,
   "metadata": {},
   "outputs": [
    {
     "name": "stdout",
     "output_type": "stream",
     "text": [
      "Sum of proper divisors: 6\n"
     ]
    }
   ],
   "source": [
    "#Function to find sum of proper divisors of number\n",
    "import math\n",
    "def sumPdivisors(num):\n",
    "    if num==1:\n",
    "        return 0\n",
    "    sum=1\n",
    "    for i in range(2,int(math.sqrt(num))+1):\n",
    "        if (num%i)==0:\n",
    "            sum=sum+i+int(num/i)\n",
    "    return sum\n",
    "print(\"Sum of proper divisors:\",sumPdivisors(6))"
   ]
  },
  {
   "cell_type": "markdown",
   "metadata": {},
   "source": [
    "#### 10. A number is called perfect if the sum of proper divisors of that number is equal to the number. For example 28 is perfect number, since 1+2+4+7+14=28. Write a program to print all the perfect numbers in a given range"
   ]
  },
  {
   "cell_type": "code",
   "execution_count": 10,
   "metadata": {},
   "outputs": [
    {
     "name": "stdout",
     "output_type": "stream",
     "text": [
      "Perfect numbers between 1 and 1000\n",
      "6\n",
      "28\n",
      "496\n"
     ]
    }
   ],
   "source": [
    "#Program to print perfect numbers in given range\n",
    "def printPerfectNumber(start,end):\n",
    "    print(\"Perfect numbers between\",start,\"and\",end)\n",
    "    for i in range(start,end+1):\n",
    "        if i==sumPdivisors(i):\n",
    "            print(i)\n",
    "    return\n",
    "printPerfectNumber(1,1000)"
   ]
  },
  {
   "cell_type": "markdown",
   "metadata": {},
   "source": [
    "#### 11. Two different numbers are called amicable numbers if the sum of the proper divisors of each is equal to the other number. For example 220 and 284 are amicable numbers. Sum of proper divisors of 220 = 1+2+4+5+10+11+20+22+44+55+110 = 284 Sum of proper divisors of 284 = 1+2+4+71+142 = 220 Write a function to print pairs of amicable numbers in a range "
   ]
  },
  {
   "cell_type": "code",
   "execution_count": 11,
   "metadata": {},
   "outputs": [
    {
     "name": "stdout",
     "output_type": "stream",
     "text": [
      "Amicable numbers between 1 and 7000\n",
      "( 220 , 284 )\n",
      "( 1184 , 1210 )\n",
      "( 2620 , 2924 )\n",
      "( 5020 , 5564 )\n",
      "( 6232 , 6368 )\n"
     ]
    }
   ],
   "source": [
    "#Function to print pairs of amicable numbers in a range\n",
    "def printAmicableNumber(start,end):\n",
    "    print(\"Amicable numbers between\",start,\"and\",end)\n",
    "    list1=[]\n",
    "    for i in range(start,end+1):\n",
    "        if not(i in list1):\n",
    "            res=sumPdivisors(i)\n",
    "            if res<=end and i!=res and res!=0:\n",
    "                if i==sumPdivisors(res):\n",
    "                    list1.append(i)\n",
    "                    list1.append(res)\n",
    "                    print(\"(\",i,\",\",res,\")\")\n",
    "printAmicableNumber(1,7000)"
   ]
  },
  {
   "cell_type": "markdown",
   "metadata": {},
   "source": [
    "#### 12. Write a program which can filter odd numbers in a list by using filter function"
   ]
  },
  {
   "cell_type": "code",
   "execution_count": 12,
   "metadata": {},
   "outputs": [
    {
     "name": "stdout",
     "output_type": "stream",
     "text": [
      "List of Odd Numbers: [1, 3, 5]\n"
     ]
    }
   ],
   "source": [
    "#Program to filter odd numbers from give list\n",
    "def oddList(input):\n",
    "    return list(filter(lambda x:x%2!=0,input))\n",
    "print(\"List of Odd Numbers:\",oddList([1,2,3,4,5,6]))"
   ]
  },
  {
   "cell_type": "markdown",
   "metadata": {},
   "source": [
    "#### 13. Write a program which can map() to make a list whose elements are cube of elements in a given list"
   ]
  },
  {
   "cell_type": "code",
   "execution_count": 13,
   "metadata": {},
   "outputs": [
    {
     "name": "stdout",
     "output_type": "stream",
     "text": [
      "Cube of elements in List: [1, 8, 27, 64]\n"
     ]
    }
   ],
   "source": [
    "#Program to apply map() on elements of given list\n",
    "def cube(input):\n",
    "    return list(map(lambda x:x**3,input))\n",
    "print(\"Cube of elements in List:\",cube([1,2,3,4]))"
   ]
  },
  {
   "cell_type": "markdown",
   "metadata": {},
   "source": [
    "#### 14. Write a program which can map() and filter() to make a list whose elements are cube of even number in a given list"
   ]
  },
  {
   "cell_type": "code",
   "execution_count": 14,
   "metadata": {},
   "outputs": [
    {
     "name": "stdout",
     "output_type": "stream",
     "text": [
      "Cube of Even numbers in list [64, 216, 512, 8000]\n"
     ]
    }
   ],
   "source": [
    "#Program to apply map() and filter() on elements of given list\n",
    "def cubeOfEven(input):\n",
    "    return list(map(lambda x:x**3,filter(lambda x:x%2==0,input)))\n",
    "print(\"Cube of Even numbers in list\",cubeOfEven([1,4,6,8,9,20,3]))"
   ]
  },
  {
   "cell_type": "code",
   "execution_count": null,
   "metadata": {},
   "outputs": [],
   "source": []
  }
 ],
 "metadata": {
  "kernelspec": {
   "display_name": "Python 3",
   "language": "python",
   "name": "python3"
  },
  "language_info": {
   "codemirror_mode": {
    "name": "ipython",
    "version": 3
   },
   "file_extension": ".py",
   "mimetype": "text/x-python",
   "name": "python",
   "nbconvert_exporter": "python",
   "pygments_lexer": "ipython3",
   "version": "3.7.6"
  }
 },
 "nbformat": 4,
 "nbformat_minor": 2
}
