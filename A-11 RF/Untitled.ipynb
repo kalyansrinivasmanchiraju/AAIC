{
 "cells": [
  {
   "cell_type": "markdown",
   "metadata": {},
   "source": [
    "### Normalize the categorical data"
   ]
  },
  {
   "cell_type": "markdown",
   "metadata": {},
   "source": [
    "#### 1. Teacher prefix"
   ]
  },
  {
   "cell_type": "code",
   "execution_count": 216,
   "metadata": {},
   "outputs": [
    {
     "name": "stdout",
     "output_type": "stream",
     "text": [
      "After vectorizations\n",
      "(1, 73196) (73196,)\n",
      "(1, 36052) (36052,)\n"
     ]
    }
   ],
   "source": [
    "from sklearn.preprocessing import Normalizer\n",
    "\n",
    "normalizer = Normalizer()\n",
    "\n",
    "# normalizer.fit(X_train['price'].values)\n",
    "# this will rise an error Expected 2D array, got 1D array instead: \n",
    "# array=[105.22 215.96  96.01 ... 368.98  80.53 709.67].\n",
    "# Reshape your data either using \n",
    "# array.reshape(-1, 1) if your data has a single feature \n",
    "# array.reshape(1, -1)  if it contains a single sample.\n",
    "\n",
    "normalizer.fit(response_clean_teacher_prefix['x'].values.reshape(1,-1))  #fit has to be done only on Train data\n",
    "\n",
    "X_train_neg_tp_normalized = normalizer.transform(response_clean_teacher_prefix['x'].values.reshape(1,-1))\n",
    "X_test_neg_tp_normalized = normalizer.transform(response_test_clean_teacher_prefix['x'].values.reshape(1,-1))\n",
    "\n",
    "print(\"After vectorizations\")\n",
    "print(X_train_neg_tp_normalized.shape, y_train.shape)\n",
    "print(X_test_neg_tp_normalized.shape, y_test.shape)"
   ]
  },
  {
   "cell_type": "code",
   "execution_count": 222,
   "metadata": {},
   "outputs": [
    {
     "data": {
      "text/plain": [
       "<matplotlib.axes._subplots.AxesSubplot at 0x2a6c5b6e5c8>"
      ]
     },
     "execution_count": 222,
     "metadata": {},
     "output_type": "execute_result"
    },
    {
     "data": {
      "image/png": "[encoded data removed]",
      "text/plain": [
       "<Figure size 432x288 with 1 Axes>"
      ]
     },
     "metadata": {
      "needs_background": "light"
     },
     "output_type": "display_data"
    }
   ],
   "source": [
    "import seaborn\n",
    "sns.distplot(response_clean_teacher_prefix['x'])\n"
   ]
  },
  {
   "cell_type": "code",
   "execution_count": 224,
   "metadata": {},
   "outputs": [
    {
     "data": {
      "text/plain": [
       "(73196, 2)"
      ]
     },
     "execution_count": 224,
     "metadata": {},
     "output_type": "execute_result"
    }
   ],
   "source": [
    "response_clean_teacher_prefix.shape"
   ]
  },
  {
   "cell_type": "code",
   "execution_count": 223,
   "metadata": {},
   "outputs": [
    {
     "data": {
      "text/plain": [
       "<matplotlib.axes._subplots.AxesSubplot at 0x2a6c5b8d788>"
      ]
     },
     "execution_count": 223,
     "metadata": {},
     "output_type": "execute_result"
    },
    {
     "data": {
      "image/png": "[encoded data removed]",
      "text/plain": [
       "<Figure size 432x288 with 1 Axes>"
      ]
     },
     "metadata": {
      "needs_background": "light"
     },
     "output_type": "display_data"
    }
   ],
   "source": [
    "sns.distplot(X_train_neg_tp_normalized)"
   ]
  },
  {
   "cell_type": "code",
   "execution_count": 217,
   "metadata": {},
   "outputs": [
    {
     "name": "stdout",
     "output_type": "stream",
     "text": [
      "After vectorizations\n",
      "(73196, 1) (73196,)\n",
      "(36052, 1) (36052,)\n",
      "====================================================================================================\n"
     ]
    }
   ],
   "source": [
    "X_train_neg_tp_normalized = X_train_neg_tp_normalized.transpose()\n",
    "X_test_neg_tp_normalized = X_test_neg_tp_normalized.transpose()\n",
    "\n",
    "\n",
    "print(\"After vectorizations\")\n",
    "print(X_train_neg_tp_normalized.shape, y_train.shape)\n",
    "print(X_test_neg_tp_normalized.shape, y_test.shape)\n",
    "print(\"=\"*100)"
   ]
  },
  {
   "cell_type": "code",
   "execution_count": 171,
   "metadata": {},
   "outputs": [
    {
     "name": "stdout",
     "output_type": "stream",
     "text": [
      "After vectorizations\n",
      "(1, 73196) (73196,)\n",
      "(1, 36052) (36052,)\n",
      "After transpose\n",
      "(73196, 1) (73196,)\n",
      "(36052, 1) (36052,)\n",
      "====================================================================================================\n"
     ]
    }
   ],
   "source": [
    "from sklearn.preprocessing import Normalizer\n",
    "\n",
    "normalizer = Normalizer()\n",
    "\n",
    "# normalizer.fit(X_train['price'].values)\n",
    "# this will rise an error Expected 2D array, got 1D array instead: \n",
    "# array=[105.22 215.96  96.01 ... 368.98  80.53 709.67].\n",
    "# Reshape your data either using \n",
    "# array.reshape(-1, 1) if your data has a single feature \n",
    "# array.reshape(1, -1)  if it contains a single sample.\n",
    "\n",
    "normalizer.fit(response_clean_teacher_prefix['y'].values.reshape(1,-1))  #fit has to be done only on Train data\n",
    "\n",
    "X_train_pos_tp_normalized = normalizer.transform(response_clean_teacher_prefix['y'].values.reshape(1,-1))\n",
    "X_test_pos_tp_normalized = normalizer.transform(response_test_clean_teacher_prefix['y'].values.reshape(1,-1))\n",
    "\n",
    "print(\"After vectorizations\")\n",
    "print(X_train_pos_tp_normalized.shape, y_train.shape)\n",
    "print(X_test_pos_tp_normalized.shape, y_test.shape)\n",
    "\n",
    "X_train_pos_tp_normalized = X_train_pos_tp_normalized.transpose()\n",
    "X_test_pos_tp_normalized = X_test_pos_tp_normalized.transpose()\n",
    "\n",
    "\n",
    "print(\"After transpose\")\n",
    "print(X_train_pos_tp_normalized.shape, y_train.shape)\n",
    "print(X_test_pos_tp_normalized.shape, y_test.shape)\n",
    "print(\"=\"*100)"
   ]
  },
  {
   "cell_type": "markdown",
   "metadata": {},
   "source": [
    "#### 2. Categories"
   ]
  },
  {
   "cell_type": "code",
   "execution_count": 172,
   "metadata": {},
   "outputs": [
    {
     "name": "stdout",
     "output_type": "stream",
     "text": [
      "After vectorizations\n",
      "(1, 73196) (73196,)\n",
      "(1, 36052) (36052,)\n",
      "After transpose\n",
      "(73196, 1) (73196,)\n",
      "(36052, 1) (36052,)\n",
      "====================================================================================================\n"
     ]
    }
   ],
   "source": [
    "from sklearn.preprocessing import Normalizer\n",
    "\n",
    "normalizer = Normalizer()\n",
    "\n",
    "# normalizer.fit(X_train['price'].values)\n",
    "# this will rise an error Expected 2D array, got 1D array instead: \n",
    "# array=[105.22 215.96  96.01 ... 368.98  80.53 709.67].\n",
    "# Reshape your data either using \n",
    "# array.reshape(-1, 1) if your data has a single feature \n",
    "# array.reshape(1, -1)  if it contains a single sample.\n",
    "\n",
    "normalizer.fit(response_clean_categories['x'].values.reshape(1,-1))  #fit has to be done only on Train data\n",
    "\n",
    "X_train_neg_cat_normalized = normalizer.transform(response_clean_categories['x'].values.reshape(1,-1))\n",
    "X_test_neg_cat_normalized = normalizer.transform(response_test_clean_categories['x'].values.reshape(1,-1))\n",
    "\n",
    "print(\"After vectorizations\")\n",
    "print(X_train_neg_cat_normalized.shape, y_train.shape)\n",
    "print(X_test_neg_cat_normalized.shape, y_test.shape)\n",
    "\n",
    "X_train_neg_cat_normalized = X_train_neg_cat_normalized.transpose()\n",
    "X_test_neg_cat_normalized = X_test_neg_cat_normalized.transpose()\n",
    "\n",
    "\n",
    "print(\"After transpose\")\n",
    "print(X_train_neg_cat_normalized.shape, y_train.shape)\n",
    "print(X_test_neg_cat_normalized.shape, y_test.shape)\n",
    "print(\"=\"*100)"
   ]
  },
  {
   "cell_type": "code",
   "execution_count": 174,
   "metadata": {},
   "outputs": [
    {
     "name": "stdout",
     "output_type": "stream",
     "text": [
      "After vectorizations\n",
      "(1, 73196) (73196,)\n",
      "(1, 36052) (36052,)\n",
      "After transpose\n",
      "(73196, 1) (73196,)\n",
      "(36052, 1) (36052,)\n",
      "====================================================================================================\n"
     ]
    }
   ],
   "source": [
    "from sklearn.preprocessing import Normalizer\n",
    "\n",
    "normalizer = Normalizer()\n",
    "\n",
    "# normalizer.fit(X_train['price'].values)\n",
    "# this will rise an error Expected 2D array, got 1D array instead: \n",
    "# array=[105.22 215.96  96.01 ... 368.98  80.53 709.67].\n",
    "# Reshape your data either using \n",
    "# array.reshape(-1, 1) if your data has a single feature \n",
    "# array.reshape(1, -1)  if it contains a single sample.\n",
    "\n",
    "normalizer.fit(response_clean_categories['y'].values.reshape(1,-1))  #fit has to be done only on Train data\n",
    "\n",
    "X_train_pos_cat_normalized = normalizer.transform(response_clean_categories['y'].values.reshape(1,-1))\n",
    "X_test_pos_cat_normalized = normalizer.transform(response_test_clean_categories['y'].values.reshape(1,-1))\n",
    "\n",
    "print(\"After vectorizations\")\n",
    "print(X_train_pos_cat_normalized.shape, y_train.shape)\n",
    "print(X_test_pos_cat_normalized.shape, y_test.shape)\n",
    "\n",
    "X_train_pos_cat_normalized = X_train_pos_cat_normalized.transpose()\n",
    "X_test_pos_cat_normalized = X_test_pos_cat_normalized.transpose()\n",
    "\n",
    "\n",
    "print(\"After transpose\")\n",
    "print(X_train_pos_cat_normalized.shape, y_train.shape)\n",
    "print(X_test_pos_cat_normalized.shape, y_test.shape)\n",
    "print(\"=\"*100)"
   ]
  },
  {
   "cell_type": "markdown",
   "metadata": {},
   "source": [
    "#### 3. Sub Categories"
   ]
  },
  {
   "cell_type": "code",
   "execution_count": 175,
   "metadata": {},
   "outputs": [
    {
     "name": "stdout",
     "output_type": "stream",
     "text": [
      "After vectorizations\n",
      "(1, 73196) (73196,)\n",
      "(1, 36052) (36052,)\n",
      "After transpose\n",
      "(73196, 1) (73196,)\n",
      "(36052, 1) (36052,)\n",
      "====================================================================================================\n"
     ]
    }
   ],
   "source": [
    "from sklearn.preprocessing import Normalizer\n",
    "\n",
    "normalizer = Normalizer()\n",
    "\n",
    "# normalizer.fit(X_train['price'].values)\n",
    "# this will rise an error Expected 2D array, got 1D array instead: \n",
    "# array=[105.22 215.96  96.01 ... 368.98  80.53 709.67].\n",
    "# Reshape your data either using \n",
    "# array.reshape(-1, 1) if your data has a single feature \n",
    "# array.reshape(1, -1)  if it contains a single sample.\n",
    "\n",
    "normalizer.fit(response_clean_subcategories['x'].values.reshape(1,-1))  #fit has to be done only on Train data\n",
    "\n",
    "X_train_neg_sub_cat_normalized = normalizer.transform(response_clean_subcategories['x'].values.reshape(1,-1))\n",
    "X_test_neg_sub_cat_normalized = normalizer.transform(response_test_clean_subcategories['x'].values.reshape(1,-1))\n",
    "\n",
    "print(\"After vectorizations\")\n",
    "print(X_train_neg_sub_cat_normalized.shape, y_train.shape)\n",
    "print(X_test_neg_sub_cat_normalized.shape, y_test.shape)\n",
    "\n",
    "\n",
    "X_train_neg_sub_cat_normalized = X_train_neg_sub_cat_normalized.transpose()\n",
    "X_test_neg_sub_cat_normalized = X_test_neg_sub_cat_normalized.transpose()\n",
    "\n",
    "\n",
    "print(\"After transpose\")\n",
    "print(X_train_neg_sub_cat_normalized.shape, y_train.shape)\n",
    "print(X_test_neg_sub_cat_normalized.shape, y_test.shape)\n",
    "print(\"=\"*100)"
   ]
  },
  {
   "cell_type": "code",
   "execution_count": 176,
   "metadata": {},
   "outputs": [
    {
     "name": "stdout",
     "output_type": "stream",
     "text": [
      "After vectorizations\n",
      "(1, 73196) (73196,)\n",
      "(1, 36052) (36052,)\n",
      "After transpose\n",
      "(73196, 1) (73196,)\n",
      "(36052, 1) (36052,)\n",
      "====================================================================================================\n"
     ]
    }
   ],
   "source": [
    "from sklearn.preprocessing import Normalizer\n",
    "\n",
    "normalizer = Normalizer()\n",
    "\n",
    "# normalizer.fit(X_train['price'].values)\n",
    "# this will rise an error Expected 2D array, got 1D array instead: \n",
    "# array=[105.22 215.96  96.01 ... 368.98  80.53 709.67].\n",
    "# Reshape your data either using \n",
    "# array.reshape(-1, 1) if your data has a single feature \n",
    "# array.reshape(1, -1)  if it contains a single sample.\n",
    "\n",
    "normalizer.fit(response_clean_subcategories['y'].values.reshape(1,-1))  #fit has to be done only on Train data\n",
    "\n",
    "X_train_pos_sub_cat_normalized = normalizer.transform(response_clean_subcategories['y'].values.reshape(1,-1))\n",
    "X_test_pos_sub_cat_normalized = normalizer.transform(response_test_clean_subcategories['y'].values.reshape(1,-1))\n",
    "\n",
    "print(\"After vectorizations\")\n",
    "print(X_train_pos_sub_cat_normalized.shape, y_train.shape)\n",
    "print(X_test_pos_sub_cat_normalized.shape, y_test.shape)\n",
    "\n",
    "\n",
    "X_train_pos_sub_cat_normalized = X_train_pos_sub_cat_normalized.transpose()\n",
    "X_test_pos_sub_cat_normalized = X_test_pos_sub_cat_normalized.transpose()\n",
    "\n",
    "\n",
    "print(\"After transpose\")\n",
    "print(X_train_pos_sub_cat_normalized.shape, y_train.shape)\n",
    "print(X_test_pos_sub_cat_normalized.shape, y_test.shape)\n",
    "print(\"=\"*100)"
   ]
  },
  {
   "cell_type": "markdown",
   "metadata": {},
   "source": [
    "#### 4. School state"
   ]
  },
  {
   "cell_type": "code",
   "execution_count": 177,
   "metadata": {},
   "outputs": [
    {
     "name": "stdout",
     "output_type": "stream",
     "text": [
      "After vectorizations\n",
      "(1, 73196) (73196,)\n",
      "(1, 36052) (36052,)\n",
      "After transpose\n",
      "(73196, 1) (73196,)\n",
      "(36052, 1) (36052,)\n",
      "====================================================================================================\n"
     ]
    }
   ],
   "source": [
    "from sklearn.preprocessing import Normalizer\n",
    "\n",
    "normalizer = Normalizer()\n",
    "\n",
    "# normalizer.fit(X_train['price'].values)\n",
    "# this will rise an error Expected 2D array, got 1D array instead: \n",
    "# array=[105.22 215.96  96.01 ... 368.98  80.53 709.67].\n",
    "# Reshape your data either using \n",
    "# array.reshape(-1, 1) if your data has a single feature \n",
    "# array.reshape(1, -1)  if it contains a single sample.\n",
    "\n",
    "normalizer.fit(response_school_state['x'].values.reshape(1,-1))  #fit has to be done only on Train data\n",
    "\n",
    "X_train_neg_ss_normalized = normalizer.transform(response_school_state['x'].values.reshape(1,-1))\n",
    "X_test_neg_ss_normalized = normalizer.transform(response_test_school_state['x'].values.reshape(1,-1))\n",
    "\n",
    "print(\"After vectorizations\")\n",
    "print(X_train_neg_ss_normalized.shape, y_train.shape)\n",
    "print(X_test_neg_ss_normalized.shape, y_test.shape)\n",
    "\n",
    "X_train_neg_ss_normalized = X_train_neg_ss_normalized.transpose()\n",
    "X_test_neg_ss_normalized = X_test_neg_ss_normalized.transpose()\n",
    "\n",
    "\n",
    "print(\"After transpose\")\n",
    "print(X_train_neg_ss_normalized.shape, y_train.shape)\n",
    "print(X_test_neg_ss_normalized.shape, y_test.shape)\n",
    "print(\"=\"*100)"
   ]
  },
  {
   "cell_type": "code",
   "execution_count": 178,
   "metadata": {},
   "outputs": [
    {
     "name": "stdout",
     "output_type": "stream",
     "text": [
      "After vectorizations\n",
      "(1, 73196) (73196,)\n",
      "(1, 36052) (36052,)\n",
      "After transpose\n",
      "(73196, 1) (73196,)\n",
      "(36052, 1) (36052,)\n",
      "====================================================================================================\n"
     ]
    }
   ],
   "source": [
    "from sklearn.preprocessing import Normalizer\n",
    "\n",
    "normalizer = Normalizer()\n",
    "\n",
    "# normalizer.fit(X_train['price'].values)\n",
    "# this will rise an error Expected 2D array, got 1D array instead: \n",
    "# array=[105.22 215.96  96.01 ... 368.98  80.53 709.67].\n",
    "# Reshape your data either using \n",
    "# array.reshape(-1, 1) if your data has a single feature \n",
    "# array.reshape(1, -1)  if it contains a single sample.\n",
    "\n",
    "normalizer.fit(response_school_state['y'].values.reshape(1,-1))  #fit has to be done only on Train data\n",
    "\n",
    "X_train_pos_ss_normalized = normalizer.transform(response_school_state['y'].values.reshape(1,-1))\n",
    "X_test_pos_ss_normalized = normalizer.transform(response_test_school_state['y'].values.reshape(1,-1))\n",
    "\n",
    "print(\"After vectorizations\")\n",
    "print(X_train_pos_ss_normalized.shape, y_train.shape)\n",
    "print(X_test_pos_ss_normalized.shape, y_test.shape)\n",
    "\n",
    "X_train_pos_ss_normalized = X_train_pos_ss_normalized.transpose()\n",
    "X_test_pos_ss_normalized = X_test_pos_ss_normalized.transpose()\n",
    "\n",
    "\n",
    "print(\"After transpose\")\n",
    "print(X_train_pos_ss_normalized.shape, y_train.shape)\n",
    "print(X_test_pos_ss_normalized.shape, y_test.shape)\n",
    "print(\"=\"*100)"
   ]
  },
  {
   "cell_type": "markdown",
   "metadata": {},
   "source": [
    "#### 5. Project grade"
   ]
  },
  {
   "cell_type": "code",
   "execution_count": 179,
   "metadata": {},
   "outputs": [
    {
     "name": "stdout",
     "output_type": "stream",
     "text": [
      "After vectorizations\n",
      "(1, 73196) (73196,)\n",
      "(1, 36052) (36052,)\n",
      "After transpose\n",
      "(73196, 1) (73196,)\n",
      "(36052, 1) (36052,)\n",
      "====================================================================================================\n"
     ]
    }
   ],
   "source": [
    "from sklearn.preprocessing import Normalizer\n",
    "\n",
    "normalizer = Normalizer()\n",
    "\n",
    "# normalizer.fit(X_train['price'].values)\n",
    "# this will rise an error Expected 2D array, got 1D array instead: \n",
    "# array=[105.22 215.96  96.01 ... 368.98  80.53 709.67].\n",
    "# Reshape your data either using \n",
    "# array.reshape(-1, 1) if your data has a single feature \n",
    "# array.reshape(1, -1)  if it contains a single sample.\n",
    "\n",
    "normalizer.fit(response_clean_project_grade_category['x'].values.reshape(1,-1))  #fit has to be done only on Train data\n",
    "\n",
    "X_train_neg_pgc_normalized = normalizer.transform(response_clean_project_grade_category['x'].values.reshape(1,-1))\n",
    "X_test_neg_pgc_normalized = normalizer.transform(response_test_clean_project_grade_category['x'].values.reshape(1,-1))\n",
    "\n",
    "print(\"After vectorizations\")\n",
    "print(X_train_neg_pgc_normalized.shape, y_train.shape)\n",
    "print(X_test_neg_pgc_normalized.shape, y_test.shape)\n",
    "\n",
    "X_train_neg_pgc_normalized = X_train_neg_pgc_normalized.transpose()\n",
    "X_test_neg_pgc_normalized = X_test_neg_pgc_normalized.transpose()\n",
    "\n",
    "\n",
    "print(\"After transpose\")\n",
    "print(X_train_neg_pgc_normalized.shape, y_train.shape)\n",
    "print(X_test_neg_pgc_normalized.shape, y_test.shape)\n",
    "print(\"=\"*100)"
   ]
  },
  {
   "cell_type": "code",
   "execution_count": 180,
   "metadata": {},
   "outputs": [
    {
     "name": "stdout",
     "output_type": "stream",
     "text": [
      "After vectorizations\n",
      "(1, 73196) (73196,)\n",
      "(1, 36052) (36052,)\n",
      "After transpose\n",
      "(73196, 1) (73196,)\n",
      "(36052, 1) (36052,)\n",
      "====================================================================================================\n"
     ]
    }
   ],
   "source": [
    "from sklearn.preprocessing import Normalizer\n",
    "\n",
    "normalizer = Normalizer()\n",
    "\n",
    "# normalizer.fit(X_train['price'].values)\n",
    "# this will rise an error Expected 2D array, got 1D array instead: \n",
    "# array=[105.22 215.96  96.01 ... 368.98  80.53 709.67].\n",
    "# Reshape your data either using \n",
    "# array.reshape(-1, 1) if your data has a single feature \n",
    "# array.reshape(1, -1)  if it contains a single sample.\n",
    "\n",
    "normalizer.fit(response_clean_project_grade_category['y'].values.reshape(1,-1))  #fit has to be done only on Train data\n",
    "\n",
    "X_train_pos_pgc_normalized = normalizer.transform(response_clean_project_grade_category['y'].values.reshape(1,-1))\n",
    "X_test_pos_pgc_normalized = normalizer.transform(response_test_clean_project_grade_category['y'].values.reshape(1,-1))\n",
    "\n",
    "print(\"After vectorizations\")\n",
    "print(X_train_pos_pgc_normalized.shape, y_train.shape)\n",
    "print(X_test_pos_pgc_normalized.shape, y_test.shape)\n",
    "\n",
    "X_train_pos_pgc_normalized = X_train_pos_pgc_normalized.transpose()\n",
    "X_test_pos_pgc_normalized = X_test_pos_pgc_normalized.transpose()\n",
    "\n",
    "\n",
    "print(\"After transpose\")\n",
    "print(X_train_pos_pgc_normalized.shape, y_train.shape)\n",
    "print(X_test_pos_pgc_normalized.shape, y_test.shape)\n",
    "print(\"=\"*100)"
   ]
  },
  {
   "cell_type": "code",
   "execution_count": null,
   "metadata": {},
   "outputs": [],
   "source": []
  },
  {
   "cell_type": "code",
   "execution_count": null,
   "metadata": {},
   "outputs": [],
   "source": []
  }
 ],
 "metadata": {
  "kernelspec": {
   "display_name": "Python 3",
   "language": "python",
   "name": "python3"
  },
  "language_info": {
   "codemirror_mode": {
    "name": "ipython",
    "version": 3
   },
   "file_extension": ".py",
   "mimetype": "text/x-python",
   "name": "python",
   "nbconvert_exporter": "python",
   "pygments_lexer": "ipython3",
   "version": "3.7.6"
  }
 },
 "nbformat": 4,
 "nbformat_minor": 4
}
