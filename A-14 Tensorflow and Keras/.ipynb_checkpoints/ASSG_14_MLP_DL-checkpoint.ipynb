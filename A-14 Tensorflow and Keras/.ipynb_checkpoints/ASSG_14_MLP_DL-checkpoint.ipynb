{
 "cells": [
  {
   "cell_type": "code",
   "execution_count": 2,
   "metadata": {
    "colab": {
     "base_uri": "https://localhost:8080/",
     "height": 71
    },
    "colab_type": "code",
    "id": "lQlTXu1DlR3o",
    "outputId": "7a066a6a-1ac2-4d2b-efc3-2af62bc72649"
   },
   "outputs": [
    {
     "name": "stderr",
     "output_type": "stream",
     "text": [
      "/usr/local/lib/python3.6/dist-packages/statsmodels/tools/_testing.py:19: FutureWarning: pandas.util.testing is deprecated. Use the functions in the public API at pandas.testing instead.\n",
      "  import pandas.util.testing as tm\n"
     ]
    }
   ],
   "source": [
    "# if you keras is not using tensorflow as backend set \"KERAS_BACKEND=tensorflow\" use this command\n",
    "from keras.utils import np_utils \n",
    "from keras.datasets import mnist \n",
    "import seaborn as sns\n",
    "from keras.initializers import RandomNormal"
   ]
  },
  {
   "cell_type": "code",
   "execution_count": 0,
   "metadata": {
    "colab": {},
    "colab_type": "code",
    "id": "kz_WIRRFl6np"
   },
   "outputs": [],
   "source": [
    "%matplotlib notebook\n",
    "import matplotlib.pyplot as plt\n",
    "import numpy as np\n",
    "import time\n",
    "# https://gist.github.com/greydanus/f6eee59eaf1d90fcb3b534a25362cea4\n",
    "# https://stackoverflow.com/a/14434334\n",
    "# this function is used to update the plots for each epoch and error\n",
    "def plt_dynamic(x, vy, ty, ax, colors=['b']):\n",
    "    ax.plot(x, vy, 'b', label=\"Validation Loss\")\n",
    "    ax.plot(x, ty, 'r', label=\"Train Loss\")\n",
    "    plt.legend()\n",
    "    plt.grid()\n",
    "    \n",
    "    fig.canvas.draw()"
   ]
  },
  {
   "cell_type": "code",
   "execution_count": 4,
   "metadata": {
    "colab": {
     "base_uri": "https://localhost:8080/",
     "height": 51
    },
    "colab_type": "code",
    "id": "23bTOILNmQD1",
    "outputId": "b3fafc3a-26d3-4d51-97a2-d858ee9ff663"
   },
   "outputs": [
    {
     "name": "stdout",
     "output_type": "stream",
     "text": [
      "Downloading data from https://s3.amazonaws.com/img-datasets/mnist.npz\n",
      "11493376/11490434 [==============================] - 0s 0us/step\n"
     ]
    }
   ],
   "source": [
    "# the data, shuffled and split between train and test sets \n",
    "(X_train, y_train), (X_test, y_test) = mnist.load_data()"
   ]
  },
  {
   "cell_type": "code",
   "execution_count": 5,
   "metadata": {
    "colab": {
     "base_uri": "https://localhost:8080/",
     "height": 51
    },
    "colab_type": "code",
    "id": "IVXSzxXFmU2M",
    "outputId": "95d65d47-5ab0-468b-c0ab-4002f466a091"
   },
   "outputs": [
    {
     "name": "stdout",
     "output_type": "stream",
     "text": [
      "Number of training examples : 60000 and each image is of shape (28, 28)\n",
      "Number of training examples : 10000 and each image is of shape (28, 28)\n"
     ]
    }
   ],
   "source": [
    "print(\"Number of training examples :\", X_train.shape[0], \"and each image is of shape (%d, %d)\"%(X_train.shape[1], X_train.shape[2]))\n",
    "print(\"Number of training examples :\", X_test.shape[0], \"and each image is of shape (%d, %d)\"%(X_test.shape[1], X_test.shape[2]))"
   ]
  },
  {
   "cell_type": "code",
   "execution_count": 0,
   "metadata": {
    "colab": {},
    "colab_type": "code",
    "id": "EzjuQ2kemZIy"
   },
   "outputs": [],
   "source": [
    "# if you observe the input shape its 2 dimensional vector\n",
    "# for each image we have a (28*28) vector\n",
    "# we will convert the (28*28) vector into single dimensional vector of 1 * 784 \n",
    "\n",
    "X_train = X_train.reshape(X_train.shape[0], X_train.shape[1]*X_train.shape[2]) \n",
    "X_test = X_test.reshape(X_test.shape[0], X_test.shape[1]*X_test.shape[2]) "
   ]
  },
  {
   "cell_type": "code",
   "execution_count": 7,
   "metadata": {
    "colab": {
     "base_uri": "https://localhost:8080/",
     "height": 51
    },
    "colab_type": "code",
    "id": "7Gm6YZoamoru",
    "outputId": "5a26b40f-cc2b-4175-f2a0-29441a3ce8bd"
   },
   "outputs": [
    {
     "name": "stdout",
     "output_type": "stream",
     "text": [
      "Number of training examples : 60000 and each image is of shape (784)\n",
      "Number of training examples : 10000 and each image is of shape (784)\n"
     ]
    }
   ],
   "source": [
    "# after converting the input images from 3d to 2d vectors\n",
    "\n",
    "print(\"Number of training examples :\", X_train.shape[0], \"and each image is of shape (%d)\"%(X_train.shape[1]))\n",
    "print(\"Number of training examples :\", X_test.shape[0], \"and each image is of shape (%d)\"%(X_test.shape[1]))"
   ]
  },
  {
   "cell_type": "code",
   "execution_count": 8,
   "metadata": {
    "colab": {
     "base_uri": "https://localhost:8080/",
     "height": 765
    },
    "colab_type": "code",
    "id": "OKgsu4K5mrTD",
    "outputId": "9e3c3cd2-c6cb-4c39-d683-449eca973144"
   },
   "outputs": [
    {
     "name": "stdout",
     "output_type": "stream",
     "text": [
      "[  0   0   0   0   0   0   0   0   0   0   0   0   0   0   0   0   0   0\n",
      "   0   0   0   0   0   0   0   0   0   0   0   0   0   0   0   0   0   0\n",
      "   0   0   0   0   0   0   0   0   0   0   0   0   0   0   0   0   0   0\n",
      "   0   0   0   0   0   0   0   0   0   0   0   0   0   0   0   0   0   0\n",
      "   0   0   0   0   0   0   0   0   0   0   0   0   0   0   0   0   0   0\n",
      "   0   0   0   0   0   0   0   0   0   0   0   0   0   0   0   0   0   0\n",
      "   0   0   0   0   0   0   0   0   0   0   0   0   0   0   0   0   0   0\n",
      "   0   0   0   0   0   0   0   0   0   0   0   0   0   0   0   0   0   0\n",
      "   0   0   0   0   0   0   0   0   3  18  18  18 126 136 175  26 166 255\n",
      " 247 127   0   0   0   0   0   0   0   0   0   0   0   0  30  36  94 154\n",
      " 170 253 253 253 253 253 225 172 253 242 195  64   0   0   0   0   0   0\n",
      "   0   0   0   0   0  49 238 253 253 253 253 253 253 253 253 251  93  82\n",
      "  82  56  39   0   0   0   0   0   0   0   0   0   0   0   0  18 219 253\n",
      " 253 253 253 253 198 182 247 241   0   0   0   0   0   0   0   0   0   0\n",
      "   0   0   0   0   0   0   0   0  80 156 107 253 253 205  11   0  43 154\n",
      "   0   0   0   0   0   0   0   0   0   0   0   0   0   0   0   0   0   0\n",
      "   0  14   1 154 253  90   0   0   0   0   0   0   0   0   0   0   0   0\n",
      "   0   0   0   0   0   0   0   0   0   0   0   0   0 139 253 190   2   0\n",
      "   0   0   0   0   0   0   0   0   0   0   0   0   0   0   0   0   0   0\n",
      "   0   0   0   0   0  11 190 253  70   0   0   0   0   0   0   0   0   0\n",
      "   0   0   0   0   0   0   0   0   0   0   0   0   0   0   0   0  35 241\n",
      " 225 160 108   1   0   0   0   0   0   0   0   0   0   0   0   0   0   0\n",
      "   0   0   0   0   0   0   0   0   0  81 240 253 253 119  25   0   0   0\n",
      "   0   0   0   0   0   0   0   0   0   0   0   0   0   0   0   0   0   0\n",
      "   0   0  45 186 253 253 150  27   0   0   0   0   0   0   0   0   0   0\n",
      "   0   0   0   0   0   0   0   0   0   0   0   0   0  16  93 252 253 187\n",
      "   0   0   0   0   0   0   0   0   0   0   0   0   0   0   0   0   0   0\n",
      "   0   0   0   0   0   0   0 249 253 249  64   0   0   0   0   0   0   0\n",
      "   0   0   0   0   0   0   0   0   0   0   0   0   0   0  46 130 183 253\n",
      " 253 207   2   0   0   0   0   0   0   0   0   0   0   0   0   0   0   0\n",
      "   0   0   0   0  39 148 229 253 253 253 250 182   0   0   0   0   0   0\n",
      "   0   0   0   0   0   0   0   0   0   0   0   0  24 114 221 253 253 253\n",
      " 253 201  78   0   0   0   0   0   0   0   0   0   0   0   0   0   0   0\n",
      "   0   0  23  66 213 253 253 253 253 198  81   2   0   0   0   0   0   0\n",
      "   0   0   0   0   0   0   0   0   0   0  18 171 219 253 253 253 253 195\n",
      "  80   9   0   0   0   0   0   0   0   0   0   0   0   0   0   0   0   0\n",
      "  55 172 226 253 253 253 253 244 133  11   0   0   0   0   0   0   0   0\n",
      "   0   0   0   0   0   0   0   0   0   0 136 253 253 253 212 135 132  16\n",
      "   0   0   0   0   0   0   0   0   0   0   0   0   0   0   0   0   0   0\n",
      "   0   0   0   0   0   0   0   0   0   0   0   0   0   0   0   0   0   0\n",
      "   0   0   0   0   0   0   0   0   0   0   0   0   0   0   0   0   0   0\n",
      "   0   0   0   0   0   0   0   0   0   0   0   0   0   0   0   0   0   0\n",
      "   0   0   0   0   0   0   0   0   0   0   0   0   0   0   0   0   0   0\n",
      "   0   0   0   0   0   0   0   0   0   0]\n"
     ]
    }
   ],
   "source": [
    "# An example data point\n",
    "print(X_train[0])"
   ]
  },
  {
   "cell_type": "code",
   "execution_count": 0,
   "metadata": {
    "colab": {},
    "colab_type": "code",
    "id": "i6t_wlSUmtJG"
   },
   "outputs": [],
   "source": [
    "# if we observe the above matrix each cell is having a value between 0-255\n",
    "# before we move to apply machine learning algorithms lets try to normalize the data\n",
    "# X => (X - Xmin)/(Xmax-Xmin) = X/255\n",
    "\n",
    "X_train = X_train/255\n",
    "X_test = X_test/255"
   ]
  },
  {
   "cell_type": "code",
   "execution_count": 10,
   "metadata": {
    "colab": {
     "base_uri": "https://localhost:8080/",
     "height": 1000
    },
    "colab_type": "code",
    "id": "dgJoG7G7m4TI",
    "outputId": "ceaf7074-3b92-413c-d059-b41466506687"
   },
   "outputs": [
    {
     "name": "stdout",
     "output_type": "stream",
     "text": [
      "[0.         0.         0.         0.         0.         0.\n",
      " 0.         0.         0.         0.         0.         0.\n",
      " 0.         0.         0.         0.         0.         0.\n",
      " 0.         0.         0.         0.         0.         0.\n",
      " 0.         0.         0.         0.         0.         0.\n",
      " 0.         0.         0.         0.         0.         0.\n",
      " 0.         0.         0.         0.         0.         0.\n",
      " 0.         0.         0.         0.         0.         0.\n",
      " 0.         0.         0.         0.         0.         0.\n",
      " 0.         0.         0.         0.         0.         0.\n",
      " 0.         0.         0.         0.         0.         0.\n",
      " 0.         0.         0.         0.         0.         0.\n",
      " 0.         0.         0.         0.         0.         0.\n",
      " 0.         0.         0.         0.         0.         0.\n",
      " 0.         0.         0.         0.         0.         0.\n",
      " 0.         0.         0.         0.         0.         0.\n",
      " 0.         0.         0.         0.         0.         0.\n",
      " 0.         0.         0.         0.         0.         0.\n",
      " 0.         0.         0.         0.         0.         0.\n",
      " 0.         0.         0.         0.         0.         0.\n",
      " 0.         0.         0.         0.         0.         0.\n",
      " 0.         0.         0.         0.         0.         0.\n",
      " 0.         0.         0.         0.         0.         0.\n",
      " 0.         0.         0.         0.         0.         0.\n",
      " 0.         0.         0.         0.         0.         0.\n",
      " 0.         0.         0.01176471 0.07058824 0.07058824 0.07058824\n",
      " 0.49411765 0.53333333 0.68627451 0.10196078 0.65098039 1.\n",
      " 0.96862745 0.49803922 0.         0.         0.         0.\n",
      " 0.         0.         0.         0.         0.         0.\n",
      " 0.         0.         0.11764706 0.14117647 0.36862745 0.60392157\n",
      " 0.66666667 0.99215686 0.99215686 0.99215686 0.99215686 0.99215686\n",
      " 0.88235294 0.6745098  0.99215686 0.94901961 0.76470588 0.25098039\n",
      " 0.         0.         0.         0.         0.         0.\n",
      " 0.         0.         0.         0.         0.         0.19215686\n",
      " 0.93333333 0.99215686 0.99215686 0.99215686 0.99215686 0.99215686\n",
      " 0.99215686 0.99215686 0.99215686 0.98431373 0.36470588 0.32156863\n",
      " 0.32156863 0.21960784 0.15294118 0.         0.         0.\n",
      " 0.         0.         0.         0.         0.         0.\n",
      " 0.         0.         0.         0.07058824 0.85882353 0.99215686\n",
      " 0.99215686 0.99215686 0.99215686 0.99215686 0.77647059 0.71372549\n",
      " 0.96862745 0.94509804 0.         0.         0.         0.\n",
      " 0.         0.         0.         0.         0.         0.\n",
      " 0.         0.         0.         0.         0.         0.\n",
      " 0.         0.         0.31372549 0.61176471 0.41960784 0.99215686\n",
      " 0.99215686 0.80392157 0.04313725 0.         0.16862745 0.60392157\n",
      " 0.         0.         0.         0.         0.         0.\n",
      " 0.         0.         0.         0.         0.         0.\n",
      " 0.         0.         0.         0.         0.         0.\n",
      " 0.         0.05490196 0.00392157 0.60392157 0.99215686 0.35294118\n",
      " 0.         0.         0.         0.         0.         0.\n",
      " 0.         0.         0.         0.         0.         0.\n",
      " 0.         0.         0.         0.         0.         0.\n",
      " 0.         0.         0.         0.         0.         0.\n",
      " 0.         0.54509804 0.99215686 0.74509804 0.00784314 0.\n",
      " 0.         0.         0.         0.         0.         0.\n",
      " 0.         0.         0.         0.         0.         0.\n",
      " 0.         0.         0.         0.         0.         0.\n",
      " 0.         0.         0.         0.         0.         0.04313725\n",
      " 0.74509804 0.99215686 0.2745098  0.         0.         0.\n",
      " 0.         0.         0.         0.         0.         0.\n",
      " 0.         0.         0.         0.         0.         0.\n",
      " 0.         0.         0.         0.         0.         0.\n",
      " 0.         0.         0.         0.         0.1372549  0.94509804\n",
      " 0.88235294 0.62745098 0.42352941 0.00392157 0.         0.\n",
      " 0.         0.         0.         0.         0.         0.\n",
      " 0.         0.         0.         0.         0.         0.\n",
      " 0.         0.         0.         0.         0.         0.\n",
      " 0.         0.         0.         0.31764706 0.94117647 0.99215686\n",
      " 0.99215686 0.46666667 0.09803922 0.         0.         0.\n",
      " 0.         0.         0.         0.         0.         0.\n",
      " 0.         0.         0.         0.         0.         0.\n",
      " 0.         0.         0.         0.         0.         0.\n",
      " 0.         0.         0.17647059 0.72941176 0.99215686 0.99215686\n",
      " 0.58823529 0.10588235 0.         0.         0.         0.\n",
      " 0.         0.         0.         0.         0.         0.\n",
      " 0.         0.         0.         0.         0.         0.\n",
      " 0.         0.         0.         0.         0.         0.\n",
      " 0.         0.0627451  0.36470588 0.98823529 0.99215686 0.73333333\n",
      " 0.         0.         0.         0.         0.         0.\n",
      " 0.         0.         0.         0.         0.         0.\n",
      " 0.         0.         0.         0.         0.         0.\n",
      " 0.         0.         0.         0.         0.         0.\n",
      " 0.         0.97647059 0.99215686 0.97647059 0.25098039 0.\n",
      " 0.         0.         0.         0.         0.         0.\n",
      " 0.         0.         0.         0.         0.         0.\n",
      " 0.         0.         0.         0.         0.         0.\n",
      " 0.         0.         0.18039216 0.50980392 0.71764706 0.99215686\n",
      " 0.99215686 0.81176471 0.00784314 0.         0.         0.\n",
      " 0.         0.         0.         0.         0.         0.\n",
      " 0.         0.         0.         0.         0.         0.\n",
      " 0.         0.         0.         0.         0.15294118 0.58039216\n",
      " 0.89803922 0.99215686 0.99215686 0.99215686 0.98039216 0.71372549\n",
      " 0.         0.         0.         0.         0.         0.\n",
      " 0.         0.         0.         0.         0.         0.\n",
      " 0.         0.         0.         0.         0.         0.\n",
      " 0.09411765 0.44705882 0.86666667 0.99215686 0.99215686 0.99215686\n",
      " 0.99215686 0.78823529 0.30588235 0.         0.         0.\n",
      " 0.         0.         0.         0.         0.         0.\n",
      " 0.         0.         0.         0.         0.         0.\n",
      " 0.         0.         0.09019608 0.25882353 0.83529412 0.99215686\n",
      " 0.99215686 0.99215686 0.99215686 0.77647059 0.31764706 0.00784314\n",
      " 0.         0.         0.         0.         0.         0.\n",
      " 0.         0.         0.         0.         0.         0.\n",
      " 0.         0.         0.         0.         0.07058824 0.67058824\n",
      " 0.85882353 0.99215686 0.99215686 0.99215686 0.99215686 0.76470588\n",
      " 0.31372549 0.03529412 0.         0.         0.         0.\n",
      " 0.         0.         0.         0.         0.         0.\n",
      " 0.         0.         0.         0.         0.         0.\n",
      " 0.21568627 0.6745098  0.88627451 0.99215686 0.99215686 0.99215686\n",
      " 0.99215686 0.95686275 0.52156863 0.04313725 0.         0.\n",
      " 0.         0.         0.         0.         0.         0.\n",
      " 0.         0.         0.         0.         0.         0.\n",
      " 0.         0.         0.         0.         0.53333333 0.99215686\n",
      " 0.99215686 0.99215686 0.83137255 0.52941176 0.51764706 0.0627451\n",
      " 0.         0.         0.         0.         0.         0.\n",
      " 0.         0.         0.         0.         0.         0.\n",
      " 0.         0.         0.         0.         0.         0.\n",
      " 0.         0.         0.         0.         0.         0.\n",
      " 0.         0.         0.         0.         0.         0.\n",
      " 0.         0.         0.         0.         0.         0.\n",
      " 0.         0.         0.         0.         0.         0.\n",
      " 0.         0.         0.         0.         0.         0.\n",
      " 0.         0.         0.         0.         0.         0.\n",
      " 0.         0.         0.         0.         0.         0.\n",
      " 0.         0.         0.         0.         0.         0.\n",
      " 0.         0.         0.         0.         0.         0.\n",
      " 0.         0.         0.         0.         0.         0.\n",
      " 0.         0.         0.         0.         0.         0.\n",
      " 0.         0.         0.         0.         0.         0.\n",
      " 0.         0.         0.         0.         0.         0.\n",
      " 0.         0.         0.         0.        ]\n"
     ]
    }
   ],
   "source": [
    "# example data point after normlizing\n",
    "print(X_train[0])"
   ]
  },
  {
   "cell_type": "code",
   "execution_count": 11,
   "metadata": {
    "colab": {
     "base_uri": "https://localhost:8080/",
     "height": 51
    },
    "colab_type": "code",
    "id": "B0h0U7Xum-ja",
    "outputId": "81a181d5-c0b2-4566-f28b-2236933e6234"
   },
   "outputs": [
    {
     "name": "stdout",
     "output_type": "stream",
     "text": [
      "Class label of first image : 5\n",
      "After converting the output into a vector :  [0. 0. 0. 0. 0. 1. 0. 0. 0. 0.]\n"
     ]
    }
   ],
   "source": [
    "# here we are having a class number for each image\n",
    "print(\"Class label of first image :\", y_train[0])\n",
    "\n",
    "# lets convert this into a 10 dimensional vector\n",
    "# ex: consider an image is 5 convert it into 5 => [0, 0, 0, 0, 0, 1, 0, 0, 0, 0]\n",
    "# this conversion needed for MLPs \n",
    "\n",
    "Y_train = np_utils.to_categorical(y_train, 10) \n",
    "Y_test = np_utils.to_categorical(y_test, 10)\n",
    "\n",
    "print(\"After converting the output into a vector : \",Y_train[0])"
   ]
  },
  {
   "cell_type": "markdown",
   "metadata": {
    "colab_type": "text",
    "id": "8ug1QoannvKo"
   },
   "source": [
    "**Softmax classifier**"
   ]
  },
  {
   "cell_type": "code",
   "execution_count": 0,
   "metadata": {
    "colab": {},
    "colab_type": "code",
    "id": "GvhUaz3Wn6M1"
   },
   "outputs": [],
   "source": [
    "# https://keras.io/getting-started/sequential-model-guide/\n",
    "\n",
    "# The Sequential model is a linear stack of layers.\n",
    "# you can create a Sequential model by passing a list of layer instances to the constructor:\n",
    "\n",
    "# model = Sequential([\n",
    "#     Dense(32, input_shape=(784,)),\n",
    "#     Activation('relu'),\n",
    "#     Dense(10),\n",
    "#     Activation('softmax'),\n",
    "# ])\n",
    "\n",
    "# You can also simply add layers via the .add() method:\n",
    "\n",
    "# model = Sequential()\n",
    "# model.add(Dense(32, input_dim=784))\n",
    "# model.add(Activation('relu'))\n",
    "\n",
    "###\n",
    "\n",
    "# https://keras.io/layers/core/\n",
    "\n",
    "# keras.layers.Dense(units, activation=None, use_bias=True, kernel_initializer='glorot_uniform', \n",
    "# bias_initializer='zeros', kernel_regularizer=None, bias_regularizer=None, activity_regularizer=None, \n",
    "# kernel_constraint=None, bias_constraint=None)\n",
    "\n",
    "# Dense implements the operation: output = activation(dot(input, kernel) + bias) where\n",
    "# activation is the element-wise activation function passed as the activation argument, \n",
    "# kernel is a weights matrix created by the layer, and \n",
    "# bias is a bias vector created by the layer (only applicable if use_bias is True).\n",
    "\n",
    "# output = activation(dot(input, kernel) + bias)  => y = activation(WT. X + b)\n",
    "\n",
    "####\n",
    "\n",
    "# https://keras.io/activations/\n",
    "\n",
    "# Activations can either be used through an Activation layer, or through the activation argument supported by all forward layers:\n",
    "\n",
    "# from keras.layers import Activation, Dense\n",
    "\n",
    "# model.add(Dense(64))\n",
    "# model.add(Activation('tanh'))\n",
    "\n",
    "# This is equivalent to:\n",
    "# model.add(Dense(64, activation='tanh'))\n",
    "\n",
    "# there are many activation functions ar available ex: tanh, relu, softmax\n",
    "\n",
    "\n",
    "from keras.models import Sequential \n",
    "from keras.layers import Dense, Activation \n"
   ]
  },
  {
   "cell_type": "code",
   "execution_count": 0,
   "metadata": {
    "colab": {},
    "colab_type": "code",
    "id": "6QgSzUf2n_3S"
   },
   "outputs": [],
   "source": [
    "# some model parameters\n",
    "\n",
    "output_dim = 10\n",
    "input_dim = X_train.shape[1]\n",
    "\n",
    "batch_size = 128 \n",
    "nb_epoch = 20"
   ]
  },
  {
   "cell_type": "code",
   "execution_count": 43,
   "metadata": {
    "colab": {
     "base_uri": "https://localhost:8080/",
     "height": 34
    },
    "colab_type": "code",
    "id": "1wrdeOBLExJq",
    "outputId": "96d24cb1-b018-44ed-f1d9-6bbde50b1a14"
   },
   "outputs": [
    {
     "data": {
      "text/plain": [
       "784"
      ]
     },
     "execution_count": 43,
     "metadata": {
      "tags": []
     },
     "output_type": "execute_result"
    }
   ],
   "source": [
    "X_train.shape[1]"
   ]
  },
  {
   "cell_type": "markdown",
   "metadata": {
    "colab_type": "text",
    "id": "uKtguMRm0iYl"
   },
   "source": [
    "<h2> 1. MLP 2-Hidden layer architecture </h2> "
   ]
  },
  {
   "cell_type": "markdown",
   "metadata": {
    "colab_type": "text",
    "id": "znSGxtdJ0Gbg"
   },
   "source": [
    "1.1. MLP + ReLU + ADAM "
   ]
  },
  {
   "cell_type": "code",
   "execution_count": 29,
   "metadata": {
    "colab": {
     "base_uri": "https://localhost:8080/",
     "height": 969
    },
    "colab_type": "code",
    "id": "o8bcZWGVqAk4",
    "outputId": "f920f9f9-4bba-4f94-d292-ef34bde903be"
   },
   "outputs": [
    {
     "name": "stdout",
     "output_type": "stream",
     "text": [
      "Model: \"sequential_3\"\n",
      "_________________________________________________________________\n",
      "Layer (type)                 Output Shape              Param #   \n",
      "=================================================================\n",
      "dense_5 (Dense)              (None, 512)               401920    \n",
      "_________________________________________________________________\n",
      "dense_6 (Dense)              (None, 256)               131328    \n",
      "_________________________________________________________________\n",
      "dense_7 (Dense)              (None, 10)                2570      \n",
      "=================================================================\n",
      "Total params: 535,818\n",
      "Trainable params: 535,818\n",
      "Non-trainable params: 0\n",
      "_________________________________________________________________\n",
      "None\n",
      "Train on 60000 samples, validate on 10000 samples\n",
      "Epoch 1/20\n",
      "60000/60000 [==============================] - 7s 109us/step - loss: 0.2122 - accuracy: 0.9362 - val_loss: 0.1199 - val_accuracy: 0.9620\n",
      "Epoch 2/20\n",
      "60000/60000 [==============================] - 7s 109us/step - loss: 0.0793 - accuracy: 0.9759 - val_loss: 0.0749 - val_accuracy: 0.9760\n",
      "Epoch 3/20\n",
      "60000/60000 [==============================] - 6s 103us/step - loss: 0.0512 - accuracy: 0.9841 - val_loss: 0.0709 - val_accuracy: 0.9777\n",
      "Epoch 4/20\n",
      "60000/60000 [==============================] - 6s 105us/step - loss: 0.0336 - accuracy: 0.9893 - val_loss: 0.0733 - val_accuracy: 0.9777\n",
      "Epoch 5/20\n",
      "60000/60000 [==============================] - 6s 105us/step - loss: 0.0267 - accuracy: 0.9914 - val_loss: 0.0747 - val_accuracy: 0.9777\n",
      "Epoch 6/20\n",
      "60000/60000 [==============================] - 6s 106us/step - loss: 0.0175 - accuracy: 0.9947 - val_loss: 0.0910 - val_accuracy: 0.9754\n",
      "Epoch 7/20\n",
      "60000/60000 [==============================] - 6s 104us/step - loss: 0.0170 - accuracy: 0.9942 - val_loss: 0.0713 - val_accuracy: 0.9796\n",
      "Epoch 8/20\n",
      "60000/60000 [==============================] - 6s 105us/step - loss: 0.0145 - accuracy: 0.9953 - val_loss: 0.0985 - val_accuracy: 0.9738\n",
      "Epoch 9/20\n",
      "60000/60000 [==============================] - 6s 104us/step - loss: 0.0141 - accuracy: 0.9954 - val_loss: 0.0736 - val_accuracy: 0.9815\n",
      "Epoch 10/20\n",
      "60000/60000 [==============================] - 6s 105us/step - loss: 0.0117 - accuracy: 0.9959 - val_loss: 0.0878 - val_accuracy: 0.9797\n",
      "Epoch 11/20\n",
      "60000/60000 [==============================] - 6s 106us/step - loss: 0.0138 - accuracy: 0.9957 - val_loss: 0.0906 - val_accuracy: 0.9788\n",
      "Epoch 12/20\n",
      "60000/60000 [==============================] - 6s 105us/step - loss: 0.0115 - accuracy: 0.9960 - val_loss: 0.0676 - val_accuracy: 0.9839\n",
      "Epoch 13/20\n",
      "60000/60000 [==============================] - 6s 103us/step - loss: 0.0104 - accuracy: 0.9963 - val_loss: 0.0970 - val_accuracy: 0.9782\n",
      "Epoch 14/20\n",
      "60000/60000 [==============================] - 6s 104us/step - loss: 0.0099 - accuracy: 0.9965 - val_loss: 0.1023 - val_accuracy: 0.9792\n",
      "Epoch 15/20\n",
      "60000/60000 [==============================] - 6s 105us/step - loss: 0.0111 - accuracy: 0.9964 - val_loss: 0.0926 - val_accuracy: 0.9803\n",
      "Epoch 16/20\n",
      "60000/60000 [==============================] - 6s 105us/step - loss: 0.0071 - accuracy: 0.9976 - val_loss: 0.0873 - val_accuracy: 0.9805\n",
      "Epoch 17/20\n",
      "60000/60000 [==============================] - 6s 104us/step - loss: 0.0078 - accuracy: 0.9972 - val_loss: 0.1013 - val_accuracy: 0.9788\n",
      "Epoch 18/20\n",
      "60000/60000 [==============================] - 6s 104us/step - loss: 0.0096 - accuracy: 0.9968 - val_loss: 0.0973 - val_accuracy: 0.9822\n",
      "Epoch 19/20\n",
      "60000/60000 [==============================] - 6s 105us/step - loss: 0.0063 - accuracy: 0.9979 - val_loss: 0.1016 - val_accuracy: 0.9811\n",
      "Epoch 20/20\n",
      "60000/60000 [==============================] - 6s 103us/step - loss: 0.0049 - accuracy: 0.9985 - val_loss: 0.1079 - val_accuracy: 0.9796\n"
     ]
    }
   ],
   "source": [
    "model_relu = Sequential()\n",
    "model_relu.add(Dense(512, activation='relu', input_shape=(input_dim,), kernel_initializer=RandomNormal(mean=0.0, stddev=0.062, seed=None)))\n",
    "model_relu.add(Dense(256, activation='relu', kernel_initializer=RandomNormal(mean=0.0, stddev=0.125, seed=None)) )\n",
    "model_relu.add(Dense(output_dim, activation='softmax'))\n",
    "\n",
    "print(model_relu.summary())\n",
    "\n",
    "model_relu.compile(optimizer='adam', loss='categorical_crossentropy', metrics=['accuracy'])\n",
    "\n",
    "history1 = model_relu.fit(X_train, Y_train, batch_size=batch_size, epochs=nb_epoch, verbose=1, validation_data=(X_test, Y_test))"
   ]
  },
  {
   "cell_type": "code",
   "execution_count": 33,
   "metadata": {
    "colab": {
     "base_uri": "https://localhost:8080/",
     "height": 313
    },
    "colab_type": "code",
    "id": "jL509U3LqxSP",
    "outputId": "4306fb34-c79b-49f2-91bb-fd468785d135"
   },
   "outputs": [
    {
     "name": "stdout",
     "output_type": "stream",
     "text": [
      "Test score: 0.10785088968896661\n",
      "Test accuracy: 0.9796000123023987\n"
     ]
    },
    {
     "data": {
      "image/png": "[encoded data removed]",
      "text/plain": [
       "<Figure size 432x288 with 1 Axes>"
      ]
     },
     "metadata": {
      "needs_background": "light",
      "tags": []
     },
     "output_type": "display_data"
    }
   ],
   "source": [
    "score = model_relu.evaluate(X_test, Y_test, verbose=0) \n",
    "print('Test score:', score[0]) \n",
    "print('Test accuracy:', score[1])\n",
    "\n",
    "fig,ax = plt.subplots(1,1)\n",
    "ax.set_xlabel('epoch') ; ax.set_ylabel('Categorical Crossentropy Loss')\n",
    "\n",
    "# list of epoch numbers\n",
    "x = list(range(1,nb_epoch+1))\n",
    "\n",
    "vy = history1.history['val_loss']\n",
    "ty = history1.history['loss']\n",
    "plt_dynamic(x, vy, ty, ax)\n"
   ]
  },
  {
   "cell_type": "markdown",
   "metadata": {
    "colab_type": "text",
    "id": "HvsF2A_Lz8Xc"
   },
   "source": [
    "%matplotlib inline\n",
    "\n",
    "plt.close('all')"
   ]
  },
  {
   "cell_type": "markdown",
   "metadata": {
    "colab_type": "text",
    "id": "CBRqZ6KV1jWG"
   },
   "source": [
    "1.2. MLP + ReLU + ADAM + Batch Normalization + HE normal initialization "
   ]
  },
  {
   "cell_type": "code",
   "execution_count": 36,
   "metadata": {
    "colab": {
     "base_uri": "https://localhost:8080/",
     "height": 986
    },
    "colab_type": "code",
    "id": "ADNF2j09z_L5",
    "outputId": "087e85cf-9c26-4ca0-bff5-2a164a8d517d"
   },
   "outputs": [
    {
     "name": "stdout",
     "output_type": "stream",
     "text": [
      "Model: \"sequential_6\"\n",
      "_________________________________________________________________\n",
      "Layer (type)                 Output Shape              Param #   \n",
      "=================================================================\n",
      "dense_11 (Dense)             (None, 256)               200960    \n",
      "_________________________________________________________________\n",
      "dense_12 (Dense)             (None, 128)               32896     \n",
      "_________________________________________________________________\n",
      "batch_normalization_3 (Batch (None, 128)               512       \n",
      "_________________________________________________________________\n",
      "dense_13 (Dense)             (None, 10)                1290      \n",
      "=================================================================\n",
      "Total params: 235,658\n",
      "Trainable params: 235,402\n",
      "Non-trainable params: 256\n",
      "_________________________________________________________________\n",
      "Train on 60000 samples, validate on 10000 samples\n",
      "Epoch 1/20\n",
      "60000/60000 [==============================] - 4s 58us/step - loss: 0.2228 - accuracy: 0.9351 - val_loss: 0.1234 - val_accuracy: 0.9608\n",
      "Epoch 2/20\n",
      "60000/60000 [==============================] - 3s 54us/step - loss: 0.0859 - accuracy: 0.9741 - val_loss: 0.0993 - val_accuracy: 0.9699\n",
      "Epoch 3/20\n",
      "60000/60000 [==============================] - 3s 57us/step - loss: 0.0556 - accuracy: 0.9831 - val_loss: 0.0821 - val_accuracy: 0.9736\n",
      "Epoch 4/20\n",
      "60000/60000 [==============================] - 3s 55us/step - loss: 0.0405 - accuracy: 0.9874 - val_loss: 0.0836 - val_accuracy: 0.9733\n",
      "Epoch 5/20\n",
      "60000/60000 [==============================] - 3s 55us/step - loss: 0.0285 - accuracy: 0.9910 - val_loss: 0.0760 - val_accuracy: 0.9769\n",
      "Epoch 6/20\n",
      "60000/60000 [==============================] - 3s 57us/step - loss: 0.0219 - accuracy: 0.9929 - val_loss: 0.0801 - val_accuracy: 0.9769\n",
      "Epoch 7/20\n",
      "60000/60000 [==============================] - 3s 56us/step - loss: 0.0222 - accuracy: 0.9925 - val_loss: 0.0749 - val_accuracy: 0.9795\n",
      "Epoch 8/20\n",
      "60000/60000 [==============================] - 3s 55us/step - loss: 0.0179 - accuracy: 0.9940 - val_loss: 0.0730 - val_accuracy: 0.9796\n",
      "Epoch 9/20\n",
      "60000/60000 [==============================] - 3s 56us/step - loss: 0.0167 - accuracy: 0.9948 - val_loss: 0.0778 - val_accuracy: 0.9785\n",
      "Epoch 10/20\n",
      "60000/60000 [==============================] - 3s 56us/step - loss: 0.0092 - accuracy: 0.9971 - val_loss: 0.0807 - val_accuracy: 0.9790\n",
      "Epoch 11/20\n",
      "60000/60000 [==============================] - 3s 56us/step - loss: 0.0099 - accuracy: 0.9970 - val_loss: 0.0852 - val_accuracy: 0.9781\n",
      "Epoch 12/20\n",
      "60000/60000 [==============================] - 3s 58us/step - loss: 0.0161 - accuracy: 0.9949 - val_loss: 0.0730 - val_accuracy: 0.9799\n",
      "Epoch 13/20\n",
      "60000/60000 [==============================] - 3s 55us/step - loss: 0.0113 - accuracy: 0.9962 - val_loss: 0.0860 - val_accuracy: 0.9796\n",
      "Epoch 14/20\n",
      "60000/60000 [==============================] - 3s 55us/step - loss: 0.0075 - accuracy: 0.9977 - val_loss: 0.0869 - val_accuracy: 0.9793\n",
      "Epoch 15/20\n",
      "60000/60000 [==============================] - 3s 55us/step - loss: 0.0070 - accuracy: 0.9977 - val_loss: 0.0905 - val_accuracy: 0.9783\n",
      "Epoch 16/20\n",
      "60000/60000 [==============================] - 3s 56us/step - loss: 0.0073 - accuracy: 0.9978 - val_loss: 0.0867 - val_accuracy: 0.9803\n",
      "Epoch 17/20\n",
      "60000/60000 [==============================] - 3s 55us/step - loss: 0.0091 - accuracy: 0.9969 - val_loss: 0.1147 - val_accuracy: 0.9765\n",
      "Epoch 18/20\n",
      "60000/60000 [==============================] - 3s 56us/step - loss: 0.0111 - accuracy: 0.9962 - val_loss: 0.0913 - val_accuracy: 0.9778\n",
      "Epoch 19/20\n",
      "60000/60000 [==============================] - 3s 56us/step - loss: 0.0049 - accuracy: 0.9985 - val_loss: 0.0907 - val_accuracy: 0.9791\n",
      "Epoch 20/20\n",
      "60000/60000 [==============================] - 3s 55us/step - loss: 0.0066 - accuracy: 0.9978 - val_loss: 0.1016 - val_accuracy: 0.9766\n"
     ]
    }
   ],
   "source": [
    "from keras.layers.normalization import BatchNormalization\n",
    "from keras.initializers import he_normal\n",
    "\n",
    "model_2 = Sequential()\n",
    "\n",
    "model_2.add(Dense(256, activation='relu', input_shape=(input_dim,),kernel_initializer=he_normal(seed=None)))\n",
    "model_2.add(Dense(128, activation='relu', kernel_initializer=he_normal(seed=None)) )\n",
    "model_2.add(BatchNormalization())\n",
    "\n",
    "model_2.add(Dense(output_dim, activation='softmax'))\n",
    "\n",
    "\n",
    "model_2.summary()\n",
    "\n",
    "model_2.compile(optimizer='adam', loss='categorical_crossentropy', metrics=['accuracy'])\n",
    "\n",
    "history2 = model_2.fit(X_train, Y_train, batch_size=batch_size, epochs=nb_epoch, verbose=1, validation_data=(X_test, Y_test))"
   ]
  },
  {
   "cell_type": "code",
   "execution_count": 37,
   "metadata": {
    "colab": {
     "base_uri": "https://localhost:8080/",
     "height": 313
    },
    "colab_type": "code",
    "id": "ZW-fSvAr2mL7",
    "outputId": "8863f141-5ca1-40cb-97e2-eed23b8b29e0"
   },
   "outputs": [
    {
     "name": "stdout",
     "output_type": "stream",
     "text": [
      "Test score: 0.10163859208421328\n",
      "Test accuracy: 0.9765999913215637\n"
     ]
    },
    {
     "data": {
      "image/png": "[encoded data removed]",
      "text/plain": [
       "<Figure size 432x288 with 1 Axes>"
      ]
     },
     "metadata": {
      "needs_background": "light",
      "tags": []
     },
     "output_type": "display_data"
    }
   ],
   "source": [
    "score = model_2.evaluate(X_test, Y_test, verbose=0) \n",
    "print('Test score:', score[0]) \n",
    "print('Test accuracy:', score[1])\n",
    "\n",
    "fig,ax = plt.subplots(1,1)\n",
    "ax.set_xlabel('epoch') ; ax.set_ylabel('Categorical Crossentropy Loss')\n",
    "\n",
    "# list of epoch numbers\n",
    "x = list(range(1,nb_epoch+1))\n",
    "\n",
    "vy = history2.history['val_loss']\n",
    "ty = history2.history['loss']\n",
    "plt_dynamic(x, vy, ty, ax)\n"
   ]
  },
  {
   "cell_type": "markdown",
   "metadata": {
    "colab_type": "text",
    "id": "E8LEt74L3-BJ"
   },
   "source": [
    "1.3. MLP + ReLU + ADAM + Batch Normalization + Dropout + HE normal initialization "
   ]
  },
  {
   "cell_type": "code",
   "execution_count": 39,
   "metadata": {
    "colab": {
     "base_uri": "https://localhost:8080/",
     "height": 1000
    },
    "colab_type": "code",
    "id": "6MfaSPKb3-BL",
    "outputId": "980aef22-fb3e-4185-dfc6-b57b82f0b871"
   },
   "outputs": [
    {
     "name": "stdout",
     "output_type": "stream",
     "text": [
      "Model: \"sequential_8\"\n",
      "_________________________________________________________________\n",
      "Layer (type)                 Output Shape              Param #   \n",
      "=================================================================\n",
      "dense_15 (Dense)             (None, 512)               401920    \n",
      "_________________________________________________________________\n",
      "dropout_1 (Dropout)          (None, 512)               0         \n",
      "_________________________________________________________________\n",
      "dense_16 (Dense)             (None, 384)               196992    \n",
      "_________________________________________________________________\n",
      "dropout_2 (Dropout)          (None, 384)               0         \n",
      "_________________________________________________________________\n",
      "batch_normalization_4 (Batch (None, 384)               1536      \n",
      "_________________________________________________________________\n",
      "dense_17 (Dense)             (None, 10)                3850      \n",
      "=================================================================\n",
      "Total params: 604,298\n",
      "Trainable params: 603,530\n",
      "Non-trainable params: 768\n",
      "_________________________________________________________________\n",
      "Train on 60000 samples, validate on 10000 samples\n",
      "Epoch 1/20\n",
      "60000/60000 [==============================] - 9s 144us/step - loss: 0.4228 - accuracy: 0.8695 - val_loss: 0.1439 - val_accuracy: 0.9581\n",
      "Epoch 2/20\n",
      "60000/60000 [==============================] - 8s 136us/step - loss: 0.1880 - accuracy: 0.9439 - val_loss: 0.0995 - val_accuracy: 0.9707\n",
      "Epoch 3/20\n",
      "60000/60000 [==============================] - 8s 141us/step - loss: 0.1437 - accuracy: 0.9567 - val_loss: 0.0856 - val_accuracy: 0.9728\n",
      "Epoch 4/20\n",
      "60000/60000 [==============================] - 8s 139us/step - loss: 0.1225 - accuracy: 0.9618 - val_loss: 0.0757 - val_accuracy: 0.9772\n",
      "Epoch 5/20\n",
      "60000/60000 [==============================] - 8s 137us/step - loss: 0.1061 - accuracy: 0.9678 - val_loss: 0.0780 - val_accuracy: 0.9756\n",
      "Epoch 6/20\n",
      "60000/60000 [==============================] - 8s 139us/step - loss: 0.0988 - accuracy: 0.9699 - val_loss: 0.0666 - val_accuracy: 0.9797\n",
      "Epoch 7/20\n",
      "60000/60000 [==============================] - 8s 140us/step - loss: 0.0872 - accuracy: 0.9723 - val_loss: 0.0653 - val_accuracy: 0.9805\n",
      "Epoch 8/20\n",
      "60000/60000 [==============================] - 8s 139us/step - loss: 0.0814 - accuracy: 0.9744 - val_loss: 0.0651 - val_accuracy: 0.9805\n",
      "Epoch 9/20\n",
      "60000/60000 [==============================] - 8s 139us/step - loss: 0.0767 - accuracy: 0.9762 - val_loss: 0.0605 - val_accuracy: 0.9816\n",
      "Epoch 10/20\n",
      "60000/60000 [==============================] - 8s 134us/step - loss: 0.0701 - accuracy: 0.9774 - val_loss: 0.0641 - val_accuracy: 0.9822\n",
      "Epoch 11/20\n",
      "60000/60000 [==============================] - 8s 132us/step - loss: 0.0676 - accuracy: 0.9786 - val_loss: 0.0593 - val_accuracy: 0.9830\n",
      "Epoch 12/20\n",
      "60000/60000 [==============================] - 8s 132us/step - loss: 0.0648 - accuracy: 0.9792 - val_loss: 0.0596 - val_accuracy: 0.9824\n",
      "Epoch 13/20\n",
      "60000/60000 [==============================] - 8s 135us/step - loss: 0.0570 - accuracy: 0.9817 - val_loss: 0.0569 - val_accuracy: 0.9824\n",
      "Epoch 14/20\n",
      "60000/60000 [==============================] - 8s 134us/step - loss: 0.0574 - accuracy: 0.9811 - val_loss: 0.0578 - val_accuracy: 0.9829\n",
      "Epoch 15/20\n",
      "60000/60000 [==============================] - 8s 134us/step - loss: 0.0534 - accuracy: 0.9821 - val_loss: 0.0550 - val_accuracy: 0.9839\n",
      "Epoch 16/20\n",
      "60000/60000 [==============================] - 8s 135us/step - loss: 0.0492 - accuracy: 0.9838 - val_loss: 0.0598 - val_accuracy: 0.9835\n",
      "Epoch 17/20\n",
      "60000/60000 [==============================] - 8s 134us/step - loss: 0.0499 - accuracy: 0.9836 - val_loss: 0.0585 - val_accuracy: 0.9828\n",
      "Epoch 18/20\n",
      "60000/60000 [==============================] - 8s 134us/step - loss: 0.0476 - accuracy: 0.9841 - val_loss: 0.0553 - val_accuracy: 0.9841\n",
      "Epoch 19/20\n",
      "60000/60000 [==============================] - 8s 134us/step - loss: 0.0440 - accuracy: 0.9856 - val_loss: 0.0557 - val_accuracy: 0.9850\n",
      "Epoch 20/20\n",
      "60000/60000 [==============================] - 8s 134us/step - loss: 0.0451 - accuracy: 0.9854 - val_loss: 0.0566 - val_accuracy: 0.9834\n"
     ]
    }
   ],
   "source": [
    "from keras.layers.normalization import BatchNormalization\n",
    "from keras.initializers import he_normal\n",
    "from keras.layers import Dropout\n",
    "\n",
    "model_3 = Sequential()\n",
    "\n",
    "model_3.add(Dense(512, activation='relu', input_shape=(input_dim,),kernel_initializer=he_normal(seed=None)))\n",
    "model_3.add(Dropout(0.5))\n",
    "\n",
    "model_3.add(Dense(384, activation='relu', kernel_initializer=he_normal(seed=None)) )\n",
    "model_3.add(Dropout(0.5))\n",
    "\n",
    "model_3.add(BatchNormalization())\n",
    "\n",
    "model_3.add(Dense(output_dim, activation='softmax'))\n",
    "\n",
    "\n",
    "model_3.summary()\n",
    "\n",
    "model_3.compile(optimizer='adam', loss='categorical_crossentropy', metrics=['accuracy'])\n",
    "\n",
    "history3 = model_3.fit(X_train, Y_train, batch_size=batch_size, epochs=nb_epoch, verbose=1, validation_data=(X_test, Y_test))"
   ]
  },
  {
   "cell_type": "code",
   "execution_count": 49,
   "metadata": {
    "colab": {
     "base_uri": "https://localhost:8080/",
     "height": 313
    },
    "colab_type": "code",
    "id": "2iIn7aIq3-BQ",
    "outputId": "2a0ba5fd-5a29-43a3-f666-e4d311c7146a"
   },
   "outputs": [
    {
     "name": "stdout",
     "output_type": "stream",
     "text": [
      "Test score: 0.05660308131032507\n",
      "Test accuracy: 0.9833999872207642\n"
     ]
    },
    {
     "data": {
      "image/png": "[encoded data removed]",
      "text/plain": [
       "<Figure size 432x288 with 1 Axes>"
      ]
     },
     "metadata": {
      "needs_background": "light",
      "tags": []
     },
     "output_type": "display_data"
    }
   ],
   "source": [
    "score = model_3.evaluate(X_test, Y_test, verbose=0) \n",
    "print('Test score:', score[0]) \n",
    "print('Test accuracy:', score[1])\n",
    "\n",
    "fig,ax = plt.subplots(1,1)\n",
    "ax.set_xlabel('epoch') ; ax.set_ylabel('Categorical Crossentropy Loss')\n",
    "\n",
    "# list of epoch numbers\n",
    "x = list(range(1,nb_epoch+1))\n",
    "\n",
    "vy = history3.history['val_loss']\n",
    "ty = history3.history['loss']\n",
    "plt_dynamic(x, vy, ty, ax)\n"
   ]
  },
  {
   "cell_type": "markdown",
   "metadata": {
    "colab_type": "text",
    "id": "0eOmsgwo51vL"
   },
   "source": [
    "<h2> 2. 3-Hidden layer architecture </h2>"
   ]
  },
  {
   "cell_type": "markdown",
   "metadata": {
    "colab_type": "text",
    "id": "XjrrVpTs6erq"
   },
   "source": [
    "2.1. MLP + ReLU + ADAM "
   ]
  },
  {
   "cell_type": "code",
   "execution_count": 41,
   "metadata": {
    "colab": {
     "base_uri": "https://localhost:8080/",
     "height": 1000
    },
    "colab_type": "code",
    "id": "Wu7gJ5kX6ers",
    "outputId": "99696f11-ad88-436d-824d-2e756a5fac6f"
   },
   "outputs": [
    {
     "name": "stdout",
     "output_type": "stream",
     "text": [
      "Model: \"sequential_9\"\n",
      "_________________________________________________________________\n",
      "Layer (type)                 Output Shape              Param #   \n",
      "=================================================================\n",
      "dense_18 (Dense)             (None, 512)               401920    \n",
      "_________________________________________________________________\n",
      "dense_19 (Dense)             (None, 256)               131328    \n",
      "_________________________________________________________________\n",
      "dense_20 (Dense)             (None, 128)               32896     \n",
      "_________________________________________________________________\n",
      "dense_21 (Dense)             (None, 10)                1290      \n",
      "=================================================================\n",
      "Total params: 567,434\n",
      "Trainable params: 567,434\n",
      "Non-trainable params: 0\n",
      "_________________________________________________________________\n",
      "None\n",
      "Train on 60000 samples, validate on 10000 samples\n",
      "Epoch 1/20\n",
      "60000/60000 [==============================] - 7s 113us/step - loss: 0.2268 - accuracy: 0.9305 - val_loss: 0.1094 - val_accuracy: 0.9665\n",
      "Epoch 2/20\n",
      "60000/60000 [==============================] - 7s 111us/step - loss: 0.0803 - accuracy: 0.9756 - val_loss: 0.0887 - val_accuracy: 0.9729\n",
      "Epoch 3/20\n",
      "60000/60000 [==============================] - 7s 112us/step - loss: 0.0528 - accuracy: 0.9828 - val_loss: 0.0744 - val_accuracy: 0.9773\n",
      "Epoch 4/20\n",
      "60000/60000 [==============================] - 7s 111us/step - loss: 0.0376 - accuracy: 0.9880 - val_loss: 0.0915 - val_accuracy: 0.9713\n",
      "Epoch 5/20\n",
      "60000/60000 [==============================] - 7s 112us/step - loss: 0.0289 - accuracy: 0.9909 - val_loss: 0.0723 - val_accuracy: 0.9798\n",
      "Epoch 6/20\n",
      "60000/60000 [==============================] - 7s 110us/step - loss: 0.0258 - accuracy: 0.9915 - val_loss: 0.0854 - val_accuracy: 0.9762\n",
      "Epoch 7/20\n",
      "60000/60000 [==============================] - 7s 110us/step - loss: 0.0227 - accuracy: 0.9926 - val_loss: 0.0809 - val_accuracy: 0.9786\n",
      "Epoch 8/20\n",
      "60000/60000 [==============================] - 7s 112us/step - loss: 0.0218 - accuracy: 0.9930 - val_loss: 0.0894 - val_accuracy: 0.9785\n",
      "Epoch 9/20\n",
      "60000/60000 [==============================] - 7s 113us/step - loss: 0.0164 - accuracy: 0.9945 - val_loss: 0.0983 - val_accuracy: 0.9749\n",
      "Epoch 10/20\n",
      "60000/60000 [==============================] - 7s 111us/step - loss: 0.0164 - accuracy: 0.9947 - val_loss: 0.0867 - val_accuracy: 0.9804\n",
      "Epoch 11/20\n",
      "60000/60000 [==============================] - 6s 107us/step - loss: 0.0174 - accuracy: 0.9941 - val_loss: 0.0852 - val_accuracy: 0.9791\n",
      "Epoch 12/20\n",
      "60000/60000 [==============================] - 6s 107us/step - loss: 0.0139 - accuracy: 0.9956 - val_loss: 0.0852 - val_accuracy: 0.9792\n",
      "Epoch 13/20\n",
      "60000/60000 [==============================] - 6s 108us/step - loss: 0.0147 - accuracy: 0.9958 - val_loss: 0.1261 - val_accuracy: 0.9714\n",
      "Epoch 14/20\n",
      "60000/60000 [==============================] - 7s 109us/step - loss: 0.0150 - accuracy: 0.9954 - val_loss: 0.0893 - val_accuracy: 0.9782\n",
      "Epoch 15/20\n",
      "60000/60000 [==============================] - 7s 112us/step - loss: 0.0068 - accuracy: 0.9978 - val_loss: 0.0830 - val_accuracy: 0.9824\n",
      "Epoch 16/20\n",
      "60000/60000 [==============================] - 7s 112us/step - loss: 0.0130 - accuracy: 0.9957 - val_loss: 0.0793 - val_accuracy: 0.9836\n",
      "Epoch 17/20\n",
      "60000/60000 [==============================] - 6s 108us/step - loss: 0.0118 - accuracy: 0.9964 - val_loss: 0.0808 - val_accuracy: 0.9807\n",
      "Epoch 18/20\n",
      "60000/60000 [==============================] - 7s 110us/step - loss: 0.0079 - accuracy: 0.9976 - val_loss: 0.0984 - val_accuracy: 0.9799\n",
      "Epoch 19/20\n",
      "60000/60000 [==============================] - 7s 110us/step - loss: 0.0149 - accuracy: 0.9953 - val_loss: 0.1010 - val_accuracy: 0.9799\n",
      "Epoch 20/20\n",
      "60000/60000 [==============================] - 7s 109us/step - loss: 0.0083 - accuracy: 0.9972 - val_loss: 0.1068 - val_accuracy: 0.9775\n"
     ]
    }
   ],
   "source": [
    "model_4 = Sequential()\n",
    "model_4.add(Dense(512, activation='relu', input_shape=(input_dim,), kernel_initializer=RandomNormal(mean=0.0, stddev=0.062, seed=None)))\n",
    "model_4.add(Dense(256, activation='relu', kernel_initializer=RandomNormal(mean=0.0, stddev=0.125, seed=None)) )\n",
    "model_4.add(Dense(128, activation='relu', kernel_initializer=RandomNormal(mean=0.0, stddev=0.125, seed=None)) )\n",
    "model_4.add(Dense(output_dim, activation='softmax'))\n",
    "\n",
    "print(model_4.summary())\n",
    "\n",
    "model_4.compile(optimizer='adam', loss='categorical_crossentropy', metrics=['accuracy'])\n",
    "\n",
    "history4 = model_4.fit(X_train, Y_train, batch_size=batch_size, epochs=nb_epoch, verbose=1, validation_data=(X_test, Y_test))"
   ]
  },
  {
   "cell_type": "code",
   "execution_count": 50,
   "metadata": {
    "colab": {
     "base_uri": "https://localhost:8080/",
     "height": 313
    },
    "colab_type": "code",
    "id": "nYsBRDgi6er0",
    "outputId": "b3d450e1-6b08-4e00-aa52-4a3ab4eed14a"
   },
   "outputs": [
    {
     "name": "stdout",
     "output_type": "stream",
     "text": [
      "Test score: 0.10676916894102763\n",
      "Test accuracy: 0.9775000214576721\n"
     ]
    },
    {
     "data": {
      "image/png": "[encoded data removed]",
      "text/plain": [
       "<Figure size 432x288 with 1 Axes>"
      ]
     },
     "metadata": {
      "needs_background": "light",
      "tags": []
     },
     "output_type": "display_data"
    }
   ],
   "source": [
    "score = model_4.evaluate(X_test, Y_test, verbose=0) \n",
    "print('Test score:', score[0]) \n",
    "print('Test accuracy:', score[1])\n",
    "\n",
    "fig,ax = plt.subplots(1,1)\n",
    "ax.set_xlabel('epoch') ; ax.set_ylabel('Categorical Crossentropy Loss')\n",
    "\n",
    "# list of epoch numbers\n",
    "x = list(range(1,nb_epoch+1))\n",
    "\n",
    "vy = history4.history['val_loss']\n",
    "ty = history4.history['loss']\n",
    "plt_dynamic(x, vy, ty, ax)\n"
   ]
  },
  {
   "cell_type": "markdown",
   "metadata": {
    "colab_type": "text",
    "id": "WcXf8t8f6er6"
   },
   "source": [
    "%matplotlib inline\n",
    "\n",
    "plt.close('all')"
   ]
  },
  {
   "cell_type": "markdown",
   "metadata": {
    "colab_type": "text",
    "id": "22QiEnlc6er7"
   },
   "source": [
    "1.2. MLP + ReLU + ADAM + Batch Normalization + HE normal initialization "
   ]
  },
  {
   "cell_type": "code",
   "execution_count": 44,
   "metadata": {
    "colab": {
     "base_uri": "https://localhost:8080/",
     "height": 1000
    },
    "colab_type": "code",
    "id": "zuI4rO8z6er8",
    "outputId": "ff8a2e22-044a-4077-ab4e-07ab995a676b"
   },
   "outputs": [
    {
     "name": "stdout",
     "output_type": "stream",
     "text": [
      "Model: \"sequential_10\"\n",
      "_________________________________________________________________\n",
      "Layer (type)                 Output Shape              Param #   \n",
      "=================================================================\n",
      "dense_22 (Dense)             (None, 256)               200960    \n",
      "_________________________________________________________________\n",
      "dense_23 (Dense)             (None, 384)               98688     \n",
      "_________________________________________________________________\n",
      "dense_24 (Dense)             (None, 512)               197120    \n",
      "_________________________________________________________________\n",
      "batch_normalization_5 (Batch (None, 512)               2048      \n",
      "_________________________________________________________________\n",
      "dense_25 (Dense)             (None, 10)                5130      \n",
      "=================================================================\n",
      "Total params: 503,946\n",
      "Trainable params: 502,922\n",
      "Non-trainable params: 1,024\n",
      "_________________________________________________________________\n",
      "Train on 60000 samples, validate on 10000 samples\n",
      "Epoch 1/20\n",
      "60000/60000 [==============================] - 7s 121us/step - loss: 0.2097 - accuracy: 0.9366 - val_loss: 0.1158 - val_accuracy: 0.9610\n",
      "Epoch 2/20\n",
      "60000/60000 [==============================] - 7s 120us/step - loss: 0.0848 - accuracy: 0.9737 - val_loss: 0.1262 - val_accuracy: 0.9619\n",
      "Epoch 3/20\n",
      "60000/60000 [==============================] - 7s 120us/step - loss: 0.0627 - accuracy: 0.9805 - val_loss: 0.0781 - val_accuracy: 0.9760\n",
      "Epoch 4/20\n",
      "60000/60000 [==============================] - 7s 120us/step - loss: 0.0477 - accuracy: 0.9846 - val_loss: 0.0862 - val_accuracy: 0.9738\n",
      "Epoch 5/20\n",
      "60000/60000 [==============================] - 7s 121us/step - loss: 0.0351 - accuracy: 0.9883 - val_loss: 0.1040 - val_accuracy: 0.9689\n",
      "Epoch 6/20\n",
      "60000/60000 [==============================] - 7s 118us/step - loss: 0.0316 - accuracy: 0.9893 - val_loss: 0.0931 - val_accuracy: 0.9733\n",
      "Epoch 7/20\n",
      "60000/60000 [==============================] - 7s 118us/step - loss: 0.0261 - accuracy: 0.9916 - val_loss: 0.0805 - val_accuracy: 0.9796\n",
      "Epoch 8/20\n",
      "60000/60000 [==============================] - 7s 119us/step - loss: 0.0210 - accuracy: 0.9929 - val_loss: 0.0913 - val_accuracy: 0.9755\n",
      "Epoch 9/20\n",
      "60000/60000 [==============================] - 7s 121us/step - loss: 0.0207 - accuracy: 0.9930 - val_loss: 0.1076 - val_accuracy: 0.9734\n",
      "Epoch 10/20\n",
      "60000/60000 [==============================] - 7s 125us/step - loss: 0.0182 - accuracy: 0.9939 - val_loss: 0.0949 - val_accuracy: 0.9745\n",
      "Epoch 11/20\n",
      "60000/60000 [==============================] - 8s 127us/step - loss: 0.0157 - accuracy: 0.9945 - val_loss: 0.0788 - val_accuracy: 0.9782\n",
      "Epoch 12/20\n",
      "60000/60000 [==============================] - 8s 129us/step - loss: 0.0167 - accuracy: 0.9945 - val_loss: 0.0946 - val_accuracy: 0.9779\n",
      "Epoch 13/20\n",
      "60000/60000 [==============================] - 8s 131us/step - loss: 0.0181 - accuracy: 0.9943 - val_loss: 0.0817 - val_accuracy: 0.9799\n",
      "Epoch 14/20\n",
      "60000/60000 [==============================] - 7s 121us/step - loss: 0.0115 - accuracy: 0.9961 - val_loss: 0.0830 - val_accuracy: 0.9794\n",
      "Epoch 15/20\n",
      "60000/60000 [==============================] - 7s 122us/step - loss: 0.0115 - accuracy: 0.9963 - val_loss: 0.0980 - val_accuracy: 0.9766\n",
      "Epoch 16/20\n",
      "60000/60000 [==============================] - 7s 123us/step - loss: 0.0113 - accuracy: 0.9963 - val_loss: 0.1014 - val_accuracy: 0.9783\n",
      "Epoch 17/20\n",
      "60000/60000 [==============================] - 7s 123us/step - loss: 0.0127 - accuracy: 0.9960 - val_loss: 0.1022 - val_accuracy: 0.9784\n",
      "Epoch 18/20\n",
      "60000/60000 [==============================] - 7s 122us/step - loss: 0.0105 - accuracy: 0.9965 - val_loss: 0.0914 - val_accuracy: 0.9793\n",
      "Epoch 19/20\n",
      "60000/60000 [==============================] - 7s 121us/step - loss: 0.0094 - accuracy: 0.9966 - val_loss: 0.1374 - val_accuracy: 0.9735\n",
      "Epoch 20/20\n",
      "60000/60000 [==============================] - 7s 122us/step - loss: 0.0124 - accuracy: 0.9959 - val_loss: 0.1005 - val_accuracy: 0.9800\n"
     ]
    }
   ],
   "source": [
    "from keras.layers.normalization import BatchNormalization\n",
    "from keras.initializers import he_normal\n",
    "\n",
    "model_5 = Sequential()\n",
    "\n",
    "model_5.add(Dense(256, activation='relu', input_shape=(input_dim,),kernel_initializer=he_normal(seed=None)))\n",
    "model_5.add(Dense(384, activation='relu', kernel_initializer=he_normal(seed=None)) )\n",
    "model_5.add(Dense(512, activation='relu', kernel_initializer=RandomNormal(mean=0.0, stddev=0.125, seed=None)) )\n",
    "model_5.add(BatchNormalization())\n",
    "\n",
    "model_5.add(Dense(output_dim, activation='softmax'))\n",
    "\n",
    "\n",
    "model_5.summary()\n",
    "\n",
    "model_5.compile(optimizer='adam', loss='categorical_crossentropy', metrics=['accuracy'])\n",
    "\n",
    "history5 = model_5.fit(X_train, Y_train, batch_size=batch_size, epochs=nb_epoch, verbose=1, validation_data=(X_test, Y_test))"
   ]
  },
  {
   "cell_type": "code",
   "execution_count": 51,
   "metadata": {
    "colab": {
     "base_uri": "https://localhost:8080/",
     "height": 313
    },
    "colab_type": "code",
    "id": "nuanLgU06er_",
    "outputId": "0684effc-a03b-4e7d-d54e-eb06f727abdc"
   },
   "outputs": [
    {
     "name": "stdout",
     "output_type": "stream",
     "text": [
      "Test score: 0.10054782296594231\n",
      "Test accuracy: 0.9800000190734863\n"
     ]
    },
    {
     "data": {
      "image/png": "[encoded data removed]",
      "text/plain": [
       "<Figure size 432x288 with 1 Axes>"
      ]
     },
     "metadata": {
      "needs_background": "light",
      "tags": []
     },
     "output_type": "display_data"
    }
   ],
   "source": [
    "score = model_5.evaluate(X_test, Y_test, verbose=0) \n",
    "print('Test score:', score[0]) \n",
    "print('Test accuracy:', score[1])\n",
    "\n",
    "fig,ax = plt.subplots(1,1)\n",
    "ax.set_xlabel('epoch') ; ax.set_ylabel('Categorical Crossentropy Loss')\n",
    "\n",
    "# list of epoch numbers\n",
    "x = list(range(1,nb_epoch+1))\n",
    "\n",
    "vy = history5.history['val_loss']\n",
    "ty = history5.history['loss']\n",
    "plt_dynamic(x, vy, ty, ax)\n"
   ]
  },
  {
   "cell_type": "markdown",
   "metadata": {
    "colab_type": "text",
    "id": "Dzmn3xME6esB"
   },
   "source": [
    "1.3. MLP + ReLU + ADAM + Batch Normalization + Dropout + HE normal initialization "
   ]
  },
  {
   "cell_type": "code",
   "execution_count": 46,
   "metadata": {
    "colab": {
     "base_uri": "https://localhost:8080/",
     "height": 1000
    },
    "colab_type": "code",
    "id": "HDogA9JB6esC",
    "outputId": "325fb522-b29f-49fe-e010-c37cd222b11b"
   },
   "outputs": [
    {
     "name": "stdout",
     "output_type": "stream",
     "text": [
      "Model: \"sequential_11\"\n",
      "_________________________________________________________________\n",
      "Layer (type)                 Output Shape              Param #   \n",
      "=================================================================\n",
      "dense_26 (Dense)             (None, 256)               200960    \n",
      "_________________________________________________________________\n",
      "batch_normalization_6 (Batch (None, 256)               1024      \n",
      "_________________________________________________________________\n",
      "dropout_3 (Dropout)          (None, 256)               0         \n",
      "_________________________________________________________________\n",
      "dense_27 (Dense)             (None, 384)               98688     \n",
      "_________________________________________________________________\n",
      "batch_normalization_7 (Batch (None, 384)               1536      \n",
      "_________________________________________________________________\n",
      "dropout_4 (Dropout)          (None, 384)               0         \n",
      "_________________________________________________________________\n",
      "dense_28 (Dense)             (None, 256)               98560     \n",
      "_________________________________________________________________\n",
      "batch_normalization_8 (Batch (None, 256)               1024      \n",
      "_________________________________________________________________\n",
      "dropout_5 (Dropout)          (None, 256)               0         \n",
      "_________________________________________________________________\n",
      "dense_29 (Dense)             (None, 10)                2570      \n",
      "=================================================================\n",
      "Total params: 404,362\n",
      "Trainable params: 402,570\n",
      "Non-trainable params: 1,792\n",
      "_________________________________________________________________\n",
      "Train on 60000 samples, validate on 10000 samples\n",
      "Epoch 1/20\n",
      "60000/60000 [==============================] - 8s 125us/step - loss: 0.4752 - accuracy: 0.8572 - val_loss: 0.1460 - val_accuracy: 0.9537\n",
      "Epoch 2/20\n",
      "60000/60000 [==============================] - 7s 115us/step - loss: 0.2098 - accuracy: 0.9369 - val_loss: 0.1075 - val_accuracy: 0.9673\n",
      "Epoch 3/20\n",
      "60000/60000 [==============================] - 7s 116us/step - loss: 0.1569 - accuracy: 0.9522 - val_loss: 0.0933 - val_accuracy: 0.9719\n",
      "Epoch 4/20\n",
      "60000/60000 [==============================] - 7s 117us/step - loss: 0.1319 - accuracy: 0.9596 - val_loss: 0.0828 - val_accuracy: 0.9727\n",
      "Epoch 5/20\n",
      "60000/60000 [==============================] - 7s 116us/step - loss: 0.1123 - accuracy: 0.9656 - val_loss: 0.0785 - val_accuracy: 0.9764\n",
      "Epoch 6/20\n",
      "60000/60000 [==============================] - 7s 117us/step - loss: 0.1039 - accuracy: 0.9676 - val_loss: 0.0812 - val_accuracy: 0.9757\n",
      "Epoch 7/20\n",
      "60000/60000 [==============================] - 7s 120us/step - loss: 0.0946 - accuracy: 0.9713 - val_loss: 0.0721 - val_accuracy: 0.9773\n",
      "Epoch 8/20\n",
      "60000/60000 [==============================] - 7s 120us/step - loss: 0.0840 - accuracy: 0.9739 - val_loss: 0.0687 - val_accuracy: 0.9787\n",
      "Epoch 9/20\n",
      "60000/60000 [==============================] - 7s 116us/step - loss: 0.0800 - accuracy: 0.9747 - val_loss: 0.0696 - val_accuracy: 0.9788\n",
      "Epoch 10/20\n",
      "60000/60000 [==============================] - 7s 117us/step - loss: 0.0735 - accuracy: 0.9770 - val_loss: 0.0661 - val_accuracy: 0.9815\n",
      "Epoch 11/20\n",
      "60000/60000 [==============================] - 7s 116us/step - loss: 0.0703 - accuracy: 0.9779 - val_loss: 0.0590 - val_accuracy: 0.9814\n",
      "Epoch 12/20\n",
      "60000/60000 [==============================] - 7s 121us/step - loss: 0.0661 - accuracy: 0.9791 - val_loss: 0.0628 - val_accuracy: 0.9803\n",
      "Epoch 13/20\n",
      "60000/60000 [==============================] - 7s 118us/step - loss: 0.0622 - accuracy: 0.9804 - val_loss: 0.0603 - val_accuracy: 0.9811\n",
      "Epoch 14/20\n",
      "60000/60000 [==============================] - 7s 118us/step - loss: 0.0582 - accuracy: 0.9822 - val_loss: 0.0594 - val_accuracy: 0.9835\n",
      "Epoch 15/20\n",
      "60000/60000 [==============================] - 7s 120us/step - loss: 0.0544 - accuracy: 0.9828 - val_loss: 0.0548 - val_accuracy: 0.9849\n",
      "Epoch 16/20\n",
      "60000/60000 [==============================] - 7s 116us/step - loss: 0.0528 - accuracy: 0.9826 - val_loss: 0.0594 - val_accuracy: 0.9825\n",
      "Epoch 17/20\n",
      "60000/60000 [==============================] - 7s 118us/step - loss: 0.0506 - accuracy: 0.9834 - val_loss: 0.0605 - val_accuracy: 0.9827\n",
      "Epoch 18/20\n",
      "60000/60000 [==============================] - 7s 117us/step - loss: 0.0486 - accuracy: 0.9838 - val_loss: 0.0573 - val_accuracy: 0.9827\n",
      "Epoch 19/20\n",
      "60000/60000 [==============================] - 7s 116us/step - loss: 0.0480 - accuracy: 0.9852 - val_loss: 0.0561 - val_accuracy: 0.9843\n",
      "Epoch 20/20\n",
      "60000/60000 [==============================] - 7s 117us/step - loss: 0.0415 - accuracy: 0.9870 - val_loss: 0.0638 - val_accuracy: 0.9829\n"
     ]
    }
   ],
   "source": [
    "from keras.layers.normalization import BatchNormalization\n",
    "from keras.initializers import he_normal\n",
    "from keras.layers import Dropout\n",
    "\n",
    "model_6 = Sequential()\n",
    "\n",
    "model_6.add(Dense(256, activation='relu', input_shape=(input_dim,),kernel_initializer=he_normal(seed=None)))\n",
    "model_6.add(BatchNormalization())\n",
    "model_6.add(Dropout(0.3))\n",
    "\n",
    "model_6.add(Dense(384, activation='relu', kernel_initializer=he_normal(seed=None)) )\n",
    "model_6.add(BatchNormalization())\n",
    "model_6.add(Dropout(0.4))\n",
    "\n",
    "model_6.add(Dense(256, activation='relu', kernel_initializer=he_normal(seed=None)) )\n",
    "model_6.add(BatchNormalization())\n",
    "model_6.add(Dropout(0.5))\n",
    "\n",
    "model_6.add(Dense(output_dim, activation='softmax'))\n",
    "\n",
    "\n",
    "model_6.summary()\n",
    "\n",
    "model_6.compile(optimizer='adam', loss='categorical_crossentropy', metrics=['accuracy'])\n",
    "\n",
    "history6 = model_6.fit(X_train, Y_train, batch_size=batch_size, epochs=nb_epoch, verbose=1, validation_data=(X_test, Y_test))"
   ]
  },
  {
   "cell_type": "code",
   "execution_count": 52,
   "metadata": {
    "colab": {
     "base_uri": "https://localhost:8080/",
     "height": 313
    },
    "colab_type": "code",
    "id": "MCuNHZiG6esE",
    "outputId": "1a9a81ed-6108-4197-853a-2903636d0b69"
   },
   "outputs": [
    {
     "name": "stdout",
     "output_type": "stream",
     "text": [
      "Test score: 0.06382637676765153\n",
      "Test accuracy: 0.9829000234603882\n"
     ]
    },
    {
     "data": {
      "image/png": "[encoded data removed]",
      "text/plain": [
       "<Figure size 432x288 with 1 Axes>"
      ]
     },
     "metadata": {
      "needs_background": "light",
      "tags": []
     },
     "output_type": "display_data"
    }
   ],
   "source": [
    "score = model_6.evaluate(X_test, Y_test, verbose=0) \n",
    "print('Test score:', score[0]) \n",
    "print('Test accuracy:', score[1])\n",
    "\n",
    "fig,ax = plt.subplots(1,1)\n",
    "ax.set_xlabel('epoch') ; ax.set_ylabel('Categorical Crossentropy Loss')\n",
    "\n",
    "# list of epoch numbers\n",
    "x = list(range(1,nb_epoch+1))\n",
    "\n",
    "vy = history6.history['val_loss']\n",
    "ty = history6.history['loss']\n",
    "plt_dynamic(x, vy, ty, ax)\n"
   ]
  },
  {
   "cell_type": "code",
   "execution_count": 0,
   "metadata": {
    "colab": {},
    "colab_type": "code",
    "id": "jOzHI88VJtBU"
   },
   "outputs": [],
   "source": []
  },
  {
   "cell_type": "markdown",
   "metadata": {
    "colab_type": "text",
    "id": "On7F3YiRKIoh"
   },
   "source": [
    "<h2> 3. 5-Hidden layer architecture </h2>"
   ]
  },
  {
   "cell_type": "markdown",
   "metadata": {
    "colab_type": "text",
    "id": "Y7Rgtn3hKIos"
   },
   "source": [
    "3.1. MLP + ReLU + ADAM "
   ]
  },
  {
   "cell_type": "code",
   "execution_count": 48,
   "metadata": {
    "colab": {
     "base_uri": "https://localhost:8080/",
     "height": 1000
    },
    "colab_type": "code",
    "id": "wPCSvJ35KIou",
    "outputId": "5a86363c-53f2-468b-fa85-66a60907833a"
   },
   "outputs": [
    {
     "name": "stdout",
     "output_type": "stream",
     "text": [
      "Model: \"sequential_12\"\n",
      "_________________________________________________________________\n",
      "Layer (type)                 Output Shape              Param #   \n",
      "=================================================================\n",
      "dense_30 (Dense)             (None, 128)               100480    \n",
      "_________________________________________________________________\n",
      "dense_31 (Dense)             (None, 256)               33024     \n",
      "_________________________________________________________________\n",
      "dense_32 (Dense)             (None, 512)               131584    \n",
      "_________________________________________________________________\n",
      "dense_33 (Dense)             (None, 256)               131328    \n",
      "_________________________________________________________________\n",
      "dense_34 (Dense)             (None, 128)               32896     \n",
      "_________________________________________________________________\n",
      "dense_35 (Dense)             (None, 10)                1290      \n",
      "=================================================================\n",
      "Total params: 430,602\n",
      "Trainable params: 430,602\n",
      "Non-trainable params: 0\n",
      "_________________________________________________________________\n",
      "None\n",
      "Train on 60000 samples, validate on 10000 samples\n",
      "Epoch 1/20\n",
      "60000/60000 [==============================] - 6s 101us/step - loss: 0.2822 - accuracy: 0.9142 - val_loss: 0.1245 - val_accuracy: 0.9630\n",
      "Epoch 2/20\n",
      "60000/60000 [==============================] - 6s 100us/step - loss: 0.1103 - accuracy: 0.9662 - val_loss: 0.1154 - val_accuracy: 0.9662\n",
      "Epoch 3/20\n",
      "60000/60000 [==============================] - 6s 99us/step - loss: 0.0743 - accuracy: 0.9771 - val_loss: 0.0957 - val_accuracy: 0.9721\n",
      "Epoch 4/20\n",
      "60000/60000 [==============================] - 6s 98us/step - loss: 0.0599 - accuracy: 0.9810 - val_loss: 0.0966 - val_accuracy: 0.9720\n",
      "Epoch 5/20\n",
      "60000/60000 [==============================] - 6s 99us/step - loss: 0.0456 - accuracy: 0.9854 - val_loss: 0.1049 - val_accuracy: 0.9707\n",
      "Epoch 6/20\n",
      "60000/60000 [==============================] - 6s 101us/step - loss: 0.0402 - accuracy: 0.9873 - val_loss: 0.0943 - val_accuracy: 0.9723\n",
      "Epoch 7/20\n",
      "60000/60000 [==============================] - 6s 98us/step - loss: 0.0369 - accuracy: 0.9880 - val_loss: 0.0884 - val_accuracy: 0.9753\n",
      "Epoch 8/20\n",
      "60000/60000 [==============================] - 6s 100us/step - loss: 0.0333 - accuracy: 0.9895 - val_loss: 0.1322 - val_accuracy: 0.9684\n",
      "Epoch 9/20\n",
      "60000/60000 [==============================] - 6s 99us/step - loss: 0.0282 - accuracy: 0.9912 - val_loss: 0.1010 - val_accuracy: 0.9741\n",
      "Epoch 10/20\n",
      "60000/60000 [==============================] - 6s 98us/step - loss: 0.0281 - accuracy: 0.9911 - val_loss: 0.1097 - val_accuracy: 0.9757\n",
      "Epoch 11/20\n",
      "60000/60000 [==============================] - 6s 98us/step - loss: 0.0235 - accuracy: 0.9927 - val_loss: 0.1033 - val_accuracy: 0.9743\n",
      "Epoch 12/20\n",
      "60000/60000 [==============================] - 6s 99us/step - loss: 0.0234 - accuracy: 0.9927 - val_loss: 0.1020 - val_accuracy: 0.9764\n",
      "Epoch 13/20\n",
      "60000/60000 [==============================] - 6s 98us/step - loss: 0.0199 - accuracy: 0.9935 - val_loss: 0.1223 - val_accuracy: 0.9738\n",
      "Epoch 14/20\n",
      "60000/60000 [==============================] - 6s 101us/step - loss: 0.0219 - accuracy: 0.9931 - val_loss: 0.1211 - val_accuracy: 0.9751\n",
      "Epoch 15/20\n",
      "60000/60000 [==============================] - 6s 100us/step - loss: 0.0169 - accuracy: 0.9946 - val_loss: 0.1082 - val_accuracy: 0.9751\n",
      "Epoch 16/20\n",
      "60000/60000 [==============================] - 6s 97us/step - loss: 0.0190 - accuracy: 0.9941 - val_loss: 0.1063 - val_accuracy: 0.9767\n",
      "Epoch 17/20\n",
      "60000/60000 [==============================] - 6s 99us/step - loss: 0.0157 - accuracy: 0.9952 - val_loss: 0.1223 - val_accuracy: 0.9736\n",
      "Epoch 18/20\n",
      "60000/60000 [==============================] - 6s 105us/step - loss: 0.0171 - accuracy: 0.9947 - val_loss: 0.1059 - val_accuracy: 0.9779\n",
      "Epoch 19/20\n",
      "60000/60000 [==============================] - 6s 103us/step - loss: 0.0150 - accuracy: 0.9956 - val_loss: 0.1050 - val_accuracy: 0.9779\n",
      "Epoch 20/20\n",
      "60000/60000 [==============================] - 6s 97us/step - loss: 0.0178 - accuracy: 0.9948 - val_loss: 0.1090 - val_accuracy: 0.9771\n"
     ]
    }
   ],
   "source": [
    "model_7 = Sequential()\n",
    "model_7.add(Dense(128, activation='relu', input_shape=(input_dim,), kernel_initializer=RandomNormal(mean=0.0, stddev=0.062, seed=None)))\n",
    "model_7.add(Dense(256, activation='relu', kernel_initializer=RandomNormal(mean=0.0, stddev=0.125, seed=None)) )\n",
    "model_7.add(Dense(512, activation='relu', kernel_initializer=RandomNormal(mean=0.0, stddev=0.125, seed=None)) )\n",
    "model_7.add(Dense(256, activation='relu', kernel_initializer=RandomNormal(mean=0.0, stddev=0.125, seed=None)) )\n",
    "model_7.add(Dense(128, activation='relu', kernel_initializer=RandomNormal(mean=0.0, stddev=0.125, seed=None)) )\n",
    "model_7.add(Dense(output_dim, activation='softmax'))\n",
    "\n",
    "print(model_7.summary())\n",
    "\n",
    "model_7.compile(optimizer='adam', loss='categorical_crossentropy', metrics=['accuracy'])\n",
    "\n",
    "history7 = model_7.fit(X_train, Y_train, batch_size=batch_size, epochs=nb_epoch, verbose=1, validation_data=(X_test, Y_test))"
   ]
  },
  {
   "cell_type": "code",
   "execution_count": 53,
   "metadata": {
    "colab": {
     "base_uri": "https://localhost:8080/",
     "height": 313
    },
    "colab_type": "code",
    "id": "H5E0suBTKIo0",
    "outputId": "fa5de838-632c-455c-ae2d-0588d837eaa3"
   },
   "outputs": [
    {
     "name": "stdout",
     "output_type": "stream",
     "text": [
      "Test score: 0.10898555530682802\n",
      "Test accuracy: 0.9771000146865845\n"
     ]
    },
    {
     "data": {
      "image/png": "[encoded data removed]",
      "text/plain": [
       "<Figure size 432x288 with 1 Axes>"
      ]
     },
     "metadata": {
      "needs_background": "light",
      "tags": []
     },
     "output_type": "display_data"
    }
   ],
   "source": [
    "score = model_7.evaluate(X_test, Y_test, verbose=0) \n",
    "print('Test score:', score[0]) \n",
    "print('Test accuracy:', score[1])\n",
    "\n",
    "fig,ax = plt.subplots(1,1)\n",
    "ax.set_xlabel('epoch') ; ax.set_ylabel('Categorical Crossentropy Loss')\n",
    "\n",
    "# list of epoch numbers\n",
    "x = list(range(1,nb_epoch+1))\n",
    "\n",
    "vy = history7.history['val_loss']\n",
    "ty = history7.history['loss']\n",
    "plt_dynamic(x, vy, ty, ax)\n"
   ]
  },
  {
   "cell_type": "markdown",
   "metadata": {
    "colab_type": "text",
    "id": "9WW_bd2uKIo5"
   },
   "source": [
    "%matplotlib inline\n",
    "\n",
    "plt.close('all')"
   ]
  },
  {
   "cell_type": "markdown",
   "metadata": {
    "colab_type": "text",
    "id": "IwAnDtZMKIo6"
   },
   "source": [
    "3.2. MLP + ReLU + ADAM + Batch Normalization + HE normal initialization "
   ]
  },
  {
   "cell_type": "code",
   "execution_count": 54,
   "metadata": {
    "colab": {
     "base_uri": "https://localhost:8080/",
     "height": 1000
    },
    "colab_type": "code",
    "id": "SBlzq24TKIo7",
    "outputId": "3794633f-8753-4c77-8fdc-44b3ba93bdad"
   },
   "outputs": [
    {
     "name": "stdout",
     "output_type": "stream",
     "text": [
      "Model: \"sequential_13\"\n",
      "_________________________________________________________________\n",
      "Layer (type)                 Output Shape              Param #   \n",
      "=================================================================\n",
      "dense_36 (Dense)             (None, 128)               100480    \n",
      "_________________________________________________________________\n",
      "dense_37 (Dense)             (None, 256)               33024     \n",
      "_________________________________________________________________\n",
      "batch_normalization_9 (Batch (None, 256)               1024      \n",
      "_________________________________________________________________\n",
      "dense_38 (Dense)             (None, 384)               98688     \n",
      "_________________________________________________________________\n",
      "batch_normalization_10 (Batc (None, 384)               1536      \n",
      "_________________________________________________________________\n",
      "dense_39 (Dense)             (None, 512)               197120    \n",
      "_________________________________________________________________\n",
      "batch_normalization_11 (Batc (None, 512)               2048      \n",
      "_________________________________________________________________\n",
      "dense_40 (Dense)             (None, 384)               196992    \n",
      "_________________________________________________________________\n",
      "batch_normalization_12 (Batc (None, 384)               1536      \n",
      "_________________________________________________________________\n",
      "dense_41 (Dense)             (None, 10)                3850      \n",
      "=================================================================\n",
      "Total params: 636,298\n",
      "Trainable params: 633,226\n",
      "Non-trainable params: 3,072\n",
      "_________________________________________________________________\n",
      "Train on 60000 samples, validate on 10000 samples\n",
      "Epoch 1/20\n",
      "60000/60000 [==============================] - 10s 163us/step - loss: 0.2359 - accuracy: 0.9273 - val_loss: 0.1322 - val_accuracy: 0.9598\n",
      "Epoch 2/20\n",
      "60000/60000 [==============================] - 9s 157us/step - loss: 0.0929 - accuracy: 0.9713 - val_loss: 0.1262 - val_accuracy: 0.9613\n",
      "Epoch 3/20\n",
      "60000/60000 [==============================] - 9s 155us/step - loss: 0.0638 - accuracy: 0.9793 - val_loss: 0.1127 - val_accuracy: 0.9660\n",
      "Epoch 4/20\n",
      "60000/60000 [==============================] - 9s 150us/step - loss: 0.0509 - accuracy: 0.9826 - val_loss: 0.1158 - val_accuracy: 0.9670\n",
      "Epoch 5/20\n",
      "60000/60000 [==============================] - 9s 148us/step - loss: 0.0412 - accuracy: 0.9856 - val_loss: 0.1240 - val_accuracy: 0.9640\n",
      "Epoch 6/20\n",
      "60000/60000 [==============================] - 9s 150us/step - loss: 0.0378 - accuracy: 0.9873 - val_loss: 0.0794 - val_accuracy: 0.9740\n",
      "Epoch 7/20\n",
      "60000/60000 [==============================] - 9s 151us/step - loss: 0.0318 - accuracy: 0.9888 - val_loss: 0.0763 - val_accuracy: 0.9777\n",
      "Epoch 8/20\n",
      "60000/60000 [==============================] - 9s 150us/step - loss: 0.0317 - accuracy: 0.9890 - val_loss: 0.0817 - val_accuracy: 0.9769\n",
      "Epoch 9/20\n",
      "60000/60000 [==============================] - 9s 149us/step - loss: 0.0282 - accuracy: 0.9908 - val_loss: 0.0792 - val_accuracy: 0.9782\n",
      "Epoch 10/20\n",
      "60000/60000 [==============================] - 9s 149us/step - loss: 0.0256 - accuracy: 0.9912 - val_loss: 0.0851 - val_accuracy: 0.9773\n",
      "Epoch 11/20\n",
      "60000/60000 [==============================] - 9s 146us/step - loss: 0.0232 - accuracy: 0.9921 - val_loss: 0.0930 - val_accuracy: 0.9760\n",
      "Epoch 12/20\n",
      "60000/60000 [==============================] - 9s 149us/step - loss: 0.0199 - accuracy: 0.9931 - val_loss: 0.0995 - val_accuracy: 0.9756\n",
      "Epoch 13/20\n",
      "60000/60000 [==============================] - 9s 152us/step - loss: 0.0215 - accuracy: 0.9925 - val_loss: 0.0923 - val_accuracy: 0.9756\n",
      "Epoch 14/20\n",
      "60000/60000 [==============================] - 9s 152us/step - loss: 0.0216 - accuracy: 0.9929 - val_loss: 0.1121 - val_accuracy: 0.9732\n",
      "Epoch 15/20\n",
      "60000/60000 [==============================] - 9s 149us/step - loss: 0.0168 - accuracy: 0.9943 - val_loss: 0.0971 - val_accuracy: 0.9753\n",
      "Epoch 16/20\n",
      "60000/60000 [==============================] - 9s 156us/step - loss: 0.0163 - accuracy: 0.9945 - val_loss: 0.1065 - val_accuracy: 0.9747\n",
      "Epoch 17/20\n",
      "60000/60000 [==============================] - 10s 160us/step - loss: 0.0195 - accuracy: 0.9937 - val_loss: 0.0850 - val_accuracy: 0.9797\n",
      "Epoch 18/20\n",
      "60000/60000 [==============================] - 10s 163us/step - loss: 0.0147 - accuracy: 0.9957 - val_loss: 0.0887 - val_accuracy: 0.9788\n",
      "Epoch 19/20\n",
      "60000/60000 [==============================] - 10s 161us/step - loss: 0.0152 - accuracy: 0.9952 - val_loss: 0.0815 - val_accuracy: 0.9797\n",
      "Epoch 20/20\n",
      "60000/60000 [==============================] - 10s 160us/step - loss: 0.0126 - accuracy: 0.9959 - val_loss: 0.0885 - val_accuracy: 0.9790\n"
     ]
    }
   ],
   "source": [
    "from keras.layers.normalization import BatchNormalization\n",
    "from keras.initializers import he_normal\n",
    "\n",
    "model_8 = Sequential()\n",
    "\n",
    "model_8.add(Dense(128, activation='relu', input_shape=(input_dim,),kernel_initializer=he_normal(seed=None)))\n",
    "model_8.add(Dense(256, activation='relu', kernel_initializer=he_normal(seed=None)) )\n",
    "model_8.add(BatchNormalization())\n",
    "model_8.add(Dense(384, activation='relu', kernel_initializer=RandomNormal(mean=0.0, stddev=0.125, seed=None)) )\n",
    "model_8.add(BatchNormalization())\n",
    "model_8.add(Dense(512, activation='relu', kernel_initializer=he_normal(seed=None)) )\n",
    "model_8.add(BatchNormalization())\n",
    "model_8.add(Dense(384, activation='relu', kernel_initializer=RandomNormal(mean=0.0, stddev=0.125, seed=None)) )\n",
    "model_8.add(BatchNormalization())\n",
    "\n",
    "model_8.add(Dense(output_dim, activation='softmax'))\n",
    "\n",
    "\n",
    "model_8.summary()\n",
    "\n",
    "model_8.compile(optimizer='adam', loss='categorical_crossentropy', metrics=['accuracy'])\n",
    "\n",
    "history8 = model_8.fit(X_train, Y_train, batch_size=batch_size, epochs=nb_epoch, verbose=1, validation_data=(X_test, Y_test))"
   ]
  },
  {
   "cell_type": "code",
   "execution_count": 55,
   "metadata": {
    "colab": {
     "base_uri": "https://localhost:8080/",
     "height": 313
    },
    "colab_type": "code",
    "id": "fWT-E-FWKIo9",
    "outputId": "e06b13c0-98eb-4704-b0ee-5280b1518989"
   },
   "outputs": [
    {
     "name": "stdout",
     "output_type": "stream",
     "text": [
      "Test score: 0.08854798433639116\n",
      "Test accuracy: 0.9789999723434448\n"
     ]
    },
    {
     "data": {
      "image/png": "[encoded data removed]",
      "text/plain": [
       "<Figure size 432x288 with 1 Axes>"
      ]
     },
     "metadata": {
      "needs_background": "light",
      "tags": []
     },
     "output_type": "display_data"
    }
   ],
   "source": [
    "score = model_8.evaluate(X_test, Y_test, verbose=0) \n",
    "print('Test score:', score[0]) \n",
    "print('Test accuracy:', score[1])\n",
    "\n",
    "fig,ax = plt.subplots(1,1)\n",
    "ax.set_xlabel('epoch') ; ax.set_ylabel('Categorical Crossentropy Loss')\n",
    "\n",
    "# list of epoch numbers\n",
    "x = list(range(1,nb_epoch+1))\n",
    "\n",
    "vy = history8.history['val_loss']\n",
    "ty = history8.history['loss']\n",
    "plt_dynamic(x, vy, ty, ax)\n"
   ]
  },
  {
   "cell_type": "markdown",
   "metadata": {
    "colab_type": "text",
    "id": "27I3TNG0KIpA"
   },
   "source": [
    "3.3. MLP + ReLU + ADAM + Batch Normalization + Dropout + HE normal initialization "
   ]
  },
  {
   "cell_type": "code",
   "execution_count": 57,
   "metadata": {
    "colab": {
     "base_uri": "https://localhost:8080/",
     "height": 1000
    },
    "colab_type": "code",
    "id": "4GLaZuURKIpB",
    "outputId": "f1b1405a-38e8-4f42-c481-d9cea6a9b20d"
   },
   "outputs": [
    {
     "name": "stdout",
     "output_type": "stream",
     "text": [
      "Model: \"sequential_15\"\n",
      "_________________________________________________________________\n",
      "Layer (type)                 Output Shape              Param #   \n",
      "=================================================================\n",
      "dense_46 (Dense)             (None, 256)               200960    \n",
      "_________________________________________________________________\n",
      "batch_normalization_16 (Batc (None, 256)               1024      \n",
      "_________________________________________________________________\n",
      "dropout_9 (Dropout)          (None, 256)               0         \n",
      "_________________________________________________________________\n",
      "dense_47 (Dense)             (None, 384)               98688     \n",
      "_________________________________________________________________\n",
      "batch_normalization_17 (Batc (None, 384)               1536      \n",
      "_________________________________________________________________\n",
      "dropout_10 (Dropout)         (None, 384)               0         \n",
      "_________________________________________________________________\n",
      "dense_48 (Dense)             (None, 512)               197120    \n",
      "_________________________________________________________________\n",
      "batch_normalization_18 (Batc (None, 512)               2048      \n",
      "_________________________________________________________________\n",
      "dropout_11 (Dropout)         (None, 512)               0         \n",
      "_________________________________________________________________\n",
      "dense_49 (Dense)             (None, 384)               196992    \n",
      "_________________________________________________________________\n",
      "batch_normalization_19 (Batc (None, 384)               1536      \n",
      "_________________________________________________________________\n",
      "dropout_12 (Dropout)         (None, 384)               0         \n",
      "_________________________________________________________________\n",
      "dense_50 (Dense)             (None, 256)               98560     \n",
      "_________________________________________________________________\n",
      "batch_normalization_20 (Batc (None, 256)               1024      \n",
      "_________________________________________________________________\n",
      "dropout_13 (Dropout)         (None, 256)               0         \n",
      "_________________________________________________________________\n",
      "dense_51 (Dense)             (None, 10)                2570      \n",
      "=================================================================\n",
      "Total params: 802,058\n",
      "Trainable params: 798,474\n",
      "Non-trainable params: 3,584\n",
      "_________________________________________________________________\n",
      "Train on 60000 samples, validate on 10000 samples\n",
      "Epoch 1/20\n",
      "60000/60000 [==============================] - 13s 218us/step - loss: 0.4796 - accuracy: 0.8537 - val_loss: 0.1411 - val_accuracy: 0.9555\n",
      "Epoch 2/20\n",
      "60000/60000 [==============================] - 12s 204us/step - loss: 0.2065 - accuracy: 0.9383 - val_loss: 0.1054 - val_accuracy: 0.9679\n",
      "Epoch 3/20\n",
      "60000/60000 [==============================] - 12s 207us/step - loss: 0.1593 - accuracy: 0.9514 - val_loss: 0.0895 - val_accuracy: 0.9733\n",
      "Epoch 4/20\n",
      "60000/60000 [==============================] - 12s 201us/step - loss: 0.1370 - accuracy: 0.9571 - val_loss: 0.0891 - val_accuracy: 0.9733\n",
      "Epoch 5/20\n",
      "60000/60000 [==============================] - 13s 212us/step - loss: 0.1178 - accuracy: 0.9639 - val_loss: 0.0760 - val_accuracy: 0.9773\n",
      "Epoch 6/20\n",
      "60000/60000 [==============================] - 12s 203us/step - loss: 0.1082 - accuracy: 0.9677 - val_loss: 0.0766 - val_accuracy: 0.9766\n",
      "Epoch 7/20\n",
      "60000/60000 [==============================] - 12s 200us/step - loss: 0.0964 - accuracy: 0.9698 - val_loss: 0.0726 - val_accuracy: 0.9776\n",
      "Epoch 8/20\n",
      "60000/60000 [==============================] - 12s 199us/step - loss: 0.0913 - accuracy: 0.9722 - val_loss: 0.0757 - val_accuracy: 0.9767\n",
      "Epoch 9/20\n",
      "60000/60000 [==============================] - 12s 199us/step - loss: 0.0860 - accuracy: 0.9728 - val_loss: 0.0779 - val_accuracy: 0.9776\n",
      "Epoch 10/20\n",
      "60000/60000 [==============================] - 12s 201us/step - loss: 0.0809 - accuracy: 0.9753 - val_loss: 0.0684 - val_accuracy: 0.9796\n",
      "Epoch 11/20\n",
      "60000/60000 [==============================] - 12s 195us/step - loss: 0.0759 - accuracy: 0.9755 - val_loss: 0.0673 - val_accuracy: 0.9796\n",
      "Epoch 12/20\n",
      "60000/60000 [==============================] - 12s 194us/step - loss: 0.0718 - accuracy: 0.9772 - val_loss: 0.0732 - val_accuracy: 0.9776\n",
      "Epoch 13/20\n",
      "60000/60000 [==============================] - 12s 194us/step - loss: 0.0687 - accuracy: 0.9784 - val_loss: 0.0665 - val_accuracy: 0.9786\n",
      "Epoch 14/20\n",
      "60000/60000 [==============================] - 12s 200us/step - loss: 0.0611 - accuracy: 0.9804 - val_loss: 0.0631 - val_accuracy: 0.9820\n",
      "Epoch 15/20\n",
      "60000/60000 [==============================] - 12s 199us/step - loss: 0.0602 - accuracy: 0.9814 - val_loss: 0.0641 - val_accuracy: 0.9819\n",
      "Epoch 16/20\n",
      "60000/60000 [==============================] - 12s 196us/step - loss: 0.0574 - accuracy: 0.9822 - val_loss: 0.0645 - val_accuracy: 0.9820\n",
      "Epoch 17/20\n",
      "60000/60000 [==============================] - 12s 204us/step - loss: 0.0550 - accuracy: 0.9827 - val_loss: 0.0563 - val_accuracy: 0.9837\n",
      "Epoch 18/20\n",
      "60000/60000 [==============================] - 13s 214us/step - loss: 0.0539 - accuracy: 0.9829 - val_loss: 0.0619 - val_accuracy: 0.9841\n",
      "Epoch 19/20\n",
      "60000/60000 [==============================] - 13s 215us/step - loss: 0.0513 - accuracy: 0.9838 - val_loss: 0.0584 - val_accuracy: 0.9840\n",
      "Epoch 20/20\n",
      "60000/60000 [==============================] - 13s 218us/step - loss: 0.0516 - accuracy: 0.9835 - val_loss: 0.0643 - val_accuracy: 0.9817\n"
     ]
    }
   ],
   "source": [
    "from keras.layers.normalization import BatchNormalization\n",
    "from keras.initializers import he_normal\n",
    "from keras.layers import Dropout\n",
    "\n",
    "model_9 = Sequential()\n",
    "\n",
    "model_9.add(Dense(256, activation='relu', input_shape=(input_dim,),kernel_initializer=he_normal(seed=None)))\n",
    "model_9.add(BatchNormalization())\n",
    "model_9.add(Dropout(0.3))\n",
    "\n",
    "model_9.add(Dense(384, activation='relu', kernel_initializer=he_normal(seed=None)) )\n",
    "model_9.add(BatchNormalization())\n",
    "model_9.add(Dropout(0.3))\n",
    "\n",
    "model_9.add(Dense(512, activation='relu', kernel_initializer=he_normal(seed=None)) )\n",
    "model_9.add(BatchNormalization())\n",
    "model_9.add(Dropout(0.3))\n",
    "\n",
    "model_9.add(Dense(384, activation='relu', kernel_initializer=he_normal(seed=None)) )\n",
    "model_9.add(BatchNormalization())\n",
    "model_9.add(Dropout(0.3))\n",
    "\n",
    "model_9.add(Dense(256, activation='relu', kernel_initializer=he_normal(seed=None)) )\n",
    "model_9.add(BatchNormalization())\n",
    "model_9.add(Dropout(0.3))\n",
    "\n",
    "model_9.add(Dense(output_dim, activation='softmax'))\n",
    "\n",
    "\n",
    "model_9.summary()\n",
    "\n",
    "model_9.compile(optimizer='adam', loss='categorical_crossentropy', metrics=['accuracy'])\n",
    "\n",
    "history9 = model_9.fit(X_train, Y_train, batch_size=batch_size, epochs=nb_epoch, verbose=1, validation_data=(X_test, Y_test))"
   ]
  },
  {
   "cell_type": "code",
   "execution_count": 58,
   "metadata": {
    "colab": {
     "base_uri": "https://localhost:8080/",
     "height": 317
    },
    "colab_type": "code",
    "id": "1mvQ2vlAKIpE",
    "outputId": "c2d7cffe-528e-4457-908a-5bdf809c4ac5"
   },
   "outputs": [
    {
     "name": "stdout",
     "output_type": "stream",
     "text": [
      "Test score: 0.06429058624608443\n",
      "Test accuracy: 0.9817000031471252\n"
     ]
    },
    {
     "data": {
      "image/png": "[encoded data removed]",
      "text/plain": [
       "<Figure size 432x288 with 1 Axes>"
      ]
     },
     "metadata": {
      "needs_background": "light",
      "tags": []
     },
     "output_type": "display_data"
    }
   ],
   "source": [
    "score = model_9.evaluate(X_test, Y_test, verbose=0) \n",
    "print('Test score:', score[0]) \n",
    "print('Test accuracy:', score[1])\n",
    "\n",
    "fig,ax = plt.subplots(1,1)\n",
    "ax.set_xlabel('epoch') ; ax.set_ylabel('Categorical Crossentropy Loss')\n",
    "\n",
    "# list of epoch numbers\n",
    "x = list(range(1,nb_epoch+1))\n",
    "\n",
    "vy = history9.history['val_loss']\n",
    "ty = history9.history['loss']\n",
    "plt_dynamic(x, vy, ty, ax)\n"
   ]
  },
  {
   "cell_type": "code",
   "execution_count": 64,
   "metadata": {
    "colab": {
     "base_uri": "https://localhost:8080/",
     "height": 238
    },
    "colab_type": "code",
    "id": "5zvtAt88KIpG",
    "outputId": "092ede64-20f0-404c-c370-a7731271da18"
   },
   "outputs": [
    {
     "name": "stdout",
     "output_type": "stream",
     "text": [
      "+---------------+------------------------------------------------------------------------------+-------+\n",
      "| Hidden Layers |                                  Parameters                                  |  Loss |\n",
      "+---------------+------------------------------------------------------------------------------+-------+\n",
      "|       2       |                              MLP + ReLU + ADAM                               | 0.979 |\n",
      "|       2       |      MLP + ReLU + ADAM + Batch Normalization + HE normal initialization      | 0.976 |\n",
      "|       2       | MLP + ReLU + ADAM + Batch Normalization + Dropout + HE normal initialization | 0.983 |\n",
      "|       3       |                              MLP + ReLU + ADAM                               | 0.977 |\n",
      "|       3       |      MLP + ReLU + ADAM + Batch Normalization + HE normal initialization      |  0.98 |\n",
      "|       3       | MLP + ReLU + ADAM + Batch Normalization + Dropout + HE normal initialization | 0.982 |\n",
      "|       5       |                              MLP + ReLU + ADAM                               | 0.977 |\n",
      "|       5       |      MLP + ReLU + ADAM + Batch Normalization + HE normal initialization      | 0.978 |\n",
      "|       5       | MLP + ReLU + ADAM + Batch Normalization + Dropout + HE normal initialization | 0.981 |\n",
      "+---------------+------------------------------------------------------------------------------+-------+\n"
     ]
    }
   ],
   "source": [
    "from prettytable import PrettyTable\n",
    "x = PrettyTable()\n",
    "x.field_names = [\"Hidden Layers\",\"Parameters\",\"Loss\"]\n",
    "x.add_row([2,'MLP + ReLU + ADAM ', 0.979])\n",
    "x.add_row([2,'MLP + ReLU + ADAM + Batch Normalization + HE normal initialization', 0.976])\n",
    "x.add_row([2,'MLP + ReLU + ADAM + Batch Normalization + Dropout + HE normal initialization', 0.983])\n",
    "x.add_row([3,'MLP + ReLU + ADAM ', 0.977])\n",
    "x.add_row([3,'MLP + ReLU + ADAM + Batch Normalization + HE normal initialization', 0.980])\n",
    "x.add_row([3,'MLP + ReLU + ADAM + Batch Normalization + Dropout + HE normal initialization', 0.982])\n",
    "x.add_row([5,'MLP + ReLU + ADAM ', 0.977])\n",
    "x.add_row([5,'MLP + ReLU + ADAM + Batch Normalization + HE normal initialization', 0.978])\n",
    "x.add_row([5,'MLP + ReLU + ADAM + Batch Normalization + Dropout + HE normal initialization', 0.981])\n",
    "print(x)"
   ]
  },
  {
   "cell_type": "code",
   "execution_count": 0,
   "metadata": {
    "colab": {},
    "colab_type": "code",
    "id": "wWJVS2uzTBx_"
   },
   "outputs": [],
   "source": []
  }
 ],
 "metadata": {
  "colab": {
   "collapsed_sections": [],
   "name": "ASSG-14_MLP_DL.ipynb",
   "provenance": []
  },
  "kernelspec": {
   "display_name": "Python 3",
   "language": "python",
   "name": "python3"
  },
  "language_info": {
   "codemirror_mode": {
    "name": "ipython",
    "version": 3
   },
   "file_extension": ".py",
   "mimetype": "text/x-python",
   "name": "python",
   "nbconvert_exporter": "python",
   "pygments_lexer": "ipython3",
   "version": "3.7.6"
  }
 },
 "nbformat": 4,
 "nbformat_minor": 1
}
