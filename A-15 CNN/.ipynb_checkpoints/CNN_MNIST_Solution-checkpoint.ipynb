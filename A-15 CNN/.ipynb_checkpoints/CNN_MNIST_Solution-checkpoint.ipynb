{
 "cells": [
  {
   "cell_type": "code",
   "execution_count": 2,
   "metadata": {
    "colab": {
     "base_uri": "https://localhost:8080/",
     "height": 34
    },
    "colab_type": "code",
    "id": "ARL7KFhCEmtw",
    "outputId": "e091508d-70c4-40e9-b308-b2544479ed96"
   },
   "outputs": [
    {
     "name": "stderr",
     "output_type": "stream",
     "text": [
      "Using TensorFlow backend.\n"
     ]
    }
   ],
   "source": [
    "from __future__ import print_function\n",
    "import keras\n",
    "from keras.datasets import mnist\n",
    "from keras.models import Sequential\n",
    "from keras.layers import Dense, Dropout, Flatten\n",
    "from keras.layers import Conv2D, MaxPooling2D\n",
    "from keras import backend as K"
   ]
  },
  {
   "cell_type": "code",
   "execution_count": 0,
   "metadata": {
    "colab": {},
    "colab_type": "code",
    "id": "k-IhurliE3El"
   },
   "outputs": [],
   "source": [
    "batch_size = 128\n",
    "num_classes = 10\n",
    "epochs = 12"
   ]
  },
  {
   "cell_type": "code",
   "execution_count": 0,
   "metadata": {
    "colab": {},
    "colab_type": "code",
    "id": "oHhe8C7JE5VK"
   },
   "outputs": [],
   "source": [
    "\n",
    "# input image dimensions\n",
    "img_rows, img_cols = 28, 28\n"
   ]
  },
  {
   "cell_type": "code",
   "execution_count": 5,
   "metadata": {
    "colab": {
     "base_uri": "https://localhost:8080/",
     "height": 51
    },
    "colab_type": "code",
    "id": "LvpqH0urE90N",
    "outputId": "fbdd03ac-19c8-444d-92ba-32a73a062996"
   },
   "outputs": [
    {
     "name": "stdout",
     "output_type": "stream",
     "text": [
      "Downloading data from https://s3.amazonaws.com/img-datasets/mnist.npz\n",
      "11493376/11490434 [==============================] - 0s 0us/step\n"
     ]
    }
   ],
   "source": [
    "# the data, split between train and test sets\n",
    "(x_train, y_train), (x_test, y_test) = mnist.load_data()"
   ]
  },
  {
   "cell_type": "code",
   "execution_count": 0,
   "metadata": {
    "colab": {},
    "colab_type": "code",
    "id": "1HXkxw19FBHK"
   },
   "outputs": [],
   "source": [
    "if K.image_data_format() == 'channels_first':\n",
    "    x_train = x_train.reshape(x_train.shape[0], 1, img_rows, img_cols)\n",
    "    x_test = x_test.reshape(x_test.shape[0], 1, img_rows, img_cols)\n",
    "    input_shape = (1, img_rows, img_cols)\n",
    "else:\n",
    "    x_train = x_train.reshape(x_train.shape[0], img_rows, img_cols, 1)\n",
    "    x_test = x_test.reshape(x_test.shape[0], img_rows, img_cols, 1)\n",
    "    input_shape = (img_rows, img_cols, 1)"
   ]
  },
  {
   "cell_type": "code",
   "execution_count": 7,
   "metadata": {
    "colab": {
     "base_uri": "https://localhost:8080/",
     "height": 68
    },
    "colab_type": "code",
    "id": "HSsSZM-LFEFU",
    "outputId": "3d32d448-2518-4031-dd70-2ad5364bdd27"
   },
   "outputs": [
    {
     "name": "stdout",
     "output_type": "stream",
     "text": [
      "x_train shape: (60000, 28, 28, 1)\n",
      "60000 train samples\n",
      "10000 test samples\n"
     ]
    }
   ],
   "source": [
    "x_train = x_train.astype('float32')\n",
    "x_test = x_test.astype('float32')\n",
    "x_train /= 255\n",
    "x_test /= 255\n",
    "print('x_train shape:', x_train.shape)\n",
    "print(x_train.shape[0], 'train samples')\n",
    "print(x_test.shape[0], 'test samples')"
   ]
  },
  {
   "cell_type": "code",
   "execution_count": 0,
   "metadata": {
    "colab": {},
    "colab_type": "code",
    "id": "zii0eMtjFQve"
   },
   "outputs": [],
   "source": [
    "# convert class vectors to binary class matrices\n",
    "\n",
    "y_train = keras.utils.to_categorical(y_train, num_classes)\n",
    "y_test = keras.utils.to_categorical(y_test, num_classes)"
   ]
  },
  {
   "cell_type": "markdown",
   "metadata": {
    "colab_type": "text",
    "id": "o_6yh0hWQsRV"
   },
   "source": [
    "1. Model 1 - 2 Hidden Layers + Adam + Max Pooling + Kernel 3X3\n"
   ]
  },
  {
   "cell_type": "code",
   "execution_count": 9,
   "metadata": {
    "colab": {
     "base_uri": "https://localhost:8080/",
     "height": 459
    },
    "colab_type": "code",
    "id": "Ygv2Dx83FUce",
    "outputId": "0158614a-eee3-4a10-e172-e664aa2a3c07"
   },
   "outputs": [
    {
     "name": "stdout",
     "output_type": "stream",
     "text": [
      "Train on 60000 samples, validate on 10000 samples\n",
      "Epoch 1/12\n",
      "60000/60000 [==============================] - 154s 3ms/step - loss: 0.2555 - accuracy: 0.9209 - val_loss: 0.0573 - val_accuracy: 0.9812\n",
      "Epoch 2/12\n",
      "60000/60000 [==============================] - 153s 3ms/step - loss: 0.0859 - accuracy: 0.9747 - val_loss: 0.0384 - val_accuracy: 0.9871\n",
      "Epoch 3/12\n",
      "60000/60000 [==============================] - 153s 3ms/step - loss: 0.0649 - accuracy: 0.9808 - val_loss: 0.0337 - val_accuracy: 0.9887\n",
      "Epoch 4/12\n",
      "60000/60000 [==============================] - 153s 3ms/step - loss: 0.0547 - accuracy: 0.9840 - val_loss: 0.0349 - val_accuracy: 0.9888\n",
      "Epoch 5/12\n",
      "60000/60000 [==============================] - 153s 3ms/step - loss: 0.0458 - accuracy: 0.9861 - val_loss: 0.0305 - val_accuracy: 0.9890\n",
      "Epoch 6/12\n",
      "60000/60000 [==============================] - 152s 3ms/step - loss: 0.0421 - accuracy: 0.9871 - val_loss: 0.0278 - val_accuracy: 0.9903\n",
      "Epoch 7/12\n",
      "60000/60000 [==============================] - 152s 3ms/step - loss: 0.0378 - accuracy: 0.9883 - val_loss: 0.0333 - val_accuracy: 0.9884\n",
      "Epoch 8/12\n",
      "60000/60000 [==============================] - 154s 3ms/step - loss: 0.0337 - accuracy: 0.9894 - val_loss: 0.0292 - val_accuracy: 0.9906\n",
      "Epoch 9/12\n",
      "60000/60000 [==============================] - 154s 3ms/step - loss: 0.0313 - accuracy: 0.9903 - val_loss: 0.0270 - val_accuracy: 0.9909\n",
      "Epoch 10/12\n",
      "60000/60000 [==============================] - 152s 3ms/step - loss: 0.0283 - accuracy: 0.9908 - val_loss: 0.0245 - val_accuracy: 0.9923\n",
      "Epoch 11/12\n",
      "60000/60000 [==============================] - 154s 3ms/step - loss: 0.0268 - accuracy: 0.9918 - val_loss: 0.0275 - val_accuracy: 0.9916\n",
      "Epoch 12/12\n",
      "60000/60000 [==============================] - 154s 3ms/step - loss: 0.0254 - accuracy: 0.9923 - val_loss: 0.0284 - val_accuracy: 0.9922\n"
     ]
    },
    {
     "data": {
      "text/plain": [
       "<keras.callbacks.callbacks.History at 0x7f83b355c898>"
      ]
     },
     "execution_count": 9,
     "metadata": {
      "tags": []
     },
     "output_type": "execute_result"
    }
   ],
   "source": [
    "model = Sequential()\n",
    "model.add(Conv2D(32, kernel_size=(3, 3), activation='relu', input_shape=input_shape))\n",
    "model.add(Conv2D(64, (3, 3), activation='relu'))\n",
    "model.add(MaxPooling2D(pool_size=(2, 2)))\n",
    "model.add(Dropout(0.25))\n",
    "model.add(Flatten())\n",
    "model.add(Dense(128, activation='relu'))\n",
    "model.add(Dropout(0.5))\n",
    "model.add(Dense(num_classes, activation='softmax'))\n",
    "\n",
    "model.compile(loss=keras.losses.categorical_crossentropy, optimizer=keras.optimizers.Adadelta(), metrics=['accuracy'])\n",
    "\n",
    "model.fit(x_train, y_train, batch_size=batch_size, epochs=epochs, verbose=1, validation_data=(x_test, y_test))\n"
   ]
  },
  {
   "cell_type": "code",
   "execution_count": 10,
   "metadata": {
    "colab": {
     "base_uri": "https://localhost:8080/",
     "height": 51
    },
    "colab_type": "code",
    "id": "6O_b9dTUFYb2",
    "outputId": "122834ce-7aa7-4e0a-878d-48faca92b18e"
   },
   "outputs": [
    {
     "name": "stdout",
     "output_type": "stream",
     "text": [
      "Test loss: 0.028409935376906652\n",
      "Test accuracy: 0.9922000169754028\n"
     ]
    }
   ],
   "source": [
    "score = model.evaluate(x_test, y_test, verbose=0)\n",
    "print('Test loss:', score[0])\n",
    "print('Test accuracy:', score[1])"
   ]
  },
  {
   "cell_type": "code",
   "execution_count": 0,
   "metadata": {
    "colab": {},
    "colab_type": "code",
    "id": "NMHBFv0PFcax"
   },
   "outputs": [],
   "source": []
  },
  {
   "cell_type": "markdown",
   "metadata": {
    "colab_type": "text",
    "id": "OjTV5MnfP8ps"
   },
   "source": [
    "2. Model 2 - 2 Hidden Layers + Adam + Max Pooling + Kernel 5X5\n"
   ]
  },
  {
   "cell_type": "code",
   "execution_count": 11,
   "metadata": {
    "colab": {
     "base_uri": "https://localhost:8080/",
     "height": 459
    },
    "colab_type": "code",
    "id": "1BSzonq-PEsm",
    "outputId": "6fe1c5e0-19b9-4677-9ed4-036058622733"
   },
   "outputs": [
    {
     "name": "stdout",
     "output_type": "stream",
     "text": [
      "Train on 60000 samples, validate on 10000 samples\n",
      "Epoch 1/12\n",
      "60000/60000 [==============================] - 135s 2ms/step - loss: 0.2336 - accuracy: 0.9287 - val_loss: 0.0549 - val_accuracy: 0.9834\n",
      "Epoch 2/12\n",
      "60000/60000 [==============================] - 134s 2ms/step - loss: 0.0802 - accuracy: 0.9767 - val_loss: 0.0320 - val_accuracy: 0.9891\n",
      "Epoch 3/12\n",
      "60000/60000 [==============================] - 136s 2ms/step - loss: 0.0612 - accuracy: 0.9819 - val_loss: 0.0275 - val_accuracy: 0.9905\n",
      "Epoch 4/12\n",
      "60000/60000 [==============================] - 136s 2ms/step - loss: 0.0492 - accuracy: 0.9848 - val_loss: 0.0276 - val_accuracy: 0.9914\n",
      "Epoch 5/12\n",
      "60000/60000 [==============================] - 135s 2ms/step - loss: 0.0407 - accuracy: 0.9879 - val_loss: 0.0261 - val_accuracy: 0.9910\n",
      "Epoch 6/12\n",
      "60000/60000 [==============================] - 135s 2ms/step - loss: 0.0355 - accuracy: 0.9891 - val_loss: 0.0282 - val_accuracy: 0.9911\n",
      "Epoch 7/12\n",
      "60000/60000 [==============================] - 135s 2ms/step - loss: 0.0333 - accuracy: 0.9899 - val_loss: 0.0281 - val_accuracy: 0.9922\n",
      "Epoch 8/12\n",
      "60000/60000 [==============================] - 137s 2ms/step - loss: 0.0301 - accuracy: 0.9905 - val_loss: 0.0244 - val_accuracy: 0.9923\n",
      "Epoch 9/12\n",
      "60000/60000 [==============================] - 135s 2ms/step - loss: 0.0255 - accuracy: 0.9915 - val_loss: 0.0251 - val_accuracy: 0.9926\n",
      "Epoch 10/12\n",
      "60000/60000 [==============================] - 136s 2ms/step - loss: 0.0258 - accuracy: 0.9920 - val_loss: 0.0216 - val_accuracy: 0.9933\n",
      "Epoch 11/12\n",
      "60000/60000 [==============================] - 136s 2ms/step - loss: 0.0227 - accuracy: 0.9930 - val_loss: 0.0245 - val_accuracy: 0.9921\n",
      "Epoch 12/12\n",
      "60000/60000 [==============================] - 136s 2ms/step - loss: 0.0217 - accuracy: 0.9931 - val_loss: 0.0244 - val_accuracy: 0.9927\n"
     ]
    },
    {
     "data": {
      "text/plain": [
       "<keras.callbacks.callbacks.History at 0x7f83b267ee10>"
      ]
     },
     "execution_count": 11,
     "metadata": {
      "tags": []
     },
     "output_type": "execute_result"
    }
   ],
   "source": [
    "model_2 = Sequential()\n",
    "model_2.add(Conv2D(32, kernel_size=(5, 5), activation='relu', input_shape=input_shape))\n",
    "model_2.add(Conv2D(64, (3, 3), activation='relu'))\n",
    "model_2.add(MaxPooling2D(pool_size=(2, 2)))\n",
    "model_2.add(Dropout(0.25))\n",
    "model_2.add(Flatten())\n",
    "model_2.add(Dense(128, activation='relu'))\n",
    "model_2.add(Dropout(0.5))\n",
    "model_2.add(Dense(num_classes, activation='softmax'))\n",
    "\n",
    "model_2.compile(loss=keras.losses.categorical_crossentropy, optimizer='adam', metrics=['accuracy'])\n",
    "\n",
    "model_2.fit(x_train, y_train, batch_size=batch_size, epochs=epochs, verbose=1, validation_data=(x_test, y_test))"
   ]
  },
  {
   "cell_type": "code",
   "execution_count": 12,
   "metadata": {
    "colab": {
     "base_uri": "https://localhost:8080/",
     "height": 51
    },
    "colab_type": "code",
    "id": "CTdKuKGMP20t",
    "outputId": "15651a0c-9cee-4f37-c915-d4a5ff2f13f9"
   },
   "outputs": [
    {
     "name": "stdout",
     "output_type": "stream",
     "text": [
      "Test loss: 0.024443474179803117\n",
      "Test accuracy: 0.9926999807357788\n"
     ]
    }
   ],
   "source": [
    "score = model_2.evaluate(x_test, y_test, verbose=0)\n",
    "print('Test loss:', score[0])\n",
    "print('Test accuracy:', score[1])"
   ]
  },
  {
   "cell_type": "code",
   "execution_count": 0,
   "metadata": {
    "colab": {},
    "colab_type": "code",
    "id": "4dQhdWrjY4kR"
   },
   "outputs": [],
   "source": []
  },
  {
   "cell_type": "markdown",
   "metadata": {
    "colab_type": "text",
    "id": "uDM60WpeY_3u"
   },
   "source": [
    "3. Model 2 - 2 Hidden Layers + Adam + Max Pooling + Kernel 7X7"
   ]
  },
  {
   "cell_type": "code",
   "execution_count": 13,
   "metadata": {
    "colab": {
     "base_uri": "https://localhost:8080/",
     "height": 459
    },
    "colab_type": "code",
    "id": "Cv6vxCGhZAWi",
    "outputId": "c8921224-621b-4ea7-b195-9d57e501456b"
   },
   "outputs": [
    {
     "name": "stdout",
     "output_type": "stream",
     "text": [
      "Train on 60000 samples, validate on 10000 samples\n",
      "Epoch 1/12\n",
      "60000/60000 [==============================] - 121s 2ms/step - loss: 0.2402 - accuracy: 0.9282 - val_loss: 0.0476 - val_accuracy: 0.9846\n",
      "Epoch 2/12\n",
      "60000/60000 [==============================] - 122s 2ms/step - loss: 0.0811 - accuracy: 0.9757 - val_loss: 0.0355 - val_accuracy: 0.9881\n",
      "Epoch 3/12\n",
      "60000/60000 [==============================] - 121s 2ms/step - loss: 0.0627 - accuracy: 0.9815 - val_loss: 0.0274 - val_accuracy: 0.9901\n",
      "Epoch 4/12\n",
      "60000/60000 [==============================] - 121s 2ms/step - loss: 0.0489 - accuracy: 0.9857 - val_loss: 0.0287 - val_accuracy: 0.9898\n",
      "Epoch 5/12\n",
      "60000/60000 [==============================] - 120s 2ms/step - loss: 0.0426 - accuracy: 0.9869 - val_loss: 0.0235 - val_accuracy: 0.9914\n",
      "Epoch 6/12\n",
      "60000/60000 [==============================] - 120s 2ms/step - loss: 0.0369 - accuracy: 0.9887 - val_loss: 0.0238 - val_accuracy: 0.9915\n",
      "Epoch 7/12\n",
      "60000/60000 [==============================] - 119s 2ms/step - loss: 0.0318 - accuracy: 0.9902 - val_loss: 0.0250 - val_accuracy: 0.9926\n",
      "Epoch 8/12\n",
      "60000/60000 [==============================] - 119s 2ms/step - loss: 0.0310 - accuracy: 0.9906 - val_loss: 0.0209 - val_accuracy: 0.9931\n",
      "Epoch 9/12\n",
      "60000/60000 [==============================] - 118s 2ms/step - loss: 0.0259 - accuracy: 0.9918 - val_loss: 0.0224 - val_accuracy: 0.9926\n",
      "Epoch 10/12\n",
      "60000/60000 [==============================] - 120s 2ms/step - loss: 0.0247 - accuracy: 0.9923 - val_loss: 0.0243 - val_accuracy: 0.9926\n",
      "Epoch 11/12\n",
      "60000/60000 [==============================] - 120s 2ms/step - loss: 0.0220 - accuracy: 0.9929 - val_loss: 0.0228 - val_accuracy: 0.9924\n",
      "Epoch 12/12\n",
      "60000/60000 [==============================] - 120s 2ms/step - loss: 0.0227 - accuracy: 0.9925 - val_loss: 0.0200 - val_accuracy: 0.9944\n"
     ]
    },
    {
     "data": {
      "text/plain": [
       "<keras.callbacks.callbacks.History at 0x7f83b2498898>"
      ]
     },
     "execution_count": 13,
     "metadata": {
      "tags": []
     },
     "output_type": "execute_result"
    }
   ],
   "source": [
    "model_3 = Sequential()\n",
    "model_3.add(Conv2D(32, kernel_size=(7, 7), activation='relu', input_shape=input_shape))\n",
    "model_3.add(Conv2D(64, (3, 3), activation='relu'))\n",
    "model_3.add(MaxPooling2D(pool_size=(2, 2)))\n",
    "model_3.add(Dropout(0.25))\n",
    "model_3.add(Flatten())\n",
    "model_3.add(Dense(128, activation='relu'))\n",
    "model_3.add(Dropout(0.5))\n",
    "model_3.add(Dense(num_classes, activation='softmax'))\n",
    "\n",
    "model_3.compile(loss=keras.losses.categorical_crossentropy, optimizer='adam', metrics=['accuracy'])\n",
    "\n",
    "model_3.fit(x_train, y_train, batch_size=batch_size, epochs=epochs, verbose=1, validation_data=(x_test, y_test))"
   ]
  },
  {
   "cell_type": "code",
   "execution_count": 14,
   "metadata": {
    "colab": {
     "base_uri": "https://localhost:8080/",
     "height": 51
    },
    "colab_type": "code",
    "id": "jov62j-qZHeT",
    "outputId": "c79ae14f-3db6-4492-ba35-240a6922271b"
   },
   "outputs": [
    {
     "name": "stdout",
     "output_type": "stream",
     "text": [
      "Test loss: 0.019960603120292627\n",
      "Test accuracy: 0.9944000244140625\n"
     ]
    }
   ],
   "source": [
    "score = model_3.evaluate(x_test, y_test, verbose=0)\n",
    "print('Test loss:', score[0])\n",
    "print('Test accuracy:', score[1])"
   ]
  },
  {
   "cell_type": "code",
   "execution_count": 0,
   "metadata": {
    "colab": {},
    "colab_type": "code",
    "id": "R1ImHi_Gf2Be"
   },
   "outputs": [],
   "source": []
  },
  {
   "cell_type": "markdown",
   "metadata": {
    "colab_type": "text",
    "id": "UcnuRDEDgDIr"
   },
   "source": [
    "4. Model 4 - 3 Hidden Layers + Adadelta + Max Pooling + Kernel 3X3\n"
   ]
  },
  {
   "cell_type": "code",
   "execution_count": 15,
   "metadata": {
    "colab": {
     "base_uri": "https://localhost:8080/",
     "height": 459
    },
    "colab_type": "code",
    "id": "YeuOpYM4gDI0",
    "outputId": "9462eff0-a68c-4902-d00e-4bd48f5f94f4"
   },
   "outputs": [
    {
     "name": "stdout",
     "output_type": "stream",
     "text": [
      "Train on 60000 samples, validate on 10000 samples\n",
      "Epoch 1/12\n",
      "60000/60000 [==============================] - 219s 4ms/step - loss: 0.2324 - accuracy: 0.9265 - val_loss: 0.0477 - val_accuracy: 0.9834\n",
      "Epoch 2/12\n",
      "60000/60000 [==============================] - 217s 4ms/step - loss: 0.0662 - accuracy: 0.9797 - val_loss: 0.0309 - val_accuracy: 0.9900\n",
      "Epoch 3/12\n",
      "60000/60000 [==============================] - 218s 4ms/step - loss: 0.0476 - accuracy: 0.9851 - val_loss: 0.0234 - val_accuracy: 0.9918\n",
      "Epoch 4/12\n",
      "60000/60000 [==============================] - 219s 4ms/step - loss: 0.0386 - accuracy: 0.9884 - val_loss: 0.0261 - val_accuracy: 0.9916\n",
      "Epoch 5/12\n",
      "60000/60000 [==============================] - 218s 4ms/step - loss: 0.0327 - accuracy: 0.9899 - val_loss: 0.0215 - val_accuracy: 0.9924\n",
      "Epoch 6/12\n",
      "60000/60000 [==============================] - 219s 4ms/step - loss: 0.0304 - accuracy: 0.9909 - val_loss: 0.0190 - val_accuracy: 0.9930\n",
      "Epoch 7/12\n",
      "60000/60000 [==============================] - 218s 4ms/step - loss: 0.0245 - accuracy: 0.9928 - val_loss: 0.0198 - val_accuracy: 0.9936\n",
      "Epoch 8/12\n",
      "60000/60000 [==============================] - 219s 4ms/step - loss: 0.0226 - accuracy: 0.9929 - val_loss: 0.0174 - val_accuracy: 0.9942\n",
      "Epoch 9/12\n",
      "60000/60000 [==============================] - 217s 4ms/step - loss: 0.0183 - accuracy: 0.9942 - val_loss: 0.0154 - val_accuracy: 0.9950\n",
      "Epoch 10/12\n",
      "60000/60000 [==============================] - 218s 4ms/step - loss: 0.0189 - accuracy: 0.9936 - val_loss: 0.0177 - val_accuracy: 0.9947\n",
      "Epoch 11/12\n",
      "60000/60000 [==============================] - 219s 4ms/step - loss: 0.0157 - accuracy: 0.9952 - val_loss: 0.0195 - val_accuracy: 0.9932\n",
      "Epoch 12/12\n",
      "60000/60000 [==============================] - 219s 4ms/step - loss: 0.0160 - accuracy: 0.9951 - val_loss: 0.0172 - val_accuracy: 0.9947\n"
     ]
    },
    {
     "data": {
      "text/plain": [
       "<keras.callbacks.callbacks.History at 0x7f83b2262d30>"
      ]
     },
     "execution_count": 15,
     "metadata": {
      "tags": []
     },
     "output_type": "execute_result"
    }
   ],
   "source": [
    "model_4 = Sequential()\n",
    "model_4.add(Conv2D(32, kernel_size=(3, 3), activation='relu', input_shape=input_shape))\n",
    "model_4.add(Conv2D(64, (3, 3), activation='relu'))\n",
    "model_4.add(MaxPooling2D(pool_size=(2, 2)))\n",
    "model_4.add(Conv2D(128, (3, 3), activation='relu'))\n",
    "model_4.add(MaxPooling2D(pool_size=(2, 2)))\n",
    "model_4.add(Dropout(0.25))\n",
    "model_4.add(Flatten())\n",
    "model_4.add(Dense(256, activation='relu'))\n",
    "model_4.add(Dropout(0.5))\n",
    "model_4.add(Dense(num_classes, activation='softmax'))\n",
    "\n",
    "model_4.compile(loss=keras.losses.categorical_crossentropy, optimizer=keras.optimizers.Adadelta(), metrics=['accuracy'])\n",
    "\n",
    "model_4.fit(x_train, y_train, batch_size=batch_size, epochs=epochs, verbose=1, validation_data=(x_test, y_test))\n"
   ]
  },
  {
   "cell_type": "code",
   "execution_count": 17,
   "metadata": {
    "colab": {
     "base_uri": "https://localhost:8080/",
     "height": 51
    },
    "colab_type": "code",
    "id": "sybgnrv7gDI8",
    "outputId": "103fb380-f610-49bb-997e-302f9bbfd97e"
   },
   "outputs": [
    {
     "name": "stdout",
     "output_type": "stream",
     "text": [
      "Test loss: 0.01719610899976833\n",
      "Test accuracy: 0.994700014591217\n"
     ]
    }
   ],
   "source": [
    "score = model_4.evaluate(x_test, y_test, verbose=0)\n",
    "print('Test loss:', score[0])\n",
    "print('Test accuracy:', score[1])"
   ]
  },
  {
   "cell_type": "code",
   "execution_count": 0,
   "metadata": {
    "colab": {},
    "colab_type": "code",
    "id": "n2joFmghgDJB"
   },
   "outputs": [],
   "source": []
  },
  {
   "cell_type": "markdown",
   "metadata": {
    "colab_type": "text",
    "id": "vcFKA0qGgDJE"
   },
   "source": [
    "5. Model 5 - 3 Hidden Layers + Adam + Max Pooling + Kernel 5X5\n"
   ]
  },
  {
   "cell_type": "code",
   "execution_count": 18,
   "metadata": {
    "colab": {
     "base_uri": "https://localhost:8080/",
     "height": 459
    },
    "colab_type": "code",
    "id": "LzbLECDGgDJE",
    "outputId": "62e321a5-2ada-4578-c6b3-6f7b0bebaf3f"
   },
   "outputs": [
    {
     "name": "stdout",
     "output_type": "stream",
     "text": [
      "Train on 60000 samples, validate on 10000 samples\n",
      "Epoch 1/12\n",
      "60000/60000 [==============================] - 304s 5ms/step - loss: 0.2448 - accuracy: 0.9212 - val_loss: 0.0383 - val_accuracy: 0.9882\n",
      "Epoch 2/12\n",
      "60000/60000 [==============================] - 307s 5ms/step - loss: 0.0617 - accuracy: 0.9816 - val_loss: 0.0260 - val_accuracy: 0.9912\n",
      "Epoch 3/12\n",
      "60000/60000 [==============================] - 302s 5ms/step - loss: 0.0434 - accuracy: 0.9873 - val_loss: 0.0418 - val_accuracy: 0.9863\n",
      "Epoch 4/12\n",
      "60000/60000 [==============================] - 307s 5ms/step - loss: 0.0337 - accuracy: 0.9899 - val_loss: 0.0212 - val_accuracy: 0.9936\n",
      "Epoch 5/12\n",
      "60000/60000 [==============================] - 303s 5ms/step - loss: 0.0272 - accuracy: 0.9917 - val_loss: 0.0188 - val_accuracy: 0.9936\n",
      "Epoch 6/12\n",
      "60000/60000 [==============================] - 298s 5ms/step - loss: 0.0244 - accuracy: 0.9926 - val_loss: 0.0187 - val_accuracy: 0.9942\n",
      "Epoch 7/12\n",
      "60000/60000 [==============================] - 303s 5ms/step - loss: 0.0211 - accuracy: 0.9936 - val_loss: 0.0171 - val_accuracy: 0.9948\n",
      "Epoch 8/12\n",
      "60000/60000 [==============================] - 305s 5ms/step - loss: 0.0177 - accuracy: 0.9944 - val_loss: 0.0252 - val_accuracy: 0.9923\n",
      "Epoch 9/12\n",
      "60000/60000 [==============================] - 303s 5ms/step - loss: 0.0161 - accuracy: 0.9951 - val_loss: 0.0170 - val_accuracy: 0.9947\n",
      "Epoch 10/12\n",
      "60000/60000 [==============================] - 308s 5ms/step - loss: 0.0133 - accuracy: 0.9959 - val_loss: 0.0192 - val_accuracy: 0.9940\n",
      "Epoch 11/12\n",
      "60000/60000 [==============================] - 306s 5ms/step - loss: 0.0127 - accuracy: 0.9959 - val_loss: 0.0172 - val_accuracy: 0.9947\n",
      "Epoch 12/12\n",
      "60000/60000 [==============================] - 305s 5ms/step - loss: 0.0113 - accuracy: 0.9965 - val_loss: 0.0171 - val_accuracy: 0.9950\n"
     ]
    },
    {
     "data": {
      "text/plain": [
       "<keras.callbacks.callbacks.History at 0x7f83b1f37940>"
      ]
     },
     "execution_count": 18,
     "metadata": {
      "tags": []
     },
     "output_type": "execute_result"
    }
   ],
   "source": [
    "model_5 = Sequential()\n",
    "model_5.add(Conv2D(32, kernel_size=(5, 5), activation='relu', input_shape=input_shape))\n",
    "model_5.add(Conv2D(64, (5, 5), activation='relu'))\n",
    "model_5.add(MaxPooling2D(pool_size=(2, 2)))\n",
    "model_5.add(Conv2D(128, (5, 5), activation='relu'))\n",
    "model_5.add(MaxPooling2D(pool_size=(2, 2)))\n",
    "model_5.add(Dropout(0.25))\n",
    "model_5.add(Flatten())\n",
    "model_5.add(Dense(256, activation='relu'))\n",
    "model_5.add(Dropout(0.5))\n",
    "model_5.add(Dense(num_classes, activation='softmax'))\n",
    "\n",
    "model_5.compile(loss=keras.losses.categorical_crossentropy, optimizer=keras.optimizers.Adadelta(), metrics=['accuracy'])\n",
    "\n",
    "model_5.fit(x_train, y_train, batch_size=batch_size, epochs=epochs, verbose=1, validation_data=(x_test, y_test))\n"
   ]
  },
  {
   "cell_type": "code",
   "execution_count": 21,
   "metadata": {
    "colab": {
     "base_uri": "https://localhost:8080/",
     "height": 51
    },
    "colab_type": "code",
    "id": "rRL_Hpo6gDJI",
    "outputId": "3d3e9fa7-da03-4902-ea0e-fb15c39772a5"
   },
   "outputs": [
    {
     "name": "stdout",
     "output_type": "stream",
     "text": [
      "Test loss: 0.01709874028202305\n",
      "Test accuracy: 0.9950000047683716\n"
     ]
    }
   ],
   "source": [
    "score = model_5.evaluate(x_test, y_test, verbose=0)\n",
    "print('Test loss:', score[0])\n",
    "print('Test accuracy:', score[1])"
   ]
  },
  {
   "cell_type": "code",
   "execution_count": 0,
   "metadata": {
    "colab": {},
    "colab_type": "code",
    "id": "_WkZiPJzgDJL"
   },
   "outputs": [],
   "source": []
  },
  {
   "cell_type": "markdown",
   "metadata": {
    "colab_type": "text",
    "id": "njbUeNZQgDJQ"
   },
   "source": [
    "6. Model 6 - 3 Hidden Layers + Adam + Max Pooling + Kernel 7X7"
   ]
  },
  {
   "cell_type": "code",
   "execution_count": 23,
   "metadata": {
    "colab": {
     "base_uri": "https://localhost:8080/",
     "height": 459
    },
    "colab_type": "code",
    "id": "4Rz1dcj_gDJQ",
    "outputId": "49aff3d6-2b7e-43ff-e489-6a4258f84ef4"
   },
   "outputs": [
    {
     "name": "stdout",
     "output_type": "stream",
     "text": [
      "Train on 60000 samples, validate on 10000 samples\n",
      "Epoch 1/12\n",
      "60000/60000 [==============================] - 334s 6ms/step - loss: 0.2568 - accuracy: 0.9190 - val_loss: 0.0446 - val_accuracy: 0.9874\n",
      "Epoch 2/12\n",
      "60000/60000 [==============================] - 333s 6ms/step - loss: 0.0610 - accuracy: 0.9827 - val_loss: 0.0322 - val_accuracy: 0.9904\n",
      "Epoch 3/12\n",
      "60000/60000 [==============================] - 337s 6ms/step - loss: 0.0417 - accuracy: 0.9876 - val_loss: 0.0333 - val_accuracy: 0.9898\n",
      "Epoch 4/12\n",
      "60000/60000 [==============================] - 338s 6ms/step - loss: 0.0328 - accuracy: 0.9905 - val_loss: 0.0232 - val_accuracy: 0.9930\n",
      "Epoch 5/12\n",
      "60000/60000 [==============================] - 337s 6ms/step - loss: 0.0264 - accuracy: 0.9923 - val_loss: 0.0244 - val_accuracy: 0.9922\n",
      "Epoch 6/12\n",
      "60000/60000 [==============================] - 337s 6ms/step - loss: 0.0204 - accuracy: 0.9941 - val_loss: 0.0220 - val_accuracy: 0.9929\n",
      "Epoch 7/12\n",
      "60000/60000 [==============================] - 336s 6ms/step - loss: 0.0175 - accuracy: 0.9948 - val_loss: 0.0201 - val_accuracy: 0.9946\n",
      "Epoch 8/12\n",
      "60000/60000 [==============================] - 337s 6ms/step - loss: 0.0158 - accuracy: 0.9953 - val_loss: 0.0229 - val_accuracy: 0.9942\n",
      "Epoch 9/12\n",
      "60000/60000 [==============================] - 340s 6ms/step - loss: 0.0126 - accuracy: 0.9965 - val_loss: 0.0259 - val_accuracy: 0.9926\n",
      "Epoch 10/12\n",
      "60000/60000 [==============================] - 343s 6ms/step - loss: 0.0116 - accuracy: 0.9966 - val_loss: 0.0253 - val_accuracy: 0.9931\n",
      "Epoch 11/12\n",
      "60000/60000 [==============================] - 349s 6ms/step - loss: 0.0093 - accuracy: 0.9972 - val_loss: 0.0282 - val_accuracy: 0.9937\n",
      "Epoch 12/12\n",
      "60000/60000 [==============================] - 350s 6ms/step - loss: 0.0093 - accuracy: 0.9974 - val_loss: 0.0271 - val_accuracy: 0.9934\n"
     ]
    },
    {
     "data": {
      "text/plain": [
       "<keras.callbacks.callbacks.History at 0x7f83b196d7b8>"
      ]
     },
     "execution_count": 23,
     "metadata": {
      "tags": []
     },
     "output_type": "execute_result"
    }
   ],
   "source": [
    "model_6 = Sequential()\n",
    "model_6.add(Conv2D(32, kernel_size=(7, 7), activation='relu', input_shape=input_shape))\n",
    "model_6.add(Conv2D(64, (7, 7), activation='relu'))\n",
    "model_6.add(MaxPooling2D(pool_size=(2, 2)))\n",
    "model_6.add(Conv2D(128, (7, 7), activation='relu'))\n",
    "model_6.add(MaxPooling2D(pool_size=(2, 2)))\n",
    "model_6.add(Dropout(0.25))\n",
    "model_6.add(Flatten())\n",
    "model_6.add(Dense(256, activation='relu'))\n",
    "model_6.add(Dropout(0.5))\n",
    "model_6.add(Dense(num_classes, activation='softmax'))\n",
    "\n",
    "model_6.compile(loss=keras.losses.categorical_crossentropy, optimizer=keras.optimizers.Adadelta(), metrics=['accuracy'])\n",
    "\n",
    "model_6.fit(x_train, y_train, batch_size=batch_size, epochs=epochs, verbose=1, validation_data=(x_test, y_test))"
   ]
  },
  {
   "cell_type": "code",
   "execution_count": 24,
   "metadata": {
    "colab": {
     "base_uri": "https://localhost:8080/",
     "height": 51
    },
    "colab_type": "code",
    "id": "hxe8Qk1agDJT",
    "outputId": "c86e41a1-df09-4fa3-fe63-dd90d3da4ab5"
   },
   "outputs": [
    {
     "name": "stdout",
     "output_type": "stream",
     "text": [
      "Test loss: 0.027129932529083498\n",
      "Test accuracy: 0.993399977684021\n"
     ]
    }
   ],
   "source": [
    "score = model_6.evaluate(x_test, y_test, verbose=0)\n",
    "print('Test loss:', score[0])\n",
    "print('Test accuracy:', score[1])"
   ]
  },
  {
   "cell_type": "code",
   "execution_count": 0,
   "metadata": {
    "colab": {},
    "colab_type": "code",
    "id": "G6nCfoK2gDJX"
   },
   "outputs": [],
   "source": []
  },
  {
   "cell_type": "markdown",
   "metadata": {
    "colab_type": "text",
    "id": "my-eTZoNPTHV"
   },
   "source": [
    "7. Model 7 - 5 Hidden Layers + Adadelta + Max Pooling + Kernel 3X3\n"
   ]
  },
  {
   "cell_type": "code",
   "execution_count": 48,
   "metadata": {
    "colab": {
     "base_uri": "https://localhost:8080/",
     "height": 459
    },
    "colab_type": "code",
    "id": "CjCvvfnLPTHX",
    "outputId": "7682bd1b-5171-488b-b7e3-064f42af3829"
   },
   "outputs": [
    {
     "name": "stdout",
     "output_type": "stream",
     "text": [
      "Train on 60000 samples, validate on 10000 samples\n",
      "Epoch 1/12\n",
      "60000/60000 [==============================] - 76s 1ms/step - loss: 0.5951 - accuracy: 0.8008 - val_loss: 0.0858 - val_accuracy: 0.9755\n",
      "Epoch 2/12\n",
      "60000/60000 [==============================] - 76s 1ms/step - loss: 0.1648 - accuracy: 0.9500 - val_loss: 0.0508 - val_accuracy: 0.9850\n",
      "Epoch 3/12\n",
      "60000/60000 [==============================] - 79s 1ms/step - loss: 0.1257 - accuracy: 0.9633 - val_loss: 0.0417 - val_accuracy: 0.9868\n",
      "Epoch 4/12\n",
      "60000/60000 [==============================] - 78s 1ms/step - loss: 0.1020 - accuracy: 0.9704 - val_loss: 0.0391 - val_accuracy: 0.9868\n",
      "Epoch 5/12\n",
      "60000/60000 [==============================] - 79s 1ms/step - loss: 0.0887 - accuracy: 0.9735 - val_loss: 0.0435 - val_accuracy: 0.9879\n",
      "Epoch 6/12\n",
      "60000/60000 [==============================] - 76s 1ms/step - loss: 0.0767 - accuracy: 0.9773 - val_loss: 0.0359 - val_accuracy: 0.9892\n",
      "Epoch 7/12\n",
      "60000/60000 [==============================] - 79s 1ms/step - loss: 0.0685 - accuracy: 0.9804 - val_loss: 0.0265 - val_accuracy: 0.9919\n",
      "Epoch 8/12\n",
      "60000/60000 [==============================] - 78s 1ms/step - loss: 0.0642 - accuracy: 0.9811 - val_loss: 0.0287 - val_accuracy: 0.9919\n",
      "Epoch 9/12\n",
      "60000/60000 [==============================] - 76s 1ms/step - loss: 0.0590 - accuracy: 0.9834 - val_loss: 0.0273 - val_accuracy: 0.9920\n",
      "Epoch 10/12\n",
      "60000/60000 [==============================] - 80s 1ms/step - loss: 0.0558 - accuracy: 0.9841 - val_loss: 0.0244 - val_accuracy: 0.9936\n",
      "Epoch 11/12\n",
      "60000/60000 [==============================] - 76s 1ms/step - loss: 0.0508 - accuracy: 0.9858 - val_loss: 0.0238 - val_accuracy: 0.9930\n",
      "Epoch 12/12\n",
      "60000/60000 [==============================] - 75s 1ms/step - loss: 0.0474 - accuracy: 0.9864 - val_loss: 0.0271 - val_accuracy: 0.9930\n"
     ]
    },
    {
     "data": {
      "text/plain": [
       "<keras.callbacks.callbacks.History at 0x7f83b05085f8>"
      ]
     },
     "execution_count": 48,
     "metadata": {
      "tags": []
     },
     "output_type": "execute_result"
    }
   ],
   "source": [
    "model_7 = Sequential()\n",
    "model_7.add(Conv2D(16, kernel_size=(3, 3), activation='relu', input_shape=input_shape))\n",
    "model_7.add(Conv2D(32, (3, 3), activation='relu'))\n",
    "model_7.add(MaxPooling2D(pool_size=(2, 2)))\n",
    "model_7.add(Conv2D(64, (3, 3), activation='relu'))\n",
    "model_7.add(MaxPooling2D(pool_size=(2, 2)))\n",
    "model_7.add(Conv2D(32, (3,3 ), activation='relu'))\n",
    "model_7.add(Dropout(0.2))\n",
    "model_7.add(Conv2D(16, (3, 3), activation='relu'))\n",
    "model_7.add(Dropout(0.2))\n",
    "model_7.add(Flatten())\n",
    "model_7.add(Dense(256, activation='relu'))\n",
    "model_7.add(Dropout(0.5))\n",
    "model_7.add(Dense(num_classes, activation='softmax'))\n",
    "\n",
    "model_7.compile(loss=keras.losses.categorical_crossentropy, optimizer=keras.optimizers.Adadelta(), metrics=['accuracy'])\n",
    "\n",
    "model_7.fit(x_train, y_train, batch_size=batch_size, epochs=epochs, verbose=1, validation_data=(x_test, y_test))\n"
   ]
  },
  {
   "cell_type": "code",
   "execution_count": 49,
   "metadata": {
    "colab": {
     "base_uri": "https://localhost:8080/",
     "height": 51
    },
    "colab_type": "code",
    "id": "5nv3mQTkPTHf",
    "outputId": "b4457d1b-1ef8-4dd7-dc1f-7fa85e1073b9"
   },
   "outputs": [
    {
     "name": "stdout",
     "output_type": "stream",
     "text": [
      "Test loss: 0.027066458926092492\n",
      "Test accuracy: 0.9929999709129333\n"
     ]
    }
   ],
   "source": [
    "score = model_7.evaluate(x_test, y_test, verbose=0)\n",
    "print('Test loss:', score[0])\n",
    "print('Test accuracy:', score[1])"
   ]
  },
  {
   "cell_type": "code",
   "execution_count": 0,
   "metadata": {
    "colab": {},
    "colab_type": "code",
    "id": "lL3glJkkPTHj"
   },
   "outputs": [],
   "source": []
  },
  {
   "cell_type": "markdown",
   "metadata": {
    "colab_type": "text",
    "id": "Q_xC2LT0PTHo"
   },
   "source": [
    "8. Model 8 - 5 Hidden Layers + Adam + Max Pooling + Kernel 5X5\n"
   ]
  },
  {
   "cell_type": "code",
   "execution_count": 9,
   "metadata": {
    "colab": {
     "base_uri": "https://localhost:8080/",
     "height": 459
    },
    "colab_type": "code",
    "id": "dUeCMiVrPTHp",
    "outputId": "025c4826-b731-43f1-a117-2ee8b247df0e"
   },
   "outputs": [
    {
     "name": "stdout",
     "output_type": "stream",
     "text": [
      "Train on 60000 samples, validate on 10000 samples\n",
      "Epoch 1/12\n",
      "60000/60000 [==============================] - 421s 7ms/step - loss: 0.2515 - accuracy: 0.9206 - val_loss: 0.0494 - val_accuracy: 0.9864\n",
      "Epoch 2/12\n",
      "60000/60000 [==============================] - 421s 7ms/step - loss: 0.0700 - accuracy: 0.9794 - val_loss: 0.0337 - val_accuracy: 0.9896\n",
      "Epoch 3/12\n",
      "60000/60000 [==============================] - 421s 7ms/step - loss: 0.0526 - accuracy: 0.9846 - val_loss: 0.0287 - val_accuracy: 0.9913\n",
      "Epoch 4/12\n",
      "60000/60000 [==============================] - 421s 7ms/step - loss: 0.0436 - accuracy: 0.9868 - val_loss: 0.0314 - val_accuracy: 0.9910\n",
      "Epoch 5/12\n",
      "60000/60000 [==============================] - 420s 7ms/step - loss: 0.0399 - accuracy: 0.9885 - val_loss: 0.0245 - val_accuracy: 0.9920\n",
      "Epoch 6/12\n",
      "60000/60000 [==============================] - 421s 7ms/step - loss: 0.0353 - accuracy: 0.9896 - val_loss: 0.0292 - val_accuracy: 0.9912\n",
      "Epoch 7/12\n",
      "60000/60000 [==============================] - 421s 7ms/step - loss: 0.0302 - accuracy: 0.9912 - val_loss: 0.0344 - val_accuracy: 0.9884\n",
      "Epoch 8/12\n",
      "60000/60000 [==============================] - 421s 7ms/step - loss: 0.0289 - accuracy: 0.9916 - val_loss: 0.0249 - val_accuracy: 0.9925\n",
      "Epoch 9/12\n",
      "60000/60000 [==============================] - 421s 7ms/step - loss: 0.0286 - accuracy: 0.9917 - val_loss: 0.0332 - val_accuracy: 0.9907\n",
      "Epoch 10/12\n",
      "60000/60000 [==============================] - 422s 7ms/step - loss: 0.0260 - accuracy: 0.9918 - val_loss: 0.0334 - val_accuracy: 0.9902\n",
      "Epoch 11/12\n",
      "60000/60000 [==============================] - 421s 7ms/step - loss: 0.0251 - accuracy: 0.9926 - val_loss: 0.0211 - val_accuracy: 0.9941\n",
      "Epoch 12/12\n",
      "60000/60000 [==============================] - 421s 7ms/step - loss: 0.0207 - accuracy: 0.9938 - val_loss: 0.0275 - val_accuracy: 0.9925\n"
     ]
    },
    {
     "data": {
      "text/plain": [
       "<keras.callbacks.callbacks.History at 0x7fed1a3a5908>"
      ]
     },
     "execution_count": 9,
     "metadata": {
      "tags": []
     },
     "output_type": "execute_result"
    }
   ],
   "source": [
    "model_8 = Sequential()\n",
    "model_8.add(Conv2D(16, kernel_size=(5, 5), activation='relu', input_shape=input_shape))\n",
    "model_8.add(Conv2D(32, (5, 5), activation='relu'))\n",
    "model_8.add(Dropout(0.25))\n",
    "#model_8.add(MaxPooling2D(pool_size=(2, 2)))\n",
    "model_8.add(Conv2D(64, (5, 5), activation='relu'))\n",
    "model_8.add(Dropout(0.25))\n",
    "#model_8.add(MaxPooling2D(pool_size=(2, 2)))\n",
    "model_8.add(Conv2D(64, (5, 5), activation='relu'))\n",
    "#model_8.add(MaxPooling2D(pool_size=(2, 2)))\n",
    "model_8.add(Conv2D(32, (5, 5), activation='relu'))\n",
    "#model_8.add(MaxPooling2D(pool_size=(2, 2)))\n",
    "model_8.add(Dropout(0.25))\n",
    "model_8.add(Flatten())\n",
    "model_8.add(Dense(256, activation='relu'))\n",
    "model_8.add(Dropout(0.5))\n",
    "model_8.add(Dense(num_classes, activation='softmax'))\n",
    "\n",
    "model_8.compile(loss=keras.losses.categorical_crossentropy, optimizer='adam', metrics=['accuracy'])\n",
    "\n",
    "model_8.fit(x_train, y_train, batch_size=batch_size, epochs=epochs, verbose=1, validation_data=(x_test, y_test))\n"
   ]
  },
  {
   "cell_type": "code",
   "execution_count": 10,
   "metadata": {
    "colab": {
     "base_uri": "https://localhost:8080/",
     "height": 51
    },
    "colab_type": "code",
    "id": "jdUQaaGxPTHt",
    "outputId": "2e217ab8-cadd-4e44-cbd6-094366bf36dc"
   },
   "outputs": [
    {
     "name": "stdout",
     "output_type": "stream",
     "text": [
      "Test loss: 0.027493627056613512\n",
      "Test accuracy: 0.9925000071525574\n"
     ]
    }
   ],
   "source": [
    "score = model_8.evaluate(x_test, y_test, verbose=0)\n",
    "print('Test loss:', score[0])\n",
    "print('Test accuracy:', score[1])"
   ]
  },
  {
   "cell_type": "code",
   "execution_count": 0,
   "metadata": {
    "colab": {},
    "colab_type": "code",
    "id": "RdqhQYUtPTHw"
   },
   "outputs": [],
   "source": []
  },
  {
   "cell_type": "markdown",
   "metadata": {
    "colab_type": "text",
    "id": "-MJaOPVPPTH0"
   },
   "source": [
    "9. Model 9 - 5 Hidden Layers + Adam + Max Pooling + Kernel 7X7 + padding"
   ]
  },
  {
   "cell_type": "code",
   "execution_count": 18,
   "metadata": {
    "colab": {
     "base_uri": "https://localhost:8080/",
     "height": 459
    },
    "colab_type": "code",
    "id": "o7irPee1PTH1",
    "outputId": "d9d29f23-da02-4ec9-f704-c01d1962d102"
   },
   "outputs": [
    {
     "name": "stdout",
     "output_type": "stream",
     "text": [
      "Train on 60000 samples, validate on 10000 samples\n",
      "Epoch 1/12\n",
      "60000/60000 [==============================] - 242s 4ms/step - loss: 0.5484 - accuracy: 0.8182 - val_loss: 0.0831 - val_accuracy: 0.9756\n",
      "Epoch 2/12\n",
      "60000/60000 [==============================] - 242s 4ms/step - loss: 0.1629 - accuracy: 0.9523 - val_loss: 0.0460 - val_accuracy: 0.9859\n",
      "Epoch 3/12\n",
      "60000/60000 [==============================] - 241s 4ms/step - loss: 0.1184 - accuracy: 0.9648 - val_loss: 0.0533 - val_accuracy: 0.9861\n",
      "Epoch 4/12\n",
      "60000/60000 [==============================] - 241s 4ms/step - loss: 0.0908 - accuracy: 0.9735 - val_loss: 0.0354 - val_accuracy: 0.9900\n",
      "Epoch 5/12\n",
      "60000/60000 [==============================] - 243s 4ms/step - loss: 0.0794 - accuracy: 0.9770 - val_loss: 0.0425 - val_accuracy: 0.9882\n",
      "Epoch 6/12\n",
      "60000/60000 [==============================] - 241s 4ms/step - loss: 0.0719 - accuracy: 0.9801 - val_loss: 0.0273 - val_accuracy: 0.9931\n",
      "Epoch 7/12\n",
      "60000/60000 [==============================] - 240s 4ms/step - loss: 0.0618 - accuracy: 0.9827 - val_loss: 0.0300 - val_accuracy: 0.9915\n",
      "Epoch 8/12\n",
      "60000/60000 [==============================] - 241s 4ms/step - loss: 0.0565 - accuracy: 0.9842 - val_loss: 0.0306 - val_accuracy: 0.9919\n",
      "Epoch 9/12\n",
      "60000/60000 [==============================] - 241s 4ms/step - loss: 0.0555 - accuracy: 0.9848 - val_loss: 0.0257 - val_accuracy: 0.9924\n",
      "Epoch 10/12\n",
      "60000/60000 [==============================] - 241s 4ms/step - loss: 0.0485 - accuracy: 0.9863 - val_loss: 0.0263 - val_accuracy: 0.9934\n",
      "Epoch 11/12\n",
      "60000/60000 [==============================] - 241s 4ms/step - loss: 0.0459 - accuracy: 0.9871 - val_loss: 0.0265 - val_accuracy: 0.9926\n",
      "Epoch 12/12\n",
      "60000/60000 [==============================] - 241s 4ms/step - loss: 0.0408 - accuracy: 0.9888 - val_loss: 0.0254 - val_accuracy: 0.9929\n"
     ]
    },
    {
     "data": {
      "text/plain": [
       "<keras.callbacks.callbacks.History at 0x7f762b2f4198>"
      ]
     },
     "execution_count": 18,
     "metadata": {
      "tags": []
     },
     "output_type": "execute_result"
    }
   ],
   "source": [
    "model_9 = Sequential()\n",
    "model_9.add(Conv2D(16, kernel_size=(7, 7), activation='relu', input_shape=input_shape))\n",
    "model_9.add(Conv2D(24, (7, 7), activation='relu',padding='same'))\n",
    "model_9.add(MaxPooling2D(pool_size=(2, 2)))\n",
    "model_9.add(Dropout(0.25))\n",
    "model_9.add(Conv2D(32, (7, 7), activation='relu',padding='same'))\n",
    "model_9.add(MaxPooling2D(pool_size=(2, 2)))\n",
    "model_9.add(Conv2D(24, (7, 7), activation='relu',padding='same'))\n",
    "model_9.add(MaxPooling2D(pool_size=(2, 2)))\n",
    "model_9.add(Conv2D(16, (7, 7), activation='relu',padding='same'))\n",
    "model_9.add(MaxPooling2D(pool_size=(2, 2)))\n",
    "model_9.add(Dropout(0.25))\n",
    "model_9.add(Flatten())\n",
    "model_9.add(Dense(256, activation='relu'))\n",
    "model_9.add(Dropout(0.5))\n",
    "model_9.add(Dense(num_classes, activation='softmax'))\n",
    "\n",
    "model_9.compile(loss=keras.losses.categorical_crossentropy, optimizer='adam', metrics=['accuracy'])\n",
    "\n",
    "model_9.fit(x_train, y_train, batch_size=batch_size, epochs=epochs, verbose=1, validation_data=(x_test, y_test))\n"
   ]
  },
  {
   "cell_type": "code",
   "execution_count": 19,
   "metadata": {
    "colab": {
     "base_uri": "https://localhost:8080/",
     "height": 51
    },
    "colab_type": "code",
    "id": "fH7KZMMFPTH6",
    "outputId": "bd1037ca-41de-4176-c801-7c7aa364b61b"
   },
   "outputs": [
    {
     "name": "stdout",
     "output_type": "stream",
     "text": [
      "Test loss: 0.025357187755659833\n",
      "Test accuracy: 0.992900013923645\n"
     ]
    }
   ],
   "source": [
    "score = model_9.evaluate(x_test, y_test, verbose=0)\n",
    "print('Test loss:', score[0])\n",
    "print('Test accuracy:', score[1])"
   ]
  },
  {
   "cell_type": "code",
   "execution_count": 22,
   "metadata": {
    "colab": {
     "base_uri": "https://localhost:8080/",
     "height": 238
    },
    "colab_type": "code",
    "id": "X05euJKDPTIA",
    "outputId": "cf4c9a99-83c0-4629-bb8a-0a3f9f9d33ea"
   },
   "outputs": [
    {
     "name": "stdout",
     "output_type": "stream",
     "text": [
      "+---------------+-------------------------------------------------------------------+----------+\n",
      "| Hidden Layers |                             Parameters                            | Accuracy |\n",
      "+---------------+-------------------------------------------------------------------+----------+\n",
      "|       2       |    CNN + ReLU +  Adadelta + Max Pooling + Kernel 3X3 + Dropout    |  0.992   |\n",
      "|       2       |      CNN + ReLU +  Adam + Max Pooling + Kernel 5X5 + Dropout      |  0.992   |\n",
      "|       2       |      CNN + ReLU +  Adam + Max Pooling + Kernel 7X7 + Dropout      |  0.994   |\n",
      "|       3       |    CNN + ReLU +  Adadelta + Max Pooling + Kernel 3X3 + Dropout    |  0.994   |\n",
      "|       3       |      CNN + ReLU +  Adam + Max Pooling + Kernel 5X5 + Dropout      |  0.995   |\n",
      "|       3       |      CNN + ReLU +  Adam + Max Pooling + Kernel 7X7 + Dropout      |  0.993   |\n",
      "|       5       |    CNN + ReLU +  Adadelta + Max Pooling + Kernel 3X3 + Dropout    |  0.992   |\n",
      "|       5       |      CNN + ReLU +  Adam + Max Pooling + Kernel 5X5 + Dropout      |  0.992   |\n",
      "|       5       | CNN + ReLU +  Adam + Max Pooling + Kernel 7X7 + Dropout + padding |  0.992   |\n",
      "+---------------+-------------------------------------------------------------------+----------+\n"
     ]
    }
   ],
   "source": [
    "\n",
    "from prettytable import PrettyTable\n",
    "x = PrettyTable()\n",
    "x.field_names = [\"Hidden Layers\",\"Parameters\",\"Accuracy\"]\n",
    "x.add_row([2,'CNN + ReLU +  Adadelta + Max Pooling + Kernel 3X3 + Dropout ', 0.992])\n",
    "x.add_row([2,'CNN + ReLU +  Adam + Max Pooling + Kernel 5X5 + Dropout ', 0.992])\n",
    "x.add_row([2,'CNN + ReLU +  Adam + Max Pooling + Kernel 7X7 + Dropout', 0.994])\n",
    "x.add_row([3,'CNN + ReLU +  Adadelta + Max Pooling + Kernel 3X3 + Dropout ', 0.994])\n",
    "x.add_row([3,'CNN + ReLU +  Adam + Max Pooling + Kernel 5X5 + Dropout', 0.995])\n",
    "x.add_row([3,'CNN + ReLU +  Adam + Max Pooling + Kernel 7X7 + Dropout', 0.993])\n",
    "x.add_row([5,'CNN + ReLU +  Adadelta + Max Pooling + Kernel 3X3 + Dropout', 0.992])\n",
    "x.add_row([5,'CNN + ReLU +  Adam + Max Pooling + Kernel 5X5 + Dropout', 0.992])\n",
    "x.add_row([5,'CNN + ReLU +  Adam + Max Pooling + Kernel 7X7 + Dropout + padding', 0.992])\n",
    "print(x)\n"
   ]
  },
  {
   "cell_type": "code",
   "execution_count": 0,
   "metadata": {
    "colab": {},
    "colab_type": "code",
    "id": "6fb9jLNX4WRy"
   },
   "outputs": [],
   "source": []
  }
 ],
 "metadata": {
  "colab": {
   "collapsed_sections": [],
   "name": "CNN_MNIST_Solution.ipynb",
   "provenance": []
  },
  "kernelspec": {
   "display_name": "Python 3",
   "language": "python",
   "name": "python3"
  },
  "language_info": {
   "codemirror_mode": {
    "name": "ipython",
    "version": 3
   },
   "file_extension": ".py",
   "mimetype": "text/x-python",
   "name": "python",
   "nbconvert_exporter": "python",
   "pygments_lexer": "ipython3",
   "version": "3.7.6"
  }
 },
 "nbformat": 4,
 "nbformat_minor": 1
}
