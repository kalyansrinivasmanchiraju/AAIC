{
  "nbformat": 4,
  "nbformat_minor": 0,
  "metadata": {
    "colab": {
      "name": "CNN_MNIST_Solution_updated.ipynb",
      "provenance": [],
      "collapsed_sections": []
    },
    "kernelspec": {
      "name": "python3",
      "display_name": "Python 3"
    }
  },
  "cells": [
    {
      "cell_type": "code",
      "metadata": {
        "id": "ARL7KFhCEmtw",
        "colab_type": "code",
        "outputId": "1800b802-f33b-4595-9c04-4a18d3519b1c",
        "colab": {
          "base_uri": "https://localhost:8080/",
          "height": 34
        }
      },
      "source": [
        "from __future__ import print_function\n",
        "import keras\n",
        "from keras.datasets import mnist\n",
        "from keras.models import Sequential\n",
        "from keras.layers import Dense, Dropout, Flatten\n",
        "from keras.layers import Conv2D, MaxPooling2D\n",
        "from keras import backend as K"
      ],
      "execution_count": 0,
      "outputs": [
        {
          "output_type": "stream",
          "text": [
            "Using TensorFlow backend.\n"
          ],
          "name": "stderr"
        }
      ]
    },
    {
      "cell_type": "code",
      "metadata": {
        "id": "yIp8Hdy8NdV6",
        "colab_type": "code",
        "colab": {}
      },
      "source": [
        "%matplotlib notebook\n",
        "import matplotlib.pyplot as plt\n",
        "import numpy as np\n",
        "import time\n",
        "# https://gist.github.com/greydanus/f6eee59eaf1d90fcb3b534a25362cea4\n",
        "# https://stackoverflow.com/a/14434334\n",
        "# this function is used to update the plots for each epoch and error\n",
        "def plt_dynamic(x, vy, ty, ax, colors=['b']):\n",
        "    ax.plot(x, vy, 'b', label=\"Validation Loss\")\n",
        "    ax.plot(x, ty, 'r', label=\"Train Loss\")\n",
        "    plt.legend()\n",
        "    plt.grid()\n",
        "    \n",
        "    fig.canvas.draw()"
      ],
      "execution_count": 0,
      "outputs": []
    },
    {
      "cell_type": "code",
      "metadata": {
        "id": "k-IhurliE3El",
        "colab_type": "code",
        "colab": {}
      },
      "source": [
        "batch_size = 128\n",
        "num_classes = 10\n",
        "epochs = 12"
      ],
      "execution_count": 0,
      "outputs": []
    },
    {
      "cell_type": "code",
      "metadata": {
        "id": "oHhe8C7JE5VK",
        "colab_type": "code",
        "colab": {}
      },
      "source": [
        "\n",
        "# input image dimensions\n",
        "img_rows, img_cols = 28, 28\n"
      ],
      "execution_count": 0,
      "outputs": []
    },
    {
      "cell_type": "code",
      "metadata": {
        "id": "LvpqH0urE90N",
        "colab_type": "code",
        "outputId": "24290ec1-73fa-43ea-bffd-150e90042097",
        "colab": {
          "base_uri": "https://localhost:8080/",
          "height": 51
        }
      },
      "source": [
        "# the data, split between train and test sets\n",
        "(x_train, y_train), (x_test, y_test) = mnist.load_data()"
      ],
      "execution_count": 0,
      "outputs": [
        {
          "output_type": "stream",
          "text": [
            "Downloading data from https://s3.amazonaws.com/img-datasets/mnist.npz\n",
            "11493376/11490434 [==============================] - 0s 0us/step\n"
          ],
          "name": "stdout"
        }
      ]
    },
    {
      "cell_type": "code",
      "metadata": {
        "id": "1HXkxw19FBHK",
        "colab_type": "code",
        "colab": {}
      },
      "source": [
        "if K.image_data_format() == 'channels_first':\n",
        "    x_train = x_train.reshape(x_train.shape[0], 1, img_rows, img_cols)\n",
        "    x_test = x_test.reshape(x_test.shape[0], 1, img_rows, img_cols)\n",
        "    input_shape = (1, img_rows, img_cols)\n",
        "else:\n",
        "    x_train = x_train.reshape(x_train.shape[0], img_rows, img_cols, 1)\n",
        "    x_test = x_test.reshape(x_test.shape[0], img_rows, img_cols, 1)\n",
        "    input_shape = (img_rows, img_cols, 1)"
      ],
      "execution_count": 0,
      "outputs": []
    },
    {
      "cell_type": "code",
      "metadata": {
        "id": "HSsSZM-LFEFU",
        "colab_type": "code",
        "outputId": "3097fbeb-d686-4ee2-ac54-38b44a4faee5",
        "colab": {
          "base_uri": "https://localhost:8080/",
          "height": 68
        }
      },
      "source": [
        "x_train = x_train.astype('float32')\n",
        "x_test = x_test.astype('float32')\n",
        "x_train /= 255\n",
        "x_test /= 255\n",
        "print('x_train shape:', x_train.shape)\n",
        "print(x_train.shape[0], 'train samples')\n",
        "print(x_test.shape[0], 'test samples')"
      ],
      "execution_count": 0,
      "outputs": [
        {
          "output_type": "stream",
          "text": [
            "x_train shape: (60000, 28, 28, 1)\n",
            "60000 train samples\n",
            "10000 test samples\n"
          ],
          "name": "stdout"
        }
      ]
    },
    {
      "cell_type": "code",
      "metadata": {
        "id": "zii0eMtjFQve",
        "colab_type": "code",
        "colab": {}
      },
      "source": [
        "# convert class vectors to binary class matrices\n",
        "\n",
        "y_train = keras.utils.to_categorical(y_train, num_classes)\n",
        "y_test = keras.utils.to_categorical(y_test, num_classes)"
      ],
      "execution_count": 0,
      "outputs": []
    },
    {
      "cell_type": "markdown",
      "metadata": {
        "id": "o_6yh0hWQsRV",
        "colab_type": "text"
      },
      "source": [
        "1. Model 1 - 2 Hidden Layers + Adam + Max Pooling + Kernel 3X3\n"
      ]
    },
    {
      "cell_type": "code",
      "metadata": {
        "id": "Ygv2Dx83FUce",
        "colab_type": "code",
        "outputId": "9766c4fb-b441-45f9-e8d1-57848329e785",
        "colab": {
          "base_uri": "https://localhost:8080/",
          "height": 442
        }
      },
      "source": [
        "model = Sequential()\n",
        "model.add(Conv2D(32, kernel_size=(3, 3), activation='relu', input_shape=input_shape))\n",
        "model.add(Conv2D(64, (3, 3), activation='relu'))\n",
        "model.add(MaxPooling2D(pool_size=(2, 2)))\n",
        "model.add(Dropout(0.25))\n",
        "model.add(Flatten())\n",
        "model.add(Dense(128, activation='relu'))\n",
        "model.add(Dropout(0.5))\n",
        "model.add(Dense(num_classes, activation='softmax'))\n",
        "\n",
        "model.compile(loss=keras.losses.categorical_crossentropy, optimizer=keras.optimizers.Adadelta(), metrics=['accuracy'])\n",
        "\n",
        "history1 = model.fit(x_train, y_train, batch_size=batch_size, epochs=epochs, verbose=1, validation_data=(x_test, y_test))\n"
      ],
      "execution_count": 0,
      "outputs": [
        {
          "output_type": "stream",
          "text": [
            "Train on 60000 samples, validate on 10000 samples\n",
            "Epoch 1/12\n",
            "60000/60000 [==============================] - 161s 3ms/step - loss: 0.2563 - accuracy: 0.9215 - val_loss: 0.0533 - val_accuracy: 0.9826\n",
            "Epoch 2/12\n",
            "60000/60000 [==============================] - 159s 3ms/step - loss: 0.0868 - accuracy: 0.9742 - val_loss: 0.0380 - val_accuracy: 0.9887\n",
            "Epoch 3/12\n",
            "60000/60000 [==============================] - 160s 3ms/step - loss: 0.0642 - accuracy: 0.9812 - val_loss: 0.0337 - val_accuracy: 0.9890\n",
            "Epoch 4/12\n",
            "60000/60000 [==============================] - 166s 3ms/step - loss: 0.0507 - accuracy: 0.9852 - val_loss: 0.0306 - val_accuracy: 0.9896\n",
            "Epoch 5/12\n",
            "60000/60000 [==============================] - 159s 3ms/step - loss: 0.0459 - accuracy: 0.9865 - val_loss: 0.0300 - val_accuracy: 0.9898\n",
            "Epoch 6/12\n",
            "60000/60000 [==============================] - 164s 3ms/step - loss: 0.0412 - accuracy: 0.9873 - val_loss: 0.0299 - val_accuracy: 0.9906\n",
            "Epoch 7/12\n",
            "60000/60000 [==============================] - 159s 3ms/step - loss: 0.0351 - accuracy: 0.9896 - val_loss: 0.0289 - val_accuracy: 0.9914\n",
            "Epoch 8/12\n",
            "60000/60000 [==============================] - 158s 3ms/step - loss: 0.0313 - accuracy: 0.9905 - val_loss: 0.0277 - val_accuracy: 0.9912\n",
            "Epoch 9/12\n",
            "60000/60000 [==============================] - 159s 3ms/step - loss: 0.0306 - accuracy: 0.9907 - val_loss: 0.0330 - val_accuracy: 0.9900\n",
            "Epoch 10/12\n",
            "60000/60000 [==============================] - 168s 3ms/step - loss: 0.0287 - accuracy: 0.9913 - val_loss: 0.0293 - val_accuracy: 0.9912\n",
            "Epoch 11/12\n",
            "60000/60000 [==============================] - 158s 3ms/step - loss: 0.0260 - accuracy: 0.9922 - val_loss: 0.0288 - val_accuracy: 0.9913\n",
            "Epoch 12/12\n",
            "60000/60000 [==============================] - 160s 3ms/step - loss: 0.0247 - accuracy: 0.9924 - val_loss: 0.0273 - val_accuracy: 0.9917\n"
          ],
          "name": "stdout"
        }
      ]
    },
    {
      "cell_type": "code",
      "metadata": {
        "id": "6O_b9dTUFYb2",
        "colab_type": "code",
        "outputId": "6e1a5207-c0f3-4697-8c5e-e6246ba2edaa",
        "colab": {
          "base_uri": "https://localhost:8080/",
          "height": 51
        }
      },
      "source": [
        "score = model.evaluate(x_test, y_test, verbose=0)\n",
        "print('Test loss:', score[0])\n",
        "print('Test accuracy:', score[1])"
      ],
      "execution_count": 0,
      "outputs": [
        {
          "output_type": "stream",
          "text": [
            "Test loss: 0.02725159512477494\n",
            "Test accuracy: 0.9916999936103821\n"
          ],
          "name": "stdout"
        }
      ]
    },
    {
      "cell_type": "code",
      "metadata": {
        "id": "NMHBFv0PFcax",
        "colab_type": "code",
        "outputId": "efaac95b-f0f6-4835-d021-37ed913544a0",
        "colab": {
          "base_uri": "https://localhost:8080/",
          "height": 279
        }
      },
      "source": [
        "fig,ax = plt.subplots(1,1)\n",
        "ax.set_xlabel('epoch') ; ax.set_ylabel('Categorical Crossentropy Loss')\n",
        "\n",
        "# list of epoch numbers\n",
        "x = list(range(1,epochs+1))\n",
        "\n",
        "vy = history1.history['val_loss']\n",
        "ty = history1.history['loss']\n",
        "plt_dynamic(x, vy, ty, ax)"
      ],
      "execution_count": 0,
      "outputs": [
        {
          "output_type": "display_data",
          "data": {
            "image/png": "[encoded data removed]",
            "text/plain": [
              "<Figure size 432x288 with 1 Axes>"
            ]
          },
          "metadata": {
            "tags": [],
            "needs_background": "light"
          }
        }
      ]
    },
    {
      "cell_type": "code",
      "metadata": {
        "id": "0egCFBf4anK4",
        "colab_type": "code",
        "colab": {}
      },
      "source": [
        "%matplotlib inline\n",
        "\n",
        "plt.close('all')"
      ],
      "execution_count": 0,
      "outputs": []
    },
    {
      "cell_type": "markdown",
      "metadata": {
        "id": "OjTV5MnfP8ps",
        "colab_type": "text"
      },
      "source": [
        "2. Model 2 - 2 Hidden Layers + Adam + Max Pooling + Kernel 5X5\n"
      ]
    },
    {
      "cell_type": "code",
      "metadata": {
        "id": "1BSzonq-PEsm",
        "colab_type": "code",
        "outputId": "d721e2d8-5058-4bba-ad9e-229bda9513fa",
        "colab": {
          "base_uri": "https://localhost:8080/",
          "height": 442
        }
      },
      "source": [
        "model_2 = Sequential()\n",
        "model_2.add(Conv2D(32, kernel_size=(5, 5), activation='relu', input_shape=input_shape))\n",
        "model_2.add(Conv2D(64, (3, 3), activation='relu'))\n",
        "model_2.add(MaxPooling2D(pool_size=(2, 2)))\n",
        "model_2.add(Dropout(0.25))\n",
        "model_2.add(Flatten())\n",
        "model_2.add(Dense(128, activation='relu'))\n",
        "model_2.add(Dropout(0.5))\n",
        "model_2.add(Dense(num_classes, activation='softmax'))\n",
        "\n",
        "model_2.compile(loss=keras.losses.categorical_crossentropy, optimizer='adam', metrics=['accuracy'])\n",
        "\n",
        "history2 = model_2.fit(x_train, y_train, batch_size=batch_size, epochs=epochs, verbose=1, validation_data=(x_test, y_test))"
      ],
      "execution_count": 0,
      "outputs": [
        {
          "output_type": "stream",
          "text": [
            "Train on 60000 samples, validate on 10000 samples\n",
            "Epoch 1/12\n",
            "60000/60000 [==============================] - 143s 2ms/step - loss: 0.2291 - accuracy: 0.9298 - val_loss: 0.0442 - val_accuracy: 0.9858\n",
            "Epoch 2/12\n",
            "60000/60000 [==============================] - 140s 2ms/step - loss: 0.0777 - accuracy: 0.9772 - val_loss: 0.0345 - val_accuracy: 0.9887\n",
            "Epoch 3/12\n",
            "60000/60000 [==============================] - 139s 2ms/step - loss: 0.0594 - accuracy: 0.9825 - val_loss: 0.0281 - val_accuracy: 0.9899\n",
            "Epoch 4/12\n",
            "60000/60000 [==============================] - 136s 2ms/step - loss: 0.0485 - accuracy: 0.9850 - val_loss: 0.0287 - val_accuracy: 0.9907\n",
            "Epoch 5/12\n",
            "60000/60000 [==============================] - 139s 2ms/step - loss: 0.0421 - accuracy: 0.9871 - val_loss: 0.0293 - val_accuracy: 0.9902\n",
            "Epoch 6/12\n",
            "60000/60000 [==============================] - 138s 2ms/step - loss: 0.0354 - accuracy: 0.9886 - val_loss: 0.0248 - val_accuracy: 0.9922\n",
            "Epoch 7/12\n",
            "60000/60000 [==============================] - 134s 2ms/step - loss: 0.0325 - accuracy: 0.9896 - val_loss: 0.0229 - val_accuracy: 0.9934\n",
            "Epoch 8/12\n",
            "60000/60000 [==============================] - 134s 2ms/step - loss: 0.0283 - accuracy: 0.9909 - val_loss: 0.0211 - val_accuracy: 0.9930\n",
            "Epoch 9/12\n",
            "60000/60000 [==============================] - 137s 2ms/step - loss: 0.0257 - accuracy: 0.9918 - val_loss: 0.0203 - val_accuracy: 0.9934\n",
            "Epoch 10/12\n",
            "60000/60000 [==============================] - 137s 2ms/step - loss: 0.0233 - accuracy: 0.9923 - val_loss: 0.0284 - val_accuracy: 0.9923\n",
            "Epoch 11/12\n",
            "60000/60000 [==============================] - 137s 2ms/step - loss: 0.0227 - accuracy: 0.9923 - val_loss: 0.0216 - val_accuracy: 0.9935\n",
            "Epoch 12/12\n",
            "60000/60000 [==============================] - 135s 2ms/step - loss: 0.0204 - accuracy: 0.9932 - val_loss: 0.0227 - val_accuracy: 0.9942\n"
          ],
          "name": "stdout"
        }
      ]
    },
    {
      "cell_type": "code",
      "metadata": {
        "id": "CTdKuKGMP20t",
        "colab_type": "code",
        "outputId": "bf5ca47d-6d09-455a-e291-0edcaefad55c",
        "colab": {
          "base_uri": "https://localhost:8080/",
          "height": 51
        }
      },
      "source": [
        "score = model_2.evaluate(x_test, y_test, verbose=0)\n",
        "print('Test loss:', score[0])\n",
        "print('Test accuracy:', score[1])"
      ],
      "execution_count": 0,
      "outputs": [
        {
          "output_type": "stream",
          "text": [
            "Test loss: 0.022658589654864773\n",
            "Test accuracy: 0.9941999912261963\n"
          ],
          "name": "stdout"
        }
      ]
    },
    {
      "cell_type": "code",
      "metadata": {
        "id": "4dQhdWrjY4kR",
        "colab_type": "code",
        "outputId": "cc7b5417-48ef-48a6-dafb-8b2719592971",
        "colab": {
          "base_uri": "https://localhost:8080/",
          "height": 279
        }
      },
      "source": [
        "fig,ax = plt.subplots(1,1)\n",
        "ax.set_xlabel('epoch') ; ax.set_ylabel('Categorical Crossentropy Loss')\n",
        "\n",
        "# list of epoch numbers\n",
        "x = list(range(1,epochs+1))\n",
        "\n",
        "vy = history2.history['val_loss']\n",
        "ty = history2.history['loss']\n",
        "plt_dynamic(x, vy, ty, ax)"
      ],
      "execution_count": 0,
      "outputs": [
        {
          "output_type": "display_data",
          "data": {
            "image/png": "[encoded data removed]",
            "text/plain": [
              "<Figure size 432x288 with 1 Axes>"
            ]
          },
          "metadata": {
            "tags": [],
            "needs_background": "light"
          }
        }
      ]
    },
    {
      "cell_type": "markdown",
      "metadata": {
        "id": "uDM60WpeY_3u",
        "colab_type": "text"
      },
      "source": [
        "3. Model 3 - 2 Hidden Layers + Adam + Max Pooling + Kernel 7X7"
      ]
    },
    {
      "cell_type": "code",
      "metadata": {
        "id": "Cv6vxCGhZAWi",
        "colab_type": "code",
        "outputId": "d8b4be05-8960-4f05-c7f9-c800a93bb7b7",
        "colab": {
          "base_uri": "https://localhost:8080/",
          "height": 442
        }
      },
      "source": [
        "model_3 = Sequential()\n",
        "model_3.add(Conv2D(32, kernel_size=(7, 7), activation='relu', input_shape=input_shape))\n",
        "model_3.add(Conv2D(64, (3, 3), activation='relu'))\n",
        "model_3.add(MaxPooling2D(pool_size=(2, 2)))\n",
        "model_3.add(Dropout(0.25))\n",
        "model_3.add(Flatten())\n",
        "model_3.add(Dense(128, activation='relu'))\n",
        "model_3.add(Dropout(0.5))\n",
        "model_3.add(Dense(num_classes, activation='softmax'))\n",
        "\n",
        "model_3.compile(loss=keras.losses.categorical_crossentropy, optimizer='adam', metrics=['accuracy'])\n",
        "\n",
        "history3 = model_3.fit(x_train, y_train, batch_size=batch_size, epochs=epochs, verbose=1, validation_data=(x_test, y_test))"
      ],
      "execution_count": 0,
      "outputs": [
        {
          "output_type": "stream",
          "text": [
            "Train on 60000 samples, validate on 10000 samples\n",
            "Epoch 1/12\n",
            "60000/60000 [==============================] - 121s 2ms/step - loss: 0.2429 - accuracy: 0.9261 - val_loss: 0.0576 - val_accuracy: 0.9812\n",
            "Epoch 2/12\n",
            "60000/60000 [==============================] - 120s 2ms/step - loss: 0.0848 - accuracy: 0.9749 - val_loss: 0.0396 - val_accuracy: 0.9864\n",
            "Epoch 3/12\n",
            "60000/60000 [==============================] - 120s 2ms/step - loss: 0.0623 - accuracy: 0.9815 - val_loss: 0.0284 - val_accuracy: 0.9899\n",
            "Epoch 4/12\n",
            "60000/60000 [==============================] - 118s 2ms/step - loss: 0.0525 - accuracy: 0.9846 - val_loss: 0.0275 - val_accuracy: 0.9903\n",
            "Epoch 5/12\n",
            "60000/60000 [==============================] - 120s 2ms/step - loss: 0.0439 - accuracy: 0.9867 - val_loss: 0.0251 - val_accuracy: 0.9912\n",
            "Epoch 6/12\n",
            "60000/60000 [==============================] - 120s 2ms/step - loss: 0.0391 - accuracy: 0.9881 - val_loss: 0.0250 - val_accuracy: 0.9912\n",
            "Epoch 7/12\n",
            "60000/60000 [==============================] - 121s 2ms/step - loss: 0.0350 - accuracy: 0.9889 - val_loss: 0.0211 - val_accuracy: 0.9931\n",
            "Epoch 8/12\n",
            "60000/60000 [==============================] - 120s 2ms/step - loss: 0.0296 - accuracy: 0.9907 - val_loss: 0.0233 - val_accuracy: 0.9925\n",
            "Epoch 9/12\n",
            "60000/60000 [==============================] - 120s 2ms/step - loss: 0.0293 - accuracy: 0.9906 - val_loss: 0.0219 - val_accuracy: 0.9923\n",
            "Epoch 10/12\n",
            "60000/60000 [==============================] - 118s 2ms/step - loss: 0.0262 - accuracy: 0.9919 - val_loss: 0.0230 - val_accuracy: 0.9928\n",
            "Epoch 11/12\n",
            "60000/60000 [==============================] - 121s 2ms/step - loss: 0.0231 - accuracy: 0.9924 - val_loss: 0.0193 - val_accuracy: 0.9936\n",
            "Epoch 12/12\n",
            "60000/60000 [==============================] - 119s 2ms/step - loss: 0.0218 - accuracy: 0.9930 - val_loss: 0.0244 - val_accuracy: 0.9927\n"
          ],
          "name": "stdout"
        }
      ]
    },
    {
      "cell_type": "code",
      "metadata": {
        "id": "jov62j-qZHeT",
        "colab_type": "code",
        "outputId": "5cfbdbd1-7ffe-4243-c854-8d259a045216",
        "colab": {
          "base_uri": "https://localhost:8080/",
          "height": 51
        }
      },
      "source": [
        "score = model_3.evaluate(x_test, y_test, verbose=0)\n",
        "print('Test loss:', score[0])\n",
        "print('Test accuracy:', score[1])"
      ],
      "execution_count": 0,
      "outputs": [
        {
          "output_type": "stream",
          "text": [
            "Test loss: 0.024444635773069046\n",
            "Test accuracy: 0.9926999807357788\n"
          ],
          "name": "stdout"
        }
      ]
    },
    {
      "cell_type": "code",
      "metadata": {
        "id": "R1ImHi_Gf2Be",
        "colab_type": "code",
        "outputId": "486f3ab9-131a-4acf-a6a5-bdac1bc4fdc6",
        "colab": {
          "base_uri": "https://localhost:8080/",
          "height": 280
        }
      },
      "source": [
        "fig,ax = plt.subplots(1,1)\n",
        "ax.set_xlabel('epoch') ; ax.set_ylabel('Categorical Crossentropy Loss')\n",
        "\n",
        "# list of epoch numbers\n",
        "x = list(range(1,epochs+1))\n",
        "\n",
        "vy = history3.history['val_loss']\n",
        "ty = history3.history['loss']\n",
        "plt_dynamic(x, vy, ty, ax)"
      ],
      "execution_count": 0,
      "outputs": [
        {
          "output_type": "display_data",
          "data": {
            "image/png": "[encoded data removed]",
            "text/plain": [
              "<Figure size 432x288 with 1 Axes>"
            ]
          },
          "metadata": {
            "tags": [],
            "needs_background": "light"
          }
        }
      ]
    },
    {
      "cell_type": "markdown",
      "metadata": {
        "colab_type": "text",
        "id": "UcnuRDEDgDIr"
      },
      "source": [
        "4. Model 4 - 3 Hidden Layers + Adadelta + Max Pooling + Kernel 3X3\n"
      ]
    },
    {
      "cell_type": "code",
      "metadata": {
        "colab_type": "code",
        "outputId": "bf04a475-412f-4691-a671-ba8900315fec",
        "id": "YeuOpYM4gDI0",
        "colab": {
          "base_uri": "https://localhost:8080/",
          "height": 442
        }
      },
      "source": [
        "model_4 = Sequential()\n",
        "model_4.add(Conv2D(32, kernel_size=(3, 3), activation='relu', input_shape=input_shape))\n",
        "model_4.add(Conv2D(64, (3, 3), activation='relu'))\n",
        "model_4.add(MaxPooling2D(pool_size=(2, 2)))\n",
        "model_4.add(Conv2D(128, (3, 3), activation='relu'))\n",
        "model_4.add(MaxPooling2D(pool_size=(2, 2)))\n",
        "model_4.add(Dropout(0.25))\n",
        "model_4.add(Flatten())\n",
        "model_4.add(Dense(256, activation='relu'))\n",
        "model_4.add(Dropout(0.5))\n",
        "model_4.add(Dense(num_classes, activation='softmax'))\n",
        "\n",
        "model_4.compile(loss=keras.losses.categorical_crossentropy, optimizer=keras.optimizers.Adadelta(), metrics=['accuracy'])\n",
        "\n",
        "history4 = model_4.fit(x_train, y_train, batch_size=batch_size, epochs=epochs, verbose=1, validation_data=(x_test, y_test))\n"
      ],
      "execution_count": 0,
      "outputs": [
        {
          "output_type": "stream",
          "text": [
            "Train on 60000 samples, validate on 10000 samples\n",
            "Epoch 1/12\n",
            "60000/60000 [==============================] - 223s 4ms/step - loss: 0.2301 - accuracy: 0.9277 - val_loss: 0.0438 - val_accuracy: 0.9858\n",
            "Epoch 2/12\n",
            "60000/60000 [==============================] - 224s 4ms/step - loss: 0.0668 - accuracy: 0.9802 - val_loss: 0.0340 - val_accuracy: 0.9882\n",
            "Epoch 3/12\n",
            "60000/60000 [==============================] - 223s 4ms/step - loss: 0.0485 - accuracy: 0.9850 - val_loss: 0.0310 - val_accuracy: 0.9889\n",
            "Epoch 4/12\n",
            "60000/60000 [==============================] - 223s 4ms/step - loss: 0.0392 - accuracy: 0.9883 - val_loss: 0.0245 - val_accuracy: 0.9914\n",
            "Epoch 5/12\n",
            "60000/60000 [==============================] - 225s 4ms/step - loss: 0.0333 - accuracy: 0.9900 - val_loss: 0.0241 - val_accuracy: 0.9916\n",
            "Epoch 6/12\n",
            "60000/60000 [==============================] - 222s 4ms/step - loss: 0.0287 - accuracy: 0.9911 - val_loss: 0.0231 - val_accuracy: 0.9920\n",
            "Epoch 7/12\n",
            "60000/60000 [==============================] - 221s 4ms/step - loss: 0.0254 - accuracy: 0.9921 - val_loss: 0.0176 - val_accuracy: 0.9944\n",
            "Epoch 8/12\n",
            "60000/60000 [==============================] - 224s 4ms/step - loss: 0.0215 - accuracy: 0.9931 - val_loss: 0.0187 - val_accuracy: 0.9944\n",
            "Epoch 9/12\n",
            "60000/60000 [==============================] - 227s 4ms/step - loss: 0.0211 - accuracy: 0.9933 - val_loss: 0.0176 - val_accuracy: 0.9939\n",
            "Epoch 10/12\n",
            "60000/60000 [==============================] - 223s 4ms/step - loss: 0.0182 - accuracy: 0.9942 - val_loss: 0.0155 - val_accuracy: 0.9948\n",
            "Epoch 11/12\n",
            "60000/60000 [==============================] - 222s 4ms/step - loss: 0.0170 - accuracy: 0.9947 - val_loss: 0.0158 - val_accuracy: 0.9951\n",
            "Epoch 12/12\n",
            "60000/60000 [==============================] - 227s 4ms/step - loss: 0.0155 - accuracy: 0.9955 - val_loss: 0.0203 - val_accuracy: 0.9943\n"
          ],
          "name": "stdout"
        }
      ]
    },
    {
      "cell_type": "code",
      "metadata": {
        "colab_type": "code",
        "outputId": "e7747dad-76a3-4042-f7ca-a3cacd2ad579",
        "id": "sybgnrv7gDI8",
        "colab": {
          "base_uri": "https://localhost:8080/",
          "height": 51
        }
      },
      "source": [
        "score = model_4.evaluate(x_test, y_test, verbose=0)\n",
        "print('Test loss:', score[0])\n",
        "print('Test accuracy:', score[1])"
      ],
      "execution_count": 0,
      "outputs": [
        {
          "output_type": "stream",
          "text": [
            "Test loss: 0.02026035915006364\n",
            "Test accuracy: 0.9943000078201294\n"
          ],
          "name": "stdout"
        }
      ]
    },
    {
      "cell_type": "code",
      "metadata": {
        "colab_type": "code",
        "id": "n2joFmghgDJB",
        "outputId": "ee22f491-3ed9-46b0-f891-ff7a12c9e299",
        "colab": {
          "base_uri": "https://localhost:8080/",
          "height": 279
        }
      },
      "source": [
        "fig,ax = plt.subplots(1,1)\n",
        "ax.set_xlabel('epoch') ; ax.set_ylabel('Categorical Crossentropy Loss')\n",
        "\n",
        "# list of epoch numbers\n",
        "x = list(range(1,epochs+1))\n",
        "\n",
        "vy = history4.history['val_loss']\n",
        "ty = history4.history['loss']\n",
        "plt_dynamic(x, vy, ty, ax)"
      ],
      "execution_count": 0,
      "outputs": [
        {
          "output_type": "display_data",
          "data": {
            "image/png": "[encoded data removed]",
            "text/plain": [
              "<Figure size 432x288 with 1 Axes>"
            ]
          },
          "metadata": {
            "tags": [],
            "needs_background": "light"
          }
        }
      ]
    },
    {
      "cell_type": "markdown",
      "metadata": {
        "colab_type": "text",
        "id": "vcFKA0qGgDJE"
      },
      "source": [
        "5. Model 5 - 3 Hidden Layers + Adam + Max Pooling + Kernel 5X5\n"
      ]
    },
    {
      "cell_type": "code",
      "metadata": {
        "colab_type": "code",
        "outputId": "d2f9f723-fecb-4b1b-93f3-961bf2643930",
        "id": "LzbLECDGgDJE",
        "colab": {
          "base_uri": "https://localhost:8080/",
          "height": 442
        }
      },
      "source": [
        "model_5 = Sequential()\n",
        "model_5.add(Conv2D(32, kernel_size=(5, 5), activation='relu', input_shape=input_shape))\n",
        "model_5.add(Conv2D(64, (5, 5), activation='relu'))\n",
        "model_5.add(MaxPooling2D(pool_size=(2, 2)))\n",
        "model_5.add(Conv2D(128, (5, 5), activation='relu'))\n",
        "model_5.add(MaxPooling2D(pool_size=(2, 2)))\n",
        "model_5.add(Dropout(0.25))\n",
        "model_5.add(Flatten())\n",
        "model_5.add(Dense(256, activation='relu'))\n",
        "model_5.add(Dropout(0.5))\n",
        "model_5.add(Dense(num_classes, activation='softmax'))\n",
        "\n",
        "model_5.compile(loss=keras.losses.categorical_crossentropy, optimizer=keras.optimizers.Adadelta(), metrics=['accuracy'])\n",
        "\n",
        "history5 = model_5.fit(x_train, y_train, batch_size=batch_size, epochs=epochs, verbose=1, validation_data=(x_test, y_test))\n"
      ],
      "execution_count": 0,
      "outputs": [
        {
          "output_type": "stream",
          "text": [
            "Train on 60000 samples, validate on 10000 samples\n",
            "Epoch 1/12\n",
            "60000/60000 [==============================] - 295s 5ms/step - loss: 0.2307 - accuracy: 0.9267 - val_loss: 0.0665 - val_accuracy: 0.9772\n",
            "Epoch 2/12\n",
            "60000/60000 [==============================] - 293s 5ms/step - loss: 0.0605 - accuracy: 0.9822 - val_loss: 0.0273 - val_accuracy: 0.9905\n",
            "Epoch 3/12\n",
            "60000/60000 [==============================] - 293s 5ms/step - loss: 0.0428 - accuracy: 0.9869 - val_loss: 0.0213 - val_accuracy: 0.9928\n",
            "Epoch 4/12\n",
            "60000/60000 [==============================] - 296s 5ms/step - loss: 0.0346 - accuracy: 0.9896 - val_loss: 0.0204 - val_accuracy: 0.9927\n",
            "Epoch 5/12\n",
            "60000/60000 [==============================] - 296s 5ms/step - loss: 0.0275 - accuracy: 0.9919 - val_loss: 0.0260 - val_accuracy: 0.9923\n",
            "Epoch 6/12\n",
            "60000/60000 [==============================] - 297s 5ms/step - loss: 0.0240 - accuracy: 0.9926 - val_loss: 0.0182 - val_accuracy: 0.9942\n",
            "Epoch 7/12\n",
            "60000/60000 [==============================] - 298s 5ms/step - loss: 0.0209 - accuracy: 0.9938 - val_loss: 0.0190 - val_accuracy: 0.9941\n",
            "Epoch 8/12\n",
            "60000/60000 [==============================] - 296s 5ms/step - loss: 0.0171 - accuracy: 0.9944 - val_loss: 0.0259 - val_accuracy: 0.9921\n",
            "Epoch 9/12\n",
            "60000/60000 [==============================] - 295s 5ms/step - loss: 0.0159 - accuracy: 0.9951 - val_loss: 0.0211 - val_accuracy: 0.9937\n",
            "Epoch 10/12\n",
            "60000/60000 [==============================] - 296s 5ms/step - loss: 0.0144 - accuracy: 0.9954 - val_loss: 0.0195 - val_accuracy: 0.9941\n",
            "Epoch 11/12\n",
            "60000/60000 [==============================] - 296s 5ms/step - loss: 0.0121 - accuracy: 0.9961 - val_loss: 0.0220 - val_accuracy: 0.9934\n",
            "Epoch 12/12\n",
            "60000/60000 [==============================] - 293s 5ms/step - loss: 0.0120 - accuracy: 0.9959 - val_loss: 0.0211 - val_accuracy: 0.9949\n"
          ],
          "name": "stdout"
        }
      ]
    },
    {
      "cell_type": "code",
      "metadata": {
        "colab_type": "code",
        "outputId": "a3f6eb95-8036-4b43-8ac2-2b10bcd01d25",
        "id": "rRL_Hpo6gDJI",
        "colab": {
          "base_uri": "https://localhost:8080/",
          "height": 51
        }
      },
      "source": [
        "score = model_5.evaluate(x_test, y_test, verbose=0)\n",
        "print('Test loss:', score[0])\n",
        "print('Test accuracy:', score[1])"
      ],
      "execution_count": 0,
      "outputs": [
        {
          "output_type": "stream",
          "text": [
            "Test loss: 0.02111709487823191\n",
            "Test accuracy: 0.9948999881744385\n"
          ],
          "name": "stdout"
        }
      ]
    },
    {
      "cell_type": "code",
      "metadata": {
        "colab_type": "code",
        "id": "_WkZiPJzgDJL",
        "outputId": "37a37da8-66fd-4ae0-c7ad-e2480390a0cd",
        "colab": {
          "base_uri": "https://localhost:8080/",
          "height": 279
        }
      },
      "source": [
        "fig,ax = plt.subplots(1,1)\n",
        "ax.set_xlabel('epoch') ; ax.set_ylabel('Categorical Crossentropy Loss')\n",
        "\n",
        "# list of epoch numbers\n",
        "x = list(range(1,epochs+1))\n",
        "\n",
        "vy = history5.history['val_loss']\n",
        "ty = history5.history['loss']\n",
        "plt_dynamic(x, vy, ty, ax)"
      ],
      "execution_count": 0,
      "outputs": [
        {
          "output_type": "display_data",
          "data": {
            "image/png": "[encoded data removed]",
            "text/plain": [
              "<Figure size 432x288 with 1 Axes>"
            ]
          },
          "metadata": {
            "tags": [],
            "needs_background": "light"
          }
        }
      ]
    },
    {
      "cell_type": "markdown",
      "metadata": {
        "colab_type": "text",
        "id": "njbUeNZQgDJQ"
      },
      "source": [
        "6. Model 6 - 3 Hidden Layers + Adam + Max Pooling + Kernel 7X7"
      ]
    },
    {
      "cell_type": "code",
      "metadata": {
        "colab_type": "code",
        "outputId": "472b0548-e29e-4adf-87e5-ef4281e5c699",
        "id": "4Rz1dcj_gDJQ",
        "colab": {
          "base_uri": "https://localhost:8080/",
          "height": 442
        }
      },
      "source": [
        "model_6 = Sequential()\n",
        "model_6.add(Conv2D(32, kernel_size=(7, 7), activation='relu', input_shape=input_shape))\n",
        "model_6.add(Conv2D(64, (7, 7), activation='relu'))\n",
        "model_6.add(MaxPooling2D(pool_size=(2, 2)))\n",
        "model_6.add(Conv2D(128, (7, 7), activation='relu'))\n",
        "model_6.add(MaxPooling2D(pool_size=(2, 2)))\n",
        "model_6.add(Dropout(0.25))\n",
        "model_6.add(Flatten())\n",
        "model_6.add(Dense(256, activation='relu'))\n",
        "model_6.add(Dropout(0.5))\n",
        "model_6.add(Dense(num_classes, activation='softmax'))\n",
        "\n",
        "model_6.compile(loss=keras.losses.categorical_crossentropy, optimizer=keras.optimizers.Adadelta(), metrics=['accuracy'])\n",
        "\n",
        "history6 = model_6.fit(x_train, y_train, batch_size=batch_size, epochs=epochs, verbose=1, validation_data=(x_test, y_test))"
      ],
      "execution_count": 0,
      "outputs": [
        {
          "output_type": "stream",
          "text": [
            "Train on 60000 samples, validate on 10000 samples\n",
            "Epoch 1/12\n",
            "60000/60000 [==============================] - 326s 5ms/step - loss: 0.2604 - accuracy: 0.9186 - val_loss: 0.0423 - val_accuracy: 0.9871\n",
            "Epoch 2/12\n",
            "60000/60000 [==============================] - 333s 6ms/step - loss: 0.0646 - accuracy: 0.9816 - val_loss: 0.0263 - val_accuracy: 0.9911\n",
            "Epoch 3/12\n",
            "60000/60000 [==============================] - 336s 6ms/step - loss: 0.0447 - accuracy: 0.9873 - val_loss: 0.0250 - val_accuracy: 0.9910\n",
            "Epoch 4/12\n",
            "60000/60000 [==============================] - 343s 6ms/step - loss: 0.0337 - accuracy: 0.9903 - val_loss: 0.0208 - val_accuracy: 0.9933\n",
            "Epoch 5/12\n",
            "60000/60000 [==============================] - 330s 5ms/step - loss: 0.0283 - accuracy: 0.9918 - val_loss: 0.0192 - val_accuracy: 0.9943\n",
            "Epoch 6/12\n",
            "60000/60000 [==============================] - 330s 5ms/step - loss: 0.0233 - accuracy: 0.9932 - val_loss: 0.0202 - val_accuracy: 0.9929\n",
            "Epoch 7/12\n",
            "60000/60000 [==============================] - 334s 6ms/step - loss: 0.0191 - accuracy: 0.9947 - val_loss: 0.0210 - val_accuracy: 0.9940\n",
            "Epoch 8/12\n",
            "60000/60000 [==============================] - 330s 5ms/step - loss: 0.0161 - accuracy: 0.9950 - val_loss: 0.0546 - val_accuracy: 0.9855\n",
            "Epoch 9/12\n",
            "60000/60000 [==============================] - 332s 6ms/step - loss: 0.0137 - accuracy: 0.9961 - val_loss: 0.0274 - val_accuracy: 0.9925\n",
            "Epoch 10/12\n",
            "60000/60000 [==============================] - 328s 5ms/step - loss: 0.0133 - accuracy: 0.9960 - val_loss: 0.0217 - val_accuracy: 0.9937\n",
            "Epoch 11/12\n",
            "60000/60000 [==============================] - 327s 5ms/step - loss: 0.0104 - accuracy: 0.9971 - val_loss: 0.0223 - val_accuracy: 0.9945\n",
            "Epoch 12/12\n",
            "60000/60000 [==============================] - 328s 5ms/step - loss: 0.0105 - accuracy: 0.9970 - val_loss: 0.0217 - val_accuracy: 0.9941\n"
          ],
          "name": "stdout"
        }
      ]
    },
    {
      "cell_type": "code",
      "metadata": {
        "colab_type": "code",
        "outputId": "f64def52-9378-4661-aadf-f1d530699fbf",
        "id": "hxe8Qk1agDJT",
        "colab": {
          "base_uri": "https://localhost:8080/",
          "height": 51
        }
      },
      "source": [
        "score = model_6.evaluate(x_test, y_test, verbose=0)\n",
        "print('Test loss:', score[0])\n",
        "print('Test accuracy:', score[1])"
      ],
      "execution_count": 0,
      "outputs": [
        {
          "output_type": "stream",
          "text": [
            "Test loss: 0.021667842179494943\n",
            "Test accuracy: 0.9940999746322632\n"
          ],
          "name": "stdout"
        }
      ]
    },
    {
      "cell_type": "code",
      "metadata": {
        "colab_type": "code",
        "id": "G6nCfoK2gDJX",
        "outputId": "37dac64f-435d-44e1-cb32-6f8ca64b364b",
        "colab": {
          "base_uri": "https://localhost:8080/",
          "height": 279
        }
      },
      "source": [
        "fig,ax = plt.subplots(1,1)\n",
        "ax.set_xlabel('epoch') ; ax.set_ylabel('Categorical Crossentropy Loss')\n",
        "\n",
        "# list of epoch numbers\n",
        "x = list(range(1,epochs+1))\n",
        "\n",
        "vy = history6.history['val_loss']\n",
        "ty = history6.history['loss']\n",
        "plt_dynamic(x, vy, ty, ax)"
      ],
      "execution_count": 0,
      "outputs": [
        {
          "output_type": "display_data",
          "data": {
            "image/png": "[encoded data removed]",
            "text/plain": [
              "<Figure size 432x288 with 1 Axes>"
            ]
          },
          "metadata": {
            "tags": [],
            "needs_background": "light"
          }
        }
      ]
    },
    {
      "cell_type": "markdown",
      "metadata": {
        "colab_type": "text",
        "id": "my-eTZoNPTHV"
      },
      "source": [
        "7. Model 7 - 5 Hidden Layers + Adadelta + Max Pooling + Kernel 3X3\n"
      ]
    },
    {
      "cell_type": "code",
      "metadata": {
        "colab_type": "code",
        "outputId": "78107fb2-e4d2-4d63-a6b4-9d7bcd8d318d",
        "id": "CjCvvfnLPTHX",
        "colab": {
          "base_uri": "https://localhost:8080/",
          "height": 442
        }
      },
      "source": [
        "model_7 = Sequential()\n",
        "model_7.add(Conv2D(16, kernel_size=(3, 3), activation='relu', input_shape=input_shape))\n",
        "model_7.add(Conv2D(32, (3, 3), activation='relu'))\n",
        "model_7.add(MaxPooling2D(pool_size=(2, 2)))\n",
        "model_7.add(Conv2D(64, (3, 3), activation='relu'))\n",
        "model_7.add(MaxPooling2D(pool_size=(2, 2)))\n",
        "model_7.add(Conv2D(32, (3,3 ), activation='relu'))\n",
        "model_7.add(Dropout(0.2))\n",
        "model_7.add(Conv2D(16, (3, 3), activation='relu'))\n",
        "model_7.add(Dropout(0.2))\n",
        "model_7.add(Flatten())\n",
        "model_7.add(Dense(256, activation='relu'))\n",
        "model_7.add(Dropout(0.5))\n",
        "model_7.add(Dense(num_classes, activation='softmax'))\n",
        "\n",
        "model_7.compile(loss=keras.losses.categorical_crossentropy, optimizer=keras.optimizers.Adadelta(), metrics=['accuracy'])\n",
        "\n",
        "history7 = model_7.fit(x_train, y_train, batch_size=batch_size, epochs=epochs, verbose=1, validation_data=(x_test, y_test))\n"
      ],
      "execution_count": 0,
      "outputs": [
        {
          "output_type": "stream",
          "text": [
            "Train on 60000 samples, validate on 10000 samples\n",
            "Epoch 1/12\n",
            "60000/60000 [==============================] - 79s 1ms/step - loss: 0.6201 - accuracy: 0.7868 - val_loss: 0.0743 - val_accuracy: 0.9782\n",
            "Epoch 2/12\n",
            "60000/60000 [==============================] - 77s 1ms/step - loss: 0.1843 - accuracy: 0.9416 - val_loss: 0.0442 - val_accuracy: 0.9871\n",
            "Epoch 3/12\n",
            "60000/60000 [==============================] - 75s 1ms/step - loss: 0.1345 - accuracy: 0.9567 - val_loss: 0.0363 - val_accuracy: 0.9887\n",
            "Epoch 4/12\n",
            "60000/60000 [==============================] - 75s 1ms/step - loss: 0.1102 - accuracy: 0.9655 - val_loss: 0.0356 - val_accuracy: 0.9894\n",
            "Epoch 5/12\n",
            "60000/60000 [==============================] - 75s 1ms/step - loss: 0.0995 - accuracy: 0.9681 - val_loss: 0.0302 - val_accuracy: 0.9912\n",
            "Epoch 6/12\n",
            "60000/60000 [==============================] - 74s 1ms/step - loss: 0.0881 - accuracy: 0.9709 - val_loss: 0.0317 - val_accuracy: 0.9909\n",
            "Epoch 7/12\n",
            "60000/60000 [==============================] - 74s 1ms/step - loss: 0.0802 - accuracy: 0.9738 - val_loss: 0.0346 - val_accuracy: 0.9902\n",
            "Epoch 8/12\n",
            "60000/60000 [==============================] - 75s 1ms/step - loss: 0.0741 - accuracy: 0.9758 - val_loss: 0.0272 - val_accuracy: 0.9916\n",
            "Epoch 9/12\n",
            "60000/60000 [==============================] - 74s 1ms/step - loss: 0.0720 - accuracy: 0.9756 - val_loss: 0.0305 - val_accuracy: 0.9916\n",
            "Epoch 10/12\n",
            "60000/60000 [==============================] - 74s 1ms/step - loss: 0.0665 - accuracy: 0.9784 - val_loss: 0.0260 - val_accuracy: 0.9923\n",
            "Epoch 11/12\n",
            "60000/60000 [==============================] - 74s 1ms/step - loss: 0.0590 - accuracy: 0.9809 - val_loss: 0.0310 - val_accuracy: 0.9914\n",
            "Epoch 12/12\n",
            "60000/60000 [==============================] - 74s 1ms/step - loss: 0.0540 - accuracy: 0.9831 - val_loss: 0.0252 - val_accuracy: 0.9923\n"
          ],
          "name": "stdout"
        }
      ]
    },
    {
      "cell_type": "code",
      "metadata": {
        "colab_type": "code",
        "outputId": "b5dce5fa-5e8c-4038-9edc-2e5c8c4e1ea8",
        "id": "5nv3mQTkPTHf",
        "colab": {
          "base_uri": "https://localhost:8080/",
          "height": 51
        }
      },
      "source": [
        "score = model_7.evaluate(x_test, y_test, verbose=0)\n",
        "print('Test loss:', score[0])\n",
        "print('Test accuracy:', score[1])"
      ],
      "execution_count": 0,
      "outputs": [
        {
          "output_type": "stream",
          "text": [
            "Test loss: 0.025203440525786026\n",
            "Test accuracy: 0.9922999739646912\n"
          ],
          "name": "stdout"
        }
      ]
    },
    {
      "cell_type": "code",
      "metadata": {
        "colab_type": "code",
        "id": "lL3glJkkPTHj",
        "outputId": "74ac6157-814e-41d8-abf2-497201b11f8f",
        "colab": {
          "base_uri": "https://localhost:8080/",
          "height": 279
        }
      },
      "source": [
        "fig,ax = plt.subplots(1,1)\n",
        "ax.set_xlabel('epoch') ; ax.set_ylabel('Categorical Crossentropy Loss')\n",
        "\n",
        "# list of epoch numbers\n",
        "x = list(range(1,epochs+1))\n",
        "\n",
        "vy = history7.history['val_loss']\n",
        "ty = history7.history['loss']\n",
        "plt_dynamic(x, vy, ty, ax)"
      ],
      "execution_count": 0,
      "outputs": [
        {
          "output_type": "display_data",
          "data": {
            "image/png": "[encoded data removed]",
            "text/plain": [
              "<Figure size 432x288 with 1 Axes>"
            ]
          },
          "metadata": {
            "tags": [],
            "needs_background": "light"
          }
        }
      ]
    },
    {
      "cell_type": "markdown",
      "metadata": {
        "colab_type": "text",
        "id": "Q_xC2LT0PTHo"
      },
      "source": [
        "8. Model 8 - 5 Hidden Layers + Adam + Max Pooling + Kernel 5X5\n"
      ]
    },
    {
      "cell_type": "code",
      "metadata": {
        "colab_type": "code",
        "outputId": "a30af1fc-6fc8-4ffa-c60a-c46d12302f30",
        "id": "dUeCMiVrPTHp",
        "colab": {
          "base_uri": "https://localhost:8080/",
          "height": 442
        }
      },
      "source": [
        "model_8 = Sequential()\n",
        "model_8.add(Conv2D(16, kernel_size=(5, 5), activation='relu', input_shape=input_shape))\n",
        "model_8.add(Conv2D(32, (5, 5), activation='relu'))\n",
        "model_8.add(Dropout(0.25))\n",
        "#model_8.add(MaxPooling2D(pool_size=(2, 2)))\n",
        "model_8.add(Conv2D(64, (5, 5), activation='relu'))\n",
        "model_8.add(Dropout(0.25))\n",
        "#model_8.add(MaxPooling2D(pool_size=(2, 2)))\n",
        "model_8.add(Conv2D(64, (5, 5), activation='relu'))\n",
        "#model_8.add(MaxPooling2D(pool_size=(2, 2)))\n",
        "model_8.add(Conv2D(32, (5, 5), activation='relu'))\n",
        "#model_8.add(MaxPooling2D(pool_size=(2, 2)))\n",
        "model_8.add(Dropout(0.25))\n",
        "model_8.add(Flatten())\n",
        "model_8.add(Dense(256, activation='relu'))\n",
        "model_8.add(Dropout(0.5))\n",
        "model_8.add(Dense(num_classes, activation='softmax'))\n",
        "\n",
        "model_8.compile(loss=keras.losses.categorical_crossentropy, optimizer='adam', metrics=['accuracy'])\n",
        "\n",
        "history8 = model_8.fit(x_train, y_train, batch_size=batch_size, epochs=epochs, verbose=1, validation_data=(x_test, y_test))\n"
      ],
      "execution_count": 0,
      "outputs": [
        {
          "output_type": "stream",
          "text": [
            "Train on 60000 samples, validate on 10000 samples\n",
            "Epoch 1/12\n",
            "60000/60000 [==============================] - 424s 7ms/step - loss: 0.2472 - accuracy: 0.9212 - val_loss: 0.0467 - val_accuracy: 0.9853\n",
            "Epoch 2/12\n",
            "60000/60000 [==============================] - 427s 7ms/step - loss: 0.0703 - accuracy: 0.9794 - val_loss: 0.0313 - val_accuracy: 0.9888\n",
            "Epoch 3/12\n",
            "60000/60000 [==============================] - 431s 7ms/step - loss: 0.0538 - accuracy: 0.9841 - val_loss: 0.0273 - val_accuracy: 0.9905\n",
            "Epoch 4/12\n",
            "60000/60000 [==============================] - 436s 7ms/step - loss: 0.0493 - accuracy: 0.9852 - val_loss: 0.0302 - val_accuracy: 0.9908\n",
            "Epoch 5/12\n",
            "60000/60000 [==============================] - 444s 7ms/step - loss: 0.0406 - accuracy: 0.9879 - val_loss: 0.0311 - val_accuracy: 0.9912\n",
            "Epoch 6/12\n",
            "60000/60000 [==============================] - 455s 8ms/step - loss: 0.0358 - accuracy: 0.9893 - val_loss: 0.0347 - val_accuracy: 0.9902\n",
            "Epoch 7/12\n",
            "60000/60000 [==============================] - 444s 7ms/step - loss: 0.0328 - accuracy: 0.9900 - val_loss: 0.0247 - val_accuracy: 0.9926\n",
            "Epoch 8/12\n",
            "60000/60000 [==============================] - 442s 7ms/step - loss: 0.0323 - accuracy: 0.9901 - val_loss: 0.0314 - val_accuracy: 0.9907\n",
            "Epoch 9/12\n",
            "60000/60000 [==============================] - 441s 7ms/step - loss: 0.0295 - accuracy: 0.9913 - val_loss: 0.0265 - val_accuracy: 0.9929\n",
            "Epoch 10/12\n",
            "60000/60000 [==============================] - 432s 7ms/step - loss: 0.0261 - accuracy: 0.9922 - val_loss: 0.0273 - val_accuracy: 0.9921\n",
            "Epoch 11/12\n",
            "60000/60000 [==============================] - 436s 7ms/step - loss: 0.0257 - accuracy: 0.9922 - val_loss: 0.0312 - val_accuracy: 0.9924\n",
            "Epoch 12/12\n",
            "60000/60000 [==============================] - 433s 7ms/step - loss: 0.0242 - accuracy: 0.9924 - val_loss: 0.0253 - val_accuracy: 0.9931\n"
          ],
          "name": "stdout"
        }
      ]
    },
    {
      "cell_type": "code",
      "metadata": {
        "colab_type": "code",
        "outputId": "89f89bb4-d705-4071-e504-7f8a65131f65",
        "id": "jdUQaaGxPTHt",
        "colab": {
          "base_uri": "https://localhost:8080/",
          "height": 51
        }
      },
      "source": [
        "score = model_8.evaluate(x_test, y_test, verbose=0)\n",
        "print('Test loss:', score[0])\n",
        "print('Test accuracy:', score[1])"
      ],
      "execution_count": 0,
      "outputs": [
        {
          "output_type": "stream",
          "text": [
            "Test loss: 0.02530543410599985\n",
            "Test accuracy: 0.9930999875068665\n"
          ],
          "name": "stdout"
        }
      ]
    },
    {
      "cell_type": "code",
      "metadata": {
        "colab_type": "code",
        "id": "RdqhQYUtPTHw",
        "outputId": "2accd5e3-6f1e-46b7-e625-cc9f5df6d7e9",
        "colab": {
          "base_uri": "https://localhost:8080/",
          "height": 279
        }
      },
      "source": [
        "fig,ax = plt.subplots(1,1)\n",
        "ax.set_xlabel('epoch') ; ax.set_ylabel('Categorical Crossentropy Loss')\n",
        "\n",
        "# list of epoch numbers\n",
        "x = list(range(1,epochs+1))\n",
        "\n",
        "vy = history8.history['val_loss']\n",
        "ty = history8.history['loss']\n",
        "plt_dynamic(x, vy, ty, ax)"
      ],
      "execution_count": 0,
      "outputs": [
        {
          "output_type": "display_data",
          "data": {
            "image/png": "[encoded data removed]",
            "text/plain": [
              "<Figure size 432x288 with 1 Axes>"
            ]
          },
          "metadata": {
            "tags": [],
            "needs_background": "light"
          }
        }
      ]
    },
    {
      "cell_type": "markdown",
      "metadata": {
        "colab_type": "text",
        "id": "-MJaOPVPPTH0"
      },
      "source": [
        "9. Model 9 - 5 Hidden Layers + Adam + Max Pooling + Kernel 7X7 + padding"
      ]
    },
    {
      "cell_type": "code",
      "metadata": {
        "colab_type": "code",
        "outputId": "d6ea399b-468c-4bbe-f5b4-32b1f3a886f2",
        "id": "o7irPee1PTH1",
        "colab": {
          "base_uri": "https://localhost:8080/",
          "height": 442
        }
      },
      "source": [
        "model_9 = Sequential()\n",
        "model_9.add(Conv2D(16, kernel_size=(7, 7), activation='relu', input_shape=input_shape))\n",
        "model_9.add(Conv2D(24, (7, 7), activation='relu',padding='same'))\n",
        "model_9.add(MaxPooling2D(pool_size=(2, 2)))\n",
        "model_9.add(Dropout(0.25))\n",
        "model_9.add(Conv2D(32, (7, 7), activation='relu',padding='same'))\n",
        "model_9.add(MaxPooling2D(pool_size=(2, 2)))\n",
        "model_9.add(Conv2D(24, (7, 7), activation='relu',padding='same'))\n",
        "model_9.add(MaxPooling2D(pool_size=(2, 2)))\n",
        "model_9.add(Conv2D(16, (7, 7), activation='relu',padding='same'))\n",
        "model_9.add(MaxPooling2D(pool_size=(2, 2)))\n",
        "model_9.add(Dropout(0.25))\n",
        "model_9.add(Flatten())\n",
        "model_9.add(Dense(256, activation='relu'))\n",
        "model_9.add(Dropout(0.5))\n",
        "model_9.add(Dense(num_classes, activation='softmax'))\n",
        "\n",
        "model_9.compile(loss=keras.losses.categorical_crossentropy, optimizer='adam', metrics=['accuracy'])\n",
        "\n",
        "history9 = model_9.fit(x_train, y_train, batch_size=batch_size, epochs=epochs, verbose=1, validation_data=(x_test, y_test))\n"
      ],
      "execution_count": 0,
      "outputs": [
        {
          "output_type": "stream",
          "text": [
            "Train on 60000 samples, validate on 10000 samples\n",
            "Epoch 1/12\n",
            "60000/60000 [==============================] - 245s 4ms/step - loss: 0.5550 - accuracy: 0.8082 - val_loss: 0.0797 - val_accuracy: 0.9780\n",
            "Epoch 2/12\n",
            "60000/60000 [==============================] - 245s 4ms/step - loss: 0.1518 - accuracy: 0.9567 - val_loss: 0.0495 - val_accuracy: 0.9867\n",
            "Epoch 3/12\n",
            "60000/60000 [==============================] - 244s 4ms/step - loss: 0.1096 - accuracy: 0.9679 - val_loss: 0.0438 - val_accuracy: 0.9879\n",
            "Epoch 4/12\n",
            "60000/60000 [==============================] - 241s 4ms/step - loss: 0.0925 - accuracy: 0.9734 - val_loss: 0.0488 - val_accuracy: 0.9858\n",
            "Epoch 5/12\n",
            "60000/60000 [==============================] - 243s 4ms/step - loss: 0.0782 - accuracy: 0.9779 - val_loss: 0.0356 - val_accuracy: 0.9900\n",
            "Epoch 6/12\n",
            "60000/60000 [==============================] - 243s 4ms/step - loss: 0.0684 - accuracy: 0.9809 - val_loss: 0.0344 - val_accuracy: 0.9908\n",
            "Epoch 7/12\n",
            "60000/60000 [==============================] - 243s 4ms/step - loss: 0.0614 - accuracy: 0.9828 - val_loss: 0.0276 - val_accuracy: 0.9914\n",
            "Epoch 8/12\n",
            "60000/60000 [==============================] - 244s 4ms/step - loss: 0.0578 - accuracy: 0.9840 - val_loss: 0.0320 - val_accuracy: 0.9912\n",
            "Epoch 9/12\n",
            "60000/60000 [==============================] - 245s 4ms/step - loss: 0.0524 - accuracy: 0.9855 - val_loss: 0.0314 - val_accuracy: 0.9920\n",
            "Epoch 10/12\n",
            "60000/60000 [==============================] - 244s 4ms/step - loss: 0.0437 - accuracy: 0.9871 - val_loss: 0.0284 - val_accuracy: 0.9927\n",
            "Epoch 11/12\n",
            "60000/60000 [==============================] - 250s 4ms/step - loss: 0.0424 - accuracy: 0.9880 - val_loss: 0.0326 - val_accuracy: 0.9919\n",
            "Epoch 12/12\n",
            "60000/60000 [==============================] - 245s 4ms/step - loss: 0.0417 - accuracy: 0.9886 - val_loss: 0.0344 - val_accuracy: 0.9909\n"
          ],
          "name": "stdout"
        }
      ]
    },
    {
      "cell_type": "code",
      "metadata": {
        "colab_type": "code",
        "outputId": "8e39a30e-404d-48a1-98ca-1445455d4a5a",
        "id": "fH7KZMMFPTH6",
        "colab": {
          "base_uri": "https://localhost:8080/",
          "height": 51
        }
      },
      "source": [
        "score = model_9.evaluate(x_test, y_test, verbose=0)\n",
        "print('Test loss:', score[0])\n",
        "print('Test accuracy:', score[1])"
      ],
      "execution_count": 0,
      "outputs": [
        {
          "output_type": "stream",
          "text": [
            "Test loss: 0.034396228901209545\n",
            "Test accuracy: 0.9908999800682068\n"
          ],
          "name": "stdout"
        }
      ]
    },
    {
      "cell_type": "code",
      "metadata": {
        "id": "4E61pLuflmdo",
        "colab_type": "code",
        "outputId": "35652094-c704-477f-f7b3-3395c272d247",
        "colab": {
          "base_uri": "https://localhost:8080/",
          "height": 279
        }
      },
      "source": [
        "fig,ax = plt.subplots(1,1)\n",
        "ax.set_xlabel('epoch') ; ax.set_ylabel('Categorical Crossentropy Loss')\n",
        "\n",
        "# list of epoch numbers\n",
        "x = list(range(1,epochs+1))\n",
        "\n",
        "vy = history9.history['val_loss']\n",
        "ty = history9.history['loss']\n",
        "plt_dynamic(x, vy, ty, ax)"
      ],
      "execution_count": 0,
      "outputs": [
        {
          "output_type": "display_data",
          "data": {
            "image/png": "[encoded data removed]",
            "text/plain": [
              "<Figure size 432x288 with 1 Axes>"
            ]
          },
          "metadata": {
            "tags": [],
            "needs_background": "light"
          }
        }
      ]
    },
    {
      "cell_type": "code",
      "metadata": {
        "colab_type": "code",
        "id": "X05euJKDPTIA",
        "outputId": "af7d9fbf-ec30-422e-965e-f088ea44052f",
        "colab": {
          "base_uri": "https://localhost:8080/",
          "height": 238
        }
      },
      "source": [
        "\n",
        "from prettytable import PrettyTable\n",
        "x = PrettyTable()\n",
        "x.field_names = [\"Hidden Layers\",\"Parameters\",\"Accuracy\"]\n",
        "x.add_row([2,'CNN + ReLU +  Adadelta + Max Pooling + Kernel 3X3 + Dropout ', 0.9916])\n",
        "x.add_row([2,'CNN + ReLU +  Adam + Max Pooling + Kernel 5X5 + Dropout ', 0.9941])\n",
        "x.add_row([2,'CNN + ReLU +  Adam + Max Pooling + Kernel 7X7 + Dropout', 0.9926])\n",
        "x.add_row([3,'CNN + ReLU +  Adadelta + Max Pooling + Kernel 3X3 + Dropout ', 0.9943])\n",
        "x.add_row([3,'CNN + ReLU +  Adam + Max Pooling + Kernel 5X5 + Dropout', 0.9948])\n",
        "x.add_row([3,'CNN + ReLU +  Adam + Max Pooling + Kernel 7X7 + Dropout', 0.9940])\n",
        "x.add_row([5,'CNN + ReLU +  Adadelta + Max Pooling + Kernel 3X3 + Dropout', 0.9922])\n",
        "x.add_row([5,'CNN + ReLU +  Adam + Max Pooling + Kernel 5X5 + Dropout', 0.9930])\n",
        "x.add_row([5,'CNN + ReLU +  Adam + Max Pooling + Kernel 7X7 + Dropout + padding', 0.9908])\n",
        "print(x)\n"
      ],
      "execution_count": 1,
      "outputs": [
        {
          "output_type": "stream",
          "text": [
            "+---------------+-------------------------------------------------------------------+----------+\n",
            "| Hidden Layers |                             Parameters                            | Accuracy |\n",
            "+---------------+-------------------------------------------------------------------+----------+\n",
            "|       2       |    CNN + ReLU +  Adadelta + Max Pooling + Kernel 3X3 + Dropout    |  0.9916  |\n",
            "|       2       |      CNN + ReLU +  Adam + Max Pooling + Kernel 5X5 + Dropout      |  0.9941  |\n",
            "|       2       |      CNN + ReLU +  Adam + Max Pooling + Kernel 7X7 + Dropout      |  0.9926  |\n",
            "|       3       |    CNN + ReLU +  Adadelta + Max Pooling + Kernel 3X3 + Dropout    |  0.9943  |\n",
            "|       3       |      CNN + ReLU +  Adam + Max Pooling + Kernel 5X5 + Dropout      |  0.9948  |\n",
            "|       3       |      CNN + ReLU +  Adam + Max Pooling + Kernel 7X7 + Dropout      |  0.994   |\n",
            "|       5       |    CNN + ReLU +  Adadelta + Max Pooling + Kernel 3X3 + Dropout    |  0.9922  |\n",
            "|       5       |      CNN + ReLU +  Adam + Max Pooling + Kernel 5X5 + Dropout      |  0.993   |\n",
            "|       5       | CNN + ReLU +  Adam + Max Pooling + Kernel 7X7 + Dropout + padding |  0.9908  |\n",
            "+---------------+-------------------------------------------------------------------+----------+\n"
          ],
          "name": "stdout"
        }
      ]
    },
    {
      "cell_type": "code",
      "metadata": {
        "id": "6fb9jLNX4WRy",
        "colab_type": "code",
        "colab": {}
      },
      "source": [
        ""
      ],
      "execution_count": 0,
      "outputs": []
    }
  ]
}