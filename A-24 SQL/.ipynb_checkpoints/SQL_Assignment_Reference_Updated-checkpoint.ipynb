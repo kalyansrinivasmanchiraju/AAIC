{
 "cells": [
  {
   "cell_type": "markdown",
   "metadata": {},
   "source": [
    "# SQL Assignment"
   ]
  },
  {
   "cell_type": "code",
   "execution_count": 1,
   "metadata": {},
   "outputs": [],
   "source": [
    "import pandas as pd\n",
    "import sqlite3"
   ]
  },
  {
   "cell_type": "code",
   "execution_count": 2,
   "metadata": {},
   "outputs": [],
   "source": [
    "conn = sqlite3.connect(\"Db-IMDB-Assignment.db\")"
   ]
  },
  {
   "cell_type": "markdown",
   "metadata": {},
   "source": [
    "## Sample Code"
   ]
  },
  {
   "cell_type": "code",
   "execution_count": 3,
   "metadata": {},
   "outputs": [
    {
     "name": "stdout",
     "output_type": "stream",
     "text": [
      "(85, 1)\n",
      "             Movie_Name\n",
      "0            Mastizaade\n",
      "1  Dragonball Evolution\n",
      "2             Loveyatri\n",
      "3                Race 3\n",
      "4                Gunday\n",
      "Wall time: 414 ms\n"
     ]
    }
   ],
   "source": [
    "%%time\n",
    "# Write your sql query below\n",
    "\n",
    "query = \"\"\"\n",
    "        SELECT TRIM(Movie.title) AS 'Movie_Name'\n",
    "        FROM Movie\n",
    "        WHERE Movie.rating < 3\n",
    "        \n",
    "        \"\"\"\n",
    "\n",
    "q = pd.read_sql_query(query, conn)    \n",
    "print(q.shape)\n",
    "print(q.head())"
   ]
  },
  {
   "cell_type": "markdown",
   "metadata": {},
   "source": [
    "## Q1 --- List all the directors who directed a 'Comedy' movie in a leap year. (You need to check that the genre is 'Comedy’ and year is a leap year) Your query should return director name, the movie name, and the year."
   ]
  },
  {
   "cell_type": "code",
   "execution_count": 4,
   "metadata": {},
   "outputs": [
    {
     "name": "stdout",
     "output_type": "stream",
     "text": [
      "(246, 3)\n",
      "Wall time: 8.43 s\n"
     ]
    }
   ],
   "source": [
    "%%time\n",
    "# Write your sql query below\n",
    "\n",
    "query = \"\"\"\n",
    "        SELECT Person.name,Movie.title,Movie.year \n",
    "        FROM Movie\n",
    "        JOIN M_Director ON trim(Movie.mid)=trim(M_Director.mid)\n",
    "        JOIN Person ON trim(M_Director.pid)=trim(Person.pid)\n",
    "        WHERE trim(Movie.mid) in \n",
    "        (SELECT trim(M_Genre.mid)\n",
    "        FROM M_Genre\n",
    "        JOIN Genre on trim(M_Genre.gid)=trim(Genre.gid)\n",
    "        WHERE trim(Genre.name) like '%Comedy%')\n",
    "        AND Movie.year%4==0\n",
    "        \n",
    "        \"\"\"\n",
    "\n",
    "q1 = pd.read_sql_query(query, conn)    \n",
    "print(q1.shape)\n",
    "q1.head()"
   ]
  },
  {
   "cell_type": "markdown",
   "metadata": {},
   "source": [
    "## Q2 --- List the names of all the actors who played in the movie 'Anand' (1971)"
   ]
  },
  {
   "cell_type": "code",
   "execution_count": 5,
   "metadata": {},
   "outputs": [
    {
     "name": "stdout",
     "output_type": "stream",
     "text": [
      "(17, 1)\n",
      "Wall time: 574 ms\n"
     ]
    }
   ],
   "source": [
    "%%time\n",
    "# Write your sql query below\n",
    "\n",
    "query = \"\"\"\n",
    "        SELECT Person.name\n",
    "        FROM Movie\n",
    "        JOIN M_Cast ON trim(Movie.mid)=trim(M_Cast.mid)\n",
    "        JOIN Person ON trim(M_Cast.pid)=trim(Person.pid)\n",
    "        WHERE Movie.title like 'Anand'\n",
    "        \n",
    "        \"\"\"\n",
    "\n",
    "q2 = pd.read_sql_query(query, conn)    \n",
    "print(q2.shape)\n",
    "q2.head()"
   ]
  },
  {
   "cell_type": "markdown",
   "metadata": {},
   "source": [
    "## Q3 --- List all the actors who acted in a film before 1970 and in a film after 1990. (That is: < 1970 and > 1990.)"
   ]
  },
  {
   "cell_type": "code",
   "execution_count": 6,
   "metadata": {},
   "outputs": [
    {
     "name": "stdout",
     "output_type": "stream",
     "text": [
      "(333, 1)\n",
      "Wall time: 3min 32s\n"
     ]
    }
   ],
   "source": [
    "%%time\n",
    "# Write your sql query below\n",
    "\n",
    "query = \"\"\"\n",
    "        SELECT Person.name\n",
    "        FROM Person\n",
    "        WHERE trim(Person.pid) IN\n",
    "        (SELECT trim(M_Cast.pid)\n",
    "        FROM M_Cast\n",
    "        JOIN Movie ON trim(M_Cast.mid)=trim(Movie.mid)\n",
    "        WHERE Movie.year<1970\n",
    "        INTERSECT\n",
    "        SELECT trim(M_Cast.pid)\n",
    "        FROM M_Cast\n",
    "        JOIN Movie ON trim(M_Cast.mid)=trim(Movie.mid)\n",
    "        WHERE Movie.year>1990)\n",
    "\n",
    "        \"\"\"\n",
    "\n",
    "q3 = pd.read_sql_query(query, conn)    \n",
    "print(q3.shape)\n",
    "q3.head()"
   ]
  },
  {
   "cell_type": "markdown",
   "metadata": {},
   "source": [
    "## Q4 --- List all directors who directed 10 movies or more, in descending order of the number of movies they directed. Return the directors' names and the number of movies each of them directed."
   ]
  },
  {
   "cell_type": "code",
   "execution_count": 7,
   "metadata": {},
   "outputs": [
    {
     "name": "stdout",
     "output_type": "stream",
     "text": [
      "(58, 2)\n",
      "Wall time: 1min 51s\n"
     ]
    }
   ],
   "source": [
    "%%time\n",
    "# Write your sql query below\n",
    "\n",
    "query = \"\"\"\n",
    "        SELECT Person.name,count(*) AS Count\n",
    "        FROM Person\n",
    "        JOIN M_Director ON trim(Person.pid)=trim(M_Director.pid)\n",
    "        JOIN Movie ON trim(M_Director.mid)=trim(Movie.mid)\n",
    "        GROUP BY Person.Name\n",
    "        HAVING count(*)>=10\n",
    "        ORDER BY count(*) DESC\n",
    "        \"\"\"\n",
    "\n",
    "q4 = pd.read_sql_query(query, conn)    \n",
    "print(q4.shape)\n",
    "q4.head()"
   ]
  },
  {
   "cell_type": "markdown",
   "metadata": {},
   "source": [
    "## Q5.a --- For each year, count the number of movies in that year that had only female actors."
   ]
  },
  {
   "cell_type": "code",
   "execution_count": 8,
   "metadata": {},
   "outputs": [
    {
     "name": "stdout",
     "output_type": "stream",
     "text": [
      "(125, 2)\n",
      "Wall time: 2min 41s\n"
     ]
    }
   ],
   "source": [
    "%%time\n",
    "# Write your sql query below\n",
    "\n",
    "query = \"\"\"\n",
    "        SELECT M.year,(SELECT count(*) FROM Movie\n",
    "        JOIN\n",
    "        (SELECT trim(M_Cast.mid) as mid,count(*)\n",
    "        FROM M_Cast\n",
    "        WHERE trim(M_Cast.pid)IN\n",
    "        (SELECT trim(Person.pid)\n",
    "        FROM Person\n",
    "        WHERE Person.gender like 'Female')\n",
    "        GROUP BY trim(M_Cast.mid)\n",
    "        HAVING count(*)=\n",
    "        (SELECT count(*)\n",
    "        FROM M_Cast MC\n",
    "        WHERE MC.mid=M_Cast.mid)) C\n",
    "        ON trim(Movie.mid)=c.mid\n",
    "        AND Movie.year=M.year) AS Count\n",
    "        FROM Movie M\n",
    "        GROUP BY M.year\n",
    "        \"\"\"\n",
    "\n",
    "q5a = pd.read_sql_query(query, conn)    \n",
    "print(q5a.shape)\n",
    "q5a.head()"
   ]
  },
  {
   "cell_type": "markdown",
   "metadata": {},
   "source": [
    "## Q5.b --- Now include a small change: report for each year the percentage of movies in that year with only female actors, and the total number of movies made that year. For example, one answer will be: 1990 31.81 13522 meaning that in 1990 there were 13,522 movies, and 31.81% had only female actors. You do not need to round your answer."
   ]
  },
  {
   "cell_type": "code",
   "execution_count": 9,
   "metadata": {},
   "outputs": [
    {
     "name": "stdout",
     "output_type": "stream",
     "text": [
      "(125, 3)\n",
      "Wall time: 2min 39s\n"
     ]
    }
   ],
   "source": [
    "%%time\n",
    "# Write your sql query below\n",
    "\n",
    "query = \"\"\"\n",
    "        SELECT M.year,CAST((SELECT count(*) FROM Movie\n",
    "        JOIN\n",
    "        (SELECT trim(M_Cast.mid) as mid,count(*)\n",
    "        FROM M_Cast\n",
    "        WHERE trim(M_Cast.pid)IN\n",
    "        (SELECT trim(Person.pid)\n",
    "        FROM Person\n",
    "        WHERE Person.gender like 'Female')\n",
    "        GROUP BY trim(M_Cast.mid)\n",
    "        HAVING count(*)=\n",
    "        (SELECT count(*)\n",
    "        FROM M_Cast MC\n",
    "        WHERE MC.mid=M_Cast.mid)) C\n",
    "        ON trim(Movie.mid)=c.mid\n",
    "        AND Movie.year=M.year) AS FLOAT)/(SELECT count(*) FROM Movie WHERE Movie.year=M.year) AS Percentage,count(*) AS Total\n",
    "        FROM Movie M\n",
    "        GROUP BY M.year\n",
    "        \n",
    "        \"\"\"\n",
    "\n",
    "q5b = pd.read_sql_query(query, conn)    \n",
    "print(q5b.shape)\n",
    "q5b.head()"
   ]
  },
  {
   "cell_type": "markdown",
   "metadata": {},
   "source": [
    "## Q6 --- Find the film(s) with the largest cast. Return the movie title and the size of the cast. By \"cast size\" we mean the number of distinct actors that played in that movie: if an actor played multiple roles, or if it simply occurs multiple times in casts, we still count her/him only once."
   ]
  },
  {
   "cell_type": "code",
   "execution_count": 10,
   "metadata": {},
   "outputs": [
    {
     "name": "stdout",
     "output_type": "stream",
     "text": [
      "(1, 2)\n",
      "Wall time: 1.91 s\n"
     ]
    }
   ],
   "source": [
    "%%time\n",
    "# Write your sql query below\n",
    "\n",
    "query = \"\"\"\n",
    "        SELECT Movie.title, \n",
    "        (SELECT count(M_Cast.pid) FROM M_Cast GROUP BY M_Cast.mid HAVING count(DISTINCT M_Cast.pid)=\n",
    "        (SELECT max(c) FROM (SELECT M_Cast.mid,count(distinct M_Cast.pid) c FROM M_Cast group by M_Cast.mid))\n",
    "        ) count\n",
    "        FROM Movie \n",
    "        WHERE Movie.mid =\n",
    "        (SELECT M_Cast.mid FROM M_Cast GROUP BY M_Cast.mid HAVING count(distinct M_Cast.pid)=\n",
    "        (SELECT max(c) FROM (select M_Cast.mid,count(distinct M_Cast.pid) c from M_Cast GROUP BY M_Cast.mid)))\n",
    "        \n",
    "        \"\"\"\n",
    "\n",
    "q6 = pd.read_sql_query(query, conn)    \n",
    "print(q6.shape)\n",
    "q6.head()"
   ]
  },
  {
   "cell_type": "markdown",
   "metadata": {},
   "source": [
    "## Q7 --- A decade is a sequence of 10 consecutive years. For example, say in your database you have movie information starting from 1965. Then the first decade is 1965, 1966, ..., 1974; the second one is 1967, 1968, ..., 1976 and so on. Find the decade D with the largest number of films and the total number of films in D."
   ]
  },
  {
   "cell_type": "code",
   "execution_count": 11,
   "metadata": {},
   "outputs": [
    {
     "name": "stdout",
     "output_type": "stream",
     "text": [
      "(1, 3)\n",
      "Wall time: 541 ms\n"
     ]
    }
   ],
   "source": [
    "%%time\n",
    "# Write your sql query below\n",
    "\n",
    "query = \"\"\"\n",
    "        SELECT y.year as decade_start, y.year + 9 as decade_end,\n",
    "        count(*) as num_movies\n",
    "        FROM (SELECT distinct Movie.year FROM Movie) y \n",
    "        JOIN Movie m ON m.year >= y.year \n",
    "        AND m.year < y.year + 10\n",
    "        GROUP BY y.year\n",
    "        ORDER BY count(*) DESC\n",
    "        LIMIT 1\n",
    "        \n",
    "        \"\"\"\n",
    "\n",
    "q7 = pd.read_sql_query(query, conn)    \n",
    "print(q7.shape)\n",
    "q7.head()"
   ]
  },
  {
   "cell_type": "markdown",
   "metadata": {},
   "source": [
    "## Q8 --- Find all the actors that made more movies with Yash Chopra than any other director."
   ]
  },
  {
   "cell_type": "code",
   "execution_count": 12,
   "metadata": {},
   "outputs": [
    {
     "name": "stdout",
     "output_type": "stream",
     "text": [
      "(211, 1)\n",
      "Wall time: 1min 38s\n"
     ]
    }
   ],
   "source": [
    "%%time\n",
    "# Write your sql query below\n",
    "\n",
    "query = \"\"\"\n",
    "        SELECT Person.name\n",
    "        FROM Person\n",
    "        WHERE Person.pid IN\n",
    "        (SELECT trim(M_Cast.pid)\n",
    "        FROM M_Cast \n",
    "        JOIN M_Director ON trim(M_Cast.mid)=trim(M_Director.mid)\n",
    "        WHERE trim(M_Director.pid)=\n",
    "        (SELECT trim(Person.pid)\n",
    "        FROM Person\n",
    "        WHERE Person.name like '%Yash Chopra%'))\n",
    "        GROUP BY Person.name\n",
    "        HAVING count(*)=\n",
    "        (SELECT count(*)\n",
    "        FROM M_Cast \n",
    "        JOIN M_Director ON trim(M_Cast.mid)=trim(M_Director.mid)\n",
    "        WHERE trim(Person.pid)=trim(M_Cast.pid)\n",
    "        GROUP BY trim(M_Director.pid)\n",
    "        ORDER BY count(*) DESC\n",
    "        LIMIT 1\n",
    "        )\n",
    "        \"\"\"\n",
    "\n",
    "q8 = pd.read_sql_query(query, conn)    \n",
    "print(q8.shape)\n",
    "q8.head()"
   ]
  },
  {
   "cell_type": "markdown",
   "metadata": {},
   "source": [
    "## Q9 --- The Shahrukh number of an actor is the length of the shortest path between the actor and Shahrukh Khan in the \"co-acting\" graph. That is, Shahrukh Khan has Shahrukh number 0; all actors who acted in the same film as Shahrukh have Shahrukh number 1; all actors who acted in the same film as some actor with Shahrukh number 1 have Shahrukh number 2, etc. Return all actors whose Shahrukh number is 2."
   ]
  },
  {
   "cell_type": "code",
   "execution_count": 13,
   "metadata": {},
   "outputs": [
    {
     "name": "stdout",
     "output_type": "stream",
     "text": [
      "(25698, 1)\n",
      "Wall time: 1.65 s\n"
     ]
    }
   ],
   "source": [
    "%%time\n",
    "# Write your sql query below\n",
    "# As in given dataset, There is no data related to \"Shahrukh Khan\". So the output of query is 0\n",
    "query =\"\"\"\n",
    "       SELECT Person.Name\n",
    "       FROM Person\n",
    "       WHERE trim(Person.pid) IN\n",
    "       (SELECT distinct trim(M_Cast.pid)\n",
    "       FROM M_Cast\n",
    "       WHERE trim(M_Cast.mid) IN\n",
    "       (SELECT distinct trim(M_Cast.mid)\n",
    "       FROM M_Cast\n",
    "       WHERE trim(M_Cast.mid) IN\n",
    "       (SELECT trim(M_Cast.mid)\n",
    "       FROM M_Cast\n",
    "       WHERE trim(M_Cast.pid) IN\n",
    "       (SELECT trim(M_Cast.pid)\n",
    "       FROM M_Cast\n",
    "       WHERE trim(M_Cast.mid) IN\n",
    "       (SELECT trim(M_Cast.mid)\n",
    "       FROM M_Cast\n",
    "       WHERE trim(M_Cast.pid)=\n",
    "       (SELECT trim(Person.pid)\n",
    "       FROM Person\n",
    "       WHERE Person.name like '%Shah Rukh Khan%'))\n",
    "       AND trim(M_Cast.pid)<>(SELECT trim(Person.pid)\n",
    "       FROM Person\n",
    "       WHERE Person.name like '%Shah Rukh Khan%'))))\n",
    "       AND trim(M_Cast.pid) NOT IN\n",
    "       (SELECT trim(M_Cast.pid)\n",
    "       FROM M_Cast\n",
    "       WHERE trim(M_Cast.mid) IN\n",
    "       (SELECT trim(M_Cast.mid)\n",
    "       FROM M_Cast\n",
    "       WHERE trim(M_Cast.pid)=\n",
    "       (SELECT trim(Person.pid)\n",
    "       FROM Person\n",
    "       WHERE Person.name like '%Shah Rukh Khan%'))))\n",
    "       \"\"\"\n",
    "\n",
    "q9 = pd.read_sql_query(query, conn)    \n",
    "print(q9.shape)\n",
    "q9.head()"
   ]
  }
 ],
 "metadata": {
  "kernelspec": {
   "display_name": "Python 3",
   "language": "python",
   "name": "python3"
  },
  "language_info": {
   "codemirror_mode": {
    "name": "ipython",
    "version": 3
   },
   "file_extension": ".py",
   "mimetype": "text/x-python",
   "name": "python",
   "nbconvert_exporter": "python",
   "pygments_lexer": "ipython3",
   "version": "3.7.6"
  }
 },
 "nbformat": 4,
 "nbformat_minor": 2
}
