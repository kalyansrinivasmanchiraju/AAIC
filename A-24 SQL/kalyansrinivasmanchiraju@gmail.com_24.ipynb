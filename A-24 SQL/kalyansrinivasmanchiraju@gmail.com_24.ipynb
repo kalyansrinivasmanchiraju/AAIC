{
 "cells": [
  {
   "cell_type": "markdown",
   "metadata": {},
   "source": [
    "# SQL Assignment"
   ]
  },
  {
   "cell_type": "code",
   "execution_count": 1,
   "metadata": {},
   "outputs": [],
   "source": [
    "import pandas as pd\n",
    "import sqlite3"
   ]
  },
  {
   "cell_type": "code",
   "execution_count": 2,
   "metadata": {},
   "outputs": [],
   "source": [
    "conn = sqlite3.connect(\"Db-IMDB-Assignment.db\")"
   ]
  },
  {
   "cell_type": "markdown",
   "metadata": {},
   "source": [
    "## Sample Code"
   ]
  },
  {
   "cell_type": "code",
   "execution_count": 3,
   "metadata": {},
   "outputs": [
    {
     "name": "stdout",
     "output_type": "stream",
     "text": [
      "(85, 1)\n",
      "             Movie_Name\n",
      "0            Mastizaade\n",
      "1  Dragonball Evolution\n",
      "2             Loveyatri\n",
      "3                Race 3\n",
      "4                Gunday\n",
      "Wall time: 378 ms\n"
     ]
    }
   ],
   "source": [
    "%%time\n",
    "# Write your sql query below\n",
    "\n",
    "query = \"\"\"\n",
    "        SELECT TRIM(Movie.title) AS 'Movie_Name'\n",
    "        FROM Movie\n",
    "        WHERE Movie.rating < 3\n",
    "        \n",
    "        \"\"\"\n",
    "\n",
    "q = pd.read_sql_query(query, conn)    \n",
    "print(q.shape)\n",
    "#q.head()\n",
    "print(q.head())\n"
   ]
  },
  {
   "cell_type": "markdown",
   "metadata": {},
   "source": [
    "## Q1 --- List all the directors who directed a 'Comedy' movie in a leap year. (You need to check that the genre is 'Comedy’ and year is a leap year) Your query should return director name, the movie name, and the year."
   ]
  },
  {
   "cell_type": "code",
   "execution_count": 4,
   "metadata": {},
   "outputs": [
    {
     "name": "stdout",
     "output_type": "stream",
     "text": [
      "(246, 3)\n",
      "                 Director  Movie name     year\n",
      "0              Amit Mitra  Jagte Raho     1956\n",
      "1            Chetan Anand    Funtoosh     1956\n",
      "2             Satyen Bose     Jagriti     1956\n",
      "3             Mohan Segal   New Delhi     1956\n",
      "4              S.U. Sunny    Kohinoor     1960\n",
      "..                    ...         ...      ...\n",
      "241      Suzad Iqbal Khan     Monsoon   I 2015\n",
      "242          Sunhil Sippy        Noor   I 2017\n",
      "243           Abhinay Deo   Blackmail   I 2018\n",
      "244   Parvati Balagopalan    Straight  II 2009\n",
      "245         Kaizad Gustad     Jackpot  II 2013\n",
      "\n",
      "[246 rows x 3 columns]\n",
      "Wall time: 5.93 s\n"
     ]
    },
    {
     "data": {
      "text/html": [
       "<div>\n",
       "<style scoped>\n",
       "    .dataframe tbody tr th:only-of-type {\n",
       "        vertical-align: middle;\n",
       "    }\n",
       "\n",
       "    .dataframe tbody tr th {\n",
       "        vertical-align: top;\n",
       "    }\n",
       "\n",
       "    .dataframe thead th {\n",
       "        text-align: right;\n",
       "    }\n",
       "</style>\n",
       "<table border=\"1\" class=\"dataframe\">\n",
       "  <thead>\n",
       "    <tr style=\"text-align: right;\">\n",
       "      <th></th>\n",
       "      <th>Director</th>\n",
       "      <th>Movie name</th>\n",
       "      <th>year</th>\n",
       "    </tr>\n",
       "  </thead>\n",
       "  <tbody>\n",
       "    <tr>\n",
       "      <th>0</th>\n",
       "      <td>Amit Mitra</td>\n",
       "      <td>Jagte Raho</td>\n",
       "      <td>1956</td>\n",
       "    </tr>\n",
       "    <tr>\n",
       "      <th>1</th>\n",
       "      <td>Chetan Anand</td>\n",
       "      <td>Funtoosh</td>\n",
       "      <td>1956</td>\n",
       "    </tr>\n",
       "    <tr>\n",
       "      <th>2</th>\n",
       "      <td>Satyen Bose</td>\n",
       "      <td>Jagriti</td>\n",
       "      <td>1956</td>\n",
       "    </tr>\n",
       "    <tr>\n",
       "      <th>3</th>\n",
       "      <td>Mohan Segal</td>\n",
       "      <td>New Delhi</td>\n",
       "      <td>1956</td>\n",
       "    </tr>\n",
       "    <tr>\n",
       "      <th>4</th>\n",
       "      <td>S.U. Sunny</td>\n",
       "      <td>Kohinoor</td>\n",
       "      <td>1960</td>\n",
       "    </tr>\n",
       "  </tbody>\n",
       "</table>\n",
       "</div>"
      ],
      "text/plain": [
       "        Director  Movie name  year\n",
       "0     Amit Mitra  Jagte Raho  1956\n",
       "1   Chetan Anand    Funtoosh  1956\n",
       "2    Satyen Bose     Jagriti  1956\n",
       "3    Mohan Segal   New Delhi  1956\n",
       "4     S.U. Sunny    Kohinoor  1960"
      ]
     },
     "execution_count": 4,
     "metadata": {},
     "output_type": "execute_result"
    }
   ],
   "source": [
    "%%time\n",
    "# Write your sql query below\n",
    "\n",
    "query = \"\"\" \n",
    "        \n",
    "        select p.name Director,m.title \"Movie name\",m.year \n",
    "        from movie m left join m_director md on m.mid=md.mid left join person p on trim(p.pid)=trim(md.pid) \n",
    "        where trim(md.mid) in (select trim(mid) \n",
    "                                from m_genre mg join genre g on trim(mg.gid) = Trim(g.gid) where name like \"%Comedy%\") \n",
    "                                and m.year%4=0 \n",
    "        order by m.year\n",
    "        \n",
    "        \"\"\"\n",
    "\n",
    "q1 = pd.read_sql_query(query, conn)    \n",
    "print(q1.shape)\n",
    "print(q1)\n",
    "q1.head()"
   ]
  },
  {
   "cell_type": "markdown",
   "metadata": {},
   "source": [
    "## Q2 --- List the names of all the actors who played in the movie 'Anand' (1971)"
   ]
  },
  {
   "cell_type": "code",
   "execution_count": 5,
   "metadata": {},
   "outputs": [
    {
     "name": "stdout",
     "output_type": "stream",
     "text": [
      "(9, 1)\n",
      "                 Name\n",
      "0   Prithviraj Kapoor\n",
      "1             Zubeida\n",
      "2       Jagdish Sethi\n",
      "3       Master Vithal\n",
      "4               Jillo\n",
      "5             Sushila\n",
      "6              Elizer\n",
      "7           W.M. Khan\n",
      "8         L.V. Prasad\n",
      "Wall time: 115 ms\n"
     ]
    },
    {
     "data": {
      "text/html": [
       "<div>\n",
       "<style scoped>\n",
       "    .dataframe tbody tr th:only-of-type {\n",
       "        vertical-align: middle;\n",
       "    }\n",
       "\n",
       "    .dataframe tbody tr th {\n",
       "        vertical-align: top;\n",
       "    }\n",
       "\n",
       "    .dataframe thead th {\n",
       "        text-align: right;\n",
       "    }\n",
       "</style>\n",
       "<table border=\"1\" class=\"dataframe\">\n",
       "  <thead>\n",
       "    <tr style=\"text-align: right;\">\n",
       "      <th></th>\n",
       "      <th>Name</th>\n",
       "    </tr>\n",
       "  </thead>\n",
       "  <tbody>\n",
       "    <tr>\n",
       "      <th>0</th>\n",
       "      <td>Prithviraj Kapoor</td>\n",
       "    </tr>\n",
       "    <tr>\n",
       "      <th>1</th>\n",
       "      <td>Zubeida</td>\n",
       "    </tr>\n",
       "    <tr>\n",
       "      <th>2</th>\n",
       "      <td>Jagdish Sethi</td>\n",
       "    </tr>\n",
       "    <tr>\n",
       "      <th>3</th>\n",
       "      <td>Master Vithal</td>\n",
       "    </tr>\n",
       "    <tr>\n",
       "      <th>4</th>\n",
       "      <td>Jillo</td>\n",
       "    </tr>\n",
       "  </tbody>\n",
       "</table>\n",
       "</div>"
      ],
      "text/plain": [
       "                 Name\n",
       "0   Prithviraj Kapoor\n",
       "1             Zubeida\n",
       "2       Jagdish Sethi\n",
       "3       Master Vithal\n",
       "4               Jillo"
      ]
     },
     "execution_count": 5,
     "metadata": {},
     "output_type": "execute_result"
    }
   ],
   "source": [
    "%%time\n",
    "# Write your sql query below\n",
    "\n",
    "query = \"\"\"\n",
    "        \n",
    "       select name \n",
    "       from person \n",
    "       where pid in (\n",
    "                       select Trim(pid)\n",
    "                       from m_cast mc \n",
    "                       where mid in\n",
    "                       (\n",
    "                           select mid\n",
    "                           from movie \n",
    "                           where title like 'Alam ara'\n",
    "                       )\n",
    "                   )\n",
    "        \n",
    "        \"\"\"\n",
    "\n",
    "q2 = pd.read_sql_query(query, conn)    \n",
    "print(q2.shape)\n",
    "print(q2)\n",
    "q2.head()"
   ]
  },
  {
   "cell_type": "markdown",
   "metadata": {},
   "source": [
    "## Q3 --- List all the actors who acted in a film before 1970 and in a film after 1990. (That is: < 1970 and > 1990.)"
   ]
  },
  {
   "cell_type": "code",
   "execution_count": 6,
   "metadata": {},
   "outputs": [
    {
     "name": "stdout",
     "output_type": "stream",
     "text": [
      "(29661, 1)\n",
      "                              Name\n",
      "0                  'Ganja' Karuppu\n",
      "1            'Lee' George Quinones\n",
      "2       'Musafir' Radio Performing\n",
      "3               'Nandha' Saravanan\n",
      "4           'Om' Rakesh Chaturvedi\n",
      "...                            ...\n",
      "29656                   Zuri Echea\n",
      "29657                Zuzanna Zajac\n",
      "29658               Àaron Brewster\n",
      "29659                  Éric Berger\n",
      "29660              Ócsai Krisztián\n",
      "\n",
      "[29661 rows x 1 columns]\n",
      "Wall time: 711 ms\n"
     ]
    },
    {
     "data": {
      "text/html": [
       "<div>\n",
       "<style scoped>\n",
       "    .dataframe tbody tr th:only-of-type {\n",
       "        vertical-align: middle;\n",
       "    }\n",
       "\n",
       "    .dataframe tbody tr th {\n",
       "        vertical-align: top;\n",
       "    }\n",
       "\n",
       "    .dataframe thead th {\n",
       "        text-align: right;\n",
       "    }\n",
       "</style>\n",
       "<table border=\"1\" class=\"dataframe\">\n",
       "  <thead>\n",
       "    <tr style=\"text-align: right;\">\n",
       "      <th></th>\n",
       "      <th>Name</th>\n",
       "    </tr>\n",
       "  </thead>\n",
       "  <tbody>\n",
       "    <tr>\n",
       "      <th>0</th>\n",
       "      <td>'Ganja' Karuppu</td>\n",
       "    </tr>\n",
       "    <tr>\n",
       "      <th>1</th>\n",
       "      <td>'Lee' George Quinones</td>\n",
       "    </tr>\n",
       "    <tr>\n",
       "      <th>2</th>\n",
       "      <td>'Musafir' Radio Performing</td>\n",
       "    </tr>\n",
       "    <tr>\n",
       "      <th>3</th>\n",
       "      <td>'Nandha' Saravanan</td>\n",
       "    </tr>\n",
       "    <tr>\n",
       "      <th>4</th>\n",
       "      <td>'Om' Rakesh Chaturvedi</td>\n",
       "    </tr>\n",
       "  </tbody>\n",
       "</table>\n",
       "</div>"
      ],
      "text/plain": [
       "                          Name\n",
       "0              'Ganja' Karuppu\n",
       "1        'Lee' George Quinones\n",
       "2   'Musafir' Radio Performing\n",
       "3           'Nandha' Saravanan\n",
       "4       'Om' Rakesh Chaturvedi"
      ]
     },
     "execution_count": 6,
     "metadata": {},
     "output_type": "execute_result"
    }
   ],
   "source": [
    "%%time\n",
    "# Write your sql query below\n",
    "\n",
    "query = \"\"\"\n",
    "        select name from person where pid in \n",
    "       (\n",
    "       select Trim(pid) from m_cast mc where \n",
    "       mid in\n",
    "       (\n",
    "       select mid from movie where year<1970 or year>1990\n",
    "       )\n",
    "       )\n",
    "       order by name\n",
    "        \n",
    "        \n",
    "        \"\"\"\n",
    "\n",
    "q3 = pd.read_sql_query(query, conn)    \n",
    "print(q3.shape)\n",
    "print(q3)\n",
    "q3.head()"
   ]
  },
  {
   "cell_type": "markdown",
   "metadata": {},
   "source": [
    "## Q4 --- List all directors who directed 10 movies or more, in descending order of the number of movies they directed. Return the directors' names and the number of movies each of them directed."
   ]
  },
  {
   "cell_type": "code",
   "execution_count": 7,
   "metadata": {},
   "outputs": [
    {
     "name": "stdout",
     "output_type": "stream",
     "text": [
      "(45, 2)\n",
      "                         Name  count\n",
      "0                David Dhawan     39\n",
      "1                Mahesh Bhatt     35\n",
      "2             Ram Gopal Varma     30\n",
      "3                Priyadarshan     30\n",
      "4                Vikram Bhatt     29\n",
      "5        Hrishikesh Mukherjee     27\n",
      "6                 Yash Chopra     21\n",
      "7              Shakti Samanta     19\n",
      "8             Basu Chatterjee     19\n",
      "9                Subhash Ghai     18\n",
      "10   Abbas Alibhai Burmawalla     17\n",
      "11              Shyam Benegal     17\n",
      "12          Rama Rao Tatineni     17\n",
      "13             Manmohan Desai     16\n",
      "14                     Gulzar     16\n",
      "15               Raj N. Sippy     16\n",
      "16           Mahesh Manjrekar     15\n",
      "17                 Raj Kanwar     15\n",
      "18          Rajkumar Santoshi     14\n",
      "19               Rahul Rawail     14\n",
      "20                 Raj Khosla     14\n",
      "21                Indra Kumar     14\n",
      "22             Anurag Kashyap     13\n",
      "23              Rakesh Roshan     13\n",
      "24   Ananth Narayan Mahadevan     13\n",
      "25                  Dev Anand     13\n",
      "26                Vijay Anand     13\n",
      "27         K. Raghavendra Rao     13\n",
      "28               Harry Baweja     13\n",
      "29             Satish Kaushik     12\n",
      "30          Madhur Bhandarkar     12\n",
      "31                Prakash Jha     12\n",
      "32               Rohit Shetty     12\n",
      "33               Anees Bazmee     12\n",
      "34                Anil Sharma     12\n",
      "35            Nagesh Kukunoor     12\n",
      "36              Prakash Mehra     12\n",
      "37               Guddu Dhanoa     12\n",
      "38                Umesh Mehra     12\n",
      "39                Ketan Mehta     11\n",
      "40                 Mohit Suri     11\n",
      "41               Sanjay Gupta     11\n",
      "42              Nasir Hussain     11\n",
      "43         Pramod Chakravorty     11\n",
      "44            Govind Nihalani     11\n",
      "Wall time: 91.8 ms\n"
     ]
    },
    {
     "data": {
      "text/html": [
       "<div>\n",
       "<style scoped>\n",
       "    .dataframe tbody tr th:only-of-type {\n",
       "        vertical-align: middle;\n",
       "    }\n",
       "\n",
       "    .dataframe tbody tr th {\n",
       "        vertical-align: top;\n",
       "    }\n",
       "\n",
       "    .dataframe thead th {\n",
       "        text-align: right;\n",
       "    }\n",
       "</style>\n",
       "<table border=\"1\" class=\"dataframe\">\n",
       "  <thead>\n",
       "    <tr style=\"text-align: right;\">\n",
       "      <th></th>\n",
       "      <th>Name</th>\n",
       "      <th>count</th>\n",
       "    </tr>\n",
       "  </thead>\n",
       "  <tbody>\n",
       "    <tr>\n",
       "      <th>0</th>\n",
       "      <td>David Dhawan</td>\n",
       "      <td>39</td>\n",
       "    </tr>\n",
       "    <tr>\n",
       "      <th>1</th>\n",
       "      <td>Mahesh Bhatt</td>\n",
       "      <td>35</td>\n",
       "    </tr>\n",
       "    <tr>\n",
       "      <th>2</th>\n",
       "      <td>Ram Gopal Varma</td>\n",
       "      <td>30</td>\n",
       "    </tr>\n",
       "    <tr>\n",
       "      <th>3</th>\n",
       "      <td>Priyadarshan</td>\n",
       "      <td>30</td>\n",
       "    </tr>\n",
       "    <tr>\n",
       "      <th>4</th>\n",
       "      <td>Vikram Bhatt</td>\n",
       "      <td>29</td>\n",
       "    </tr>\n",
       "  </tbody>\n",
       "</table>\n",
       "</div>"
      ],
      "text/plain": [
       "               Name  count\n",
       "0      David Dhawan     39\n",
       "1      Mahesh Bhatt     35\n",
       "2   Ram Gopal Varma     30\n",
       "3      Priyadarshan     30\n",
       "4      Vikram Bhatt     29"
      ]
     },
     "execution_count": 7,
     "metadata": {},
     "output_type": "execute_result"
    }
   ],
   "source": [
    "%%time\n",
    "# Write your sql query below\n",
    "\n",
    "query = \"\"\"\n",
    "       \n",
    "   \n",
    "        select p.name,(select count(pid) from m_director md where md.pid=p.pid group by pid having count(pid)>10) count \n",
    "        from person p where p.pid in (\n",
    "        select pid from m_director group by pid having count(pid)>10\n",
    "        )\n",
    "        order by count desc\n",
    "        \n",
    "        \"\"\"\n",
    "\"\"\"\n",
    "   \n",
    "select p.name,count(name) from person p join m_director md on trim(p.pid)=trim(md.pid) \n",
    "        group by name having count(name)>10\n",
    "        order by count(name) desc\n",
    "\"\"\"\n",
    "q4 = pd.read_sql_query(query, conn)    \n",
    "print(q4.shape)\n",
    "print(q4)\n",
    "q4.head()"
   ]
  },
  {
   "cell_type": "markdown",
   "metadata": {},
   "source": [
    "## Q5.a --- For each year, count the number of movies in that year that had only female actors."
   ]
  },
  {
   "cell_type": "code",
   "execution_count": 8,
   "metadata": {},
   "outputs": [
    {
     "name": "stdout",
     "output_type": "stream",
     "text": [
      "(8, 2)\n",
      "   year  count(*)\n",
      "0  1964         1\n",
      "1  1997         1\n",
      "2  1999         1\n",
      "3  2000         1\n",
      "4  2001         1\n",
      "5  2004         1\n",
      "6  2013         2\n",
      "7  2016         1\n",
      "Wall time: 338 ms\n"
     ]
    },
    {
     "data": {
      "text/html": [
       "<div>\n",
       "<style scoped>\n",
       "    .dataframe tbody tr th:only-of-type {\n",
       "        vertical-align: middle;\n",
       "    }\n",
       "\n",
       "    .dataframe tbody tr th {\n",
       "        vertical-align: top;\n",
       "    }\n",
       "\n",
       "    .dataframe thead th {\n",
       "        text-align: right;\n",
       "    }\n",
       "</style>\n",
       "<table border=\"1\" class=\"dataframe\">\n",
       "  <thead>\n",
       "    <tr style=\"text-align: right;\">\n",
       "      <th></th>\n",
       "      <th>year</th>\n",
       "      <th>count(*)</th>\n",
       "    </tr>\n",
       "  </thead>\n",
       "  <tbody>\n",
       "    <tr>\n",
       "      <th>0</th>\n",
       "      <td>1964</td>\n",
       "      <td>1</td>\n",
       "    </tr>\n",
       "    <tr>\n",
       "      <th>1</th>\n",
       "      <td>1997</td>\n",
       "      <td>1</td>\n",
       "    </tr>\n",
       "    <tr>\n",
       "      <th>2</th>\n",
       "      <td>1999</td>\n",
       "      <td>1</td>\n",
       "    </tr>\n",
       "    <tr>\n",
       "      <th>3</th>\n",
       "      <td>2000</td>\n",
       "      <td>1</td>\n",
       "    </tr>\n",
       "    <tr>\n",
       "      <th>4</th>\n",
       "      <td>2001</td>\n",
       "      <td>1</td>\n",
       "    </tr>\n",
       "  </tbody>\n",
       "</table>\n",
       "</div>"
      ],
      "text/plain": [
       "   year  count(*)\n",
       "0  1964         1\n",
       "1  1997         1\n",
       "2  1999         1\n",
       "3  2000         1\n",
       "4  2001         1"
      ]
     },
     "execution_count": 8,
     "metadata": {},
     "output_type": "execute_result"
    }
   ],
   "source": [
    "%%time\n",
    "# Write your sql query below\n",
    "\n",
    "query = \"\"\"\n",
    "        select year,count(*) from movie where mid in (\n",
    "        select mid from m_cast group by mid having count(pid)=(\n",
    "        select count(pid) from m_cast mc where trim(pid) in (\n",
    "        select trim(pid) from person p where gender like 'Female'\n",
    "        )\n",
    "        group by mid\n",
    "        )\n",
    "        )\n",
    "        group by year\n",
    "        \n",
    "        \"\"\"\n",
    "\n",
    "q5a = pd.read_sql_query(query, conn)    \n",
    "print(q5a.shape)\n",
    "print(q5a)\n",
    "q5a.head()"
   ]
  },
  {
   "cell_type": "code",
   "execution_count": null,
   "metadata": {},
   "outputs": [],
   "source": []
  },
  {
   "cell_type": "markdown",
   "metadata": {},
   "source": [
    "## Q5.b --- Now include a small change: report for each year the percentage of movies in that year with only female actors, and the total number of movies made that year. For example, one answer will be: 1990 31.81 13522 meaning that in 1990 there were 13,522 movies, and 31.81% had only female actors. You do not need to round your answer."
   ]
  },
  {
   "cell_type": "code",
   "execution_count": 9,
   "metadata": {},
   "outputs": [
    {
     "name": "stdout",
     "output_type": "stream",
     "text": [
      "(8, 3)\n",
      "   year  percentage  count\n",
      "0  1964    7.142857     14\n",
      "1  1997    1.851852     54\n",
      "2  1999    1.515152     66\n",
      "3  2000    1.562500     64\n",
      "4  2001    1.408451     71\n",
      "5  2004    0.970874    103\n",
      "6  2013    1.574803    127\n",
      "7  2016    0.847458    118\n",
      "Wall time: 353 ms\n"
     ]
    },
    {
     "data": {
      "text/html": [
       "<div>\n",
       "<style scoped>\n",
       "    .dataframe tbody tr th:only-of-type {\n",
       "        vertical-align: middle;\n",
       "    }\n",
       "\n",
       "    .dataframe tbody tr th {\n",
       "        vertical-align: top;\n",
       "    }\n",
       "\n",
       "    .dataframe thead th {\n",
       "        text-align: right;\n",
       "    }\n",
       "</style>\n",
       "<table border=\"1\" class=\"dataframe\">\n",
       "  <thead>\n",
       "    <tr style=\"text-align: right;\">\n",
       "      <th></th>\n",
       "      <th>year</th>\n",
       "      <th>percentage</th>\n",
       "      <th>count</th>\n",
       "    </tr>\n",
       "  </thead>\n",
       "  <tbody>\n",
       "    <tr>\n",
       "      <th>0</th>\n",
       "      <td>1964</td>\n",
       "      <td>7.142857</td>\n",
       "      <td>14</td>\n",
       "    </tr>\n",
       "    <tr>\n",
       "      <th>1</th>\n",
       "      <td>1997</td>\n",
       "      <td>1.851852</td>\n",
       "      <td>54</td>\n",
       "    </tr>\n",
       "    <tr>\n",
       "      <th>2</th>\n",
       "      <td>1999</td>\n",
       "      <td>1.515152</td>\n",
       "      <td>66</td>\n",
       "    </tr>\n",
       "    <tr>\n",
       "      <th>3</th>\n",
       "      <td>2000</td>\n",
       "      <td>1.562500</td>\n",
       "      <td>64</td>\n",
       "    </tr>\n",
       "    <tr>\n",
       "      <th>4</th>\n",
       "      <td>2001</td>\n",
       "      <td>1.408451</td>\n",
       "      <td>71</td>\n",
       "    </tr>\n",
       "  </tbody>\n",
       "</table>\n",
       "</div>"
      ],
      "text/plain": [
       "   year  percentage  count\n",
       "0  1964    7.142857     14\n",
       "1  1997    1.851852     54\n",
       "2  1999    1.515152     66\n",
       "3  2000    1.562500     64\n",
       "4  2001    1.408451     71"
      ]
     },
     "execution_count": 9,
     "metadata": {},
     "output_type": "execute_result"
    }
   ],
   "source": [
    "%%time\n",
    "# Write your sql query below\n",
    "\n",
    "query = \"\"\"\n",
    "        \n",
    "        select m1.year,cast((count(*)*100) as float)/(select count(*) from movie m2 where m1.year=m2.year) as percentage,\n",
    "        (select count(*) from movie m3 where m1.year=m3.year) as count from movie m1 where m1.mid in (\n",
    "        select mid from m_cast group by mid having count(pid)=(\n",
    "        select count(pid) from m_cast mc where trim(pid) in (\n",
    "        select trim(pid) from person p where gender like 'Female'\n",
    "        )\n",
    "        group by mid\n",
    "        )\n",
    "        )\n",
    "        group by year\n",
    "        \n",
    "        \"\"\"\n",
    "\n",
    "q5b = pd.read_sql_query(query, conn)    \n",
    "print(q5b.shape)\n",
    "print(q5b)\n",
    "q5b.head()"
   ]
  },
  {
   "cell_type": "markdown",
   "metadata": {},
   "source": [
    "## Q6 --- Find the film(s) with the largest cast. Return the movie title and the size of the cast. By \"cast size\" we mean the number of distinct actors that played in that movie: if an actor played multiple roles, or if it simply occurs multiple times in casts, we still count her/him only once."
   ]
  },
  {
   "cell_type": "code",
   "execution_count": 10,
   "metadata": {},
   "outputs": [
    {
     "name": "stdout",
     "output_type": "stream",
     "text": [
      "(1, 2)\n",
      "           title  count\n",
      "0  Ocean's Eight    238\n",
      "Wall time: 440 ms\n"
     ]
    },
    {
     "data": {
      "text/html": [
       "<div>\n",
       "<style scoped>\n",
       "    .dataframe tbody tr th:only-of-type {\n",
       "        vertical-align: middle;\n",
       "    }\n",
       "\n",
       "    .dataframe tbody tr th {\n",
       "        vertical-align: top;\n",
       "    }\n",
       "\n",
       "    .dataframe thead th {\n",
       "        text-align: right;\n",
       "    }\n",
       "</style>\n",
       "<table border=\"1\" class=\"dataframe\">\n",
       "  <thead>\n",
       "    <tr style=\"text-align: right;\">\n",
       "      <th></th>\n",
       "      <th>title</th>\n",
       "      <th>count</th>\n",
       "    </tr>\n",
       "  </thead>\n",
       "  <tbody>\n",
       "    <tr>\n",
       "      <th>0</th>\n",
       "      <td>Ocean's Eight</td>\n",
       "      <td>238</td>\n",
       "    </tr>\n",
       "  </tbody>\n",
       "</table>\n",
       "</div>"
      ],
      "text/plain": [
       "           title  count\n",
       "0  Ocean's Eight    238"
      ]
     },
     "execution_count": 10,
     "metadata": {},
     "output_type": "execute_result"
    }
   ],
   "source": [
    "%%time\n",
    "# Write your sql query below\n",
    "\n",
    "query = \"\"\"\n",
    "        select title, (\n",
    "        select count(distinct pid) from m_cast mc where mc.mid=m.mid) count\n",
    "        from movie m where mid in (\n",
    "        select mid from m_cast group by mid having count(distinct pid)=(\n",
    "        select max(c) from (select mid,count(distinct pid) c from m_cast group by mid)))\n",
    "\n",
    "        \n",
    "        \"\"\"\n",
    "\n",
    "q6 = pd.read_sql_query(query, conn)    \n",
    "print(q6.shape)\n",
    "print(q6)\n",
    "q6.head()"
   ]
  },
  {
   "cell_type": "markdown",
   "metadata": {},
   "source": [
    "## Q7 --- A decade is a sequence of 10 consecutive years. For example, say in your database you have movie information starting from 1965. Then the first decade is 1965, 1966, ..., 1974; the second one is 1967, 1968, ..., 1976 and so on. Find the decade D with the largest number of films and the total number of films in D."
   ]
  },
  {
   "cell_type": "code",
   "execution_count": 11,
   "metadata": {},
   "outputs": [
    {
     "name": "stdout",
     "output_type": "stream",
     "text": [
      "(1, 3)\n",
      "  decade_start  decade_end  num_movies\n",
      "0         2008        2017        1128\n",
      "Wall time: 308 ms\n"
     ]
    },
    {
     "data": {
      "text/html": [
       "<div>\n",
       "<style scoped>\n",
       "    .dataframe tbody tr th:only-of-type {\n",
       "        vertical-align: middle;\n",
       "    }\n",
       "\n",
       "    .dataframe tbody tr th {\n",
       "        vertical-align: top;\n",
       "    }\n",
       "\n",
       "    .dataframe thead th {\n",
       "        text-align: right;\n",
       "    }\n",
       "</style>\n",
       "<table border=\"1\" class=\"dataframe\">\n",
       "  <thead>\n",
       "    <tr style=\"text-align: right;\">\n",
       "      <th></th>\n",
       "      <th>decade_start</th>\n",
       "      <th>decade_end</th>\n",
       "      <th>num_movies</th>\n",
       "    </tr>\n",
       "  </thead>\n",
       "  <tbody>\n",
       "    <tr>\n",
       "      <th>0</th>\n",
       "      <td>2008</td>\n",
       "      <td>2017</td>\n",
       "      <td>1128</td>\n",
       "    </tr>\n",
       "  </tbody>\n",
       "</table>\n",
       "</div>"
      ],
      "text/plain": [
       "  decade_start  decade_end  num_movies\n",
       "0         2008        2017        1128"
      ]
     },
     "execution_count": 11,
     "metadata": {},
     "output_type": "execute_result"
    }
   ],
   "source": [
    "%%time\n",
    "# Write your sql query below\n",
    "\n",
    "query = \"\"\"\n",
    "        select y.year as decade_start, y.year + 9 as decade_end,\n",
    "        count(*) as num_movies\n",
    "        from (select distinct year from movie) y join\n",
    "        movie m\n",
    "        on m.year >= y.year and m.year < y.year + 10\n",
    "        group by y.year\n",
    "        order by count(*) desc\n",
    "        limit 1\n",
    "        \n",
    "        \"\"\"\n",
    "\n",
    "q7 = pd.read_sql_query(query, conn)    \n",
    "print(q7.shape)\n",
    "print(q7)\n",
    "q7.head()"
   ]
  },
  {
   "cell_type": "markdown",
   "metadata": {},
   "source": [
    "## Q8 --- Find all the actors that made more movies with Yash Chopra than any other director."
   ]
  },
  {
   "cell_type": "code",
   "execution_count": 12,
   "metadata": {},
   "outputs": [
    {
     "name": "stdout",
     "output_type": "stream",
     "text": [
      "(0, 3)\n",
      "Empty DataFrame\n",
      "Columns: [number, actor, director]\n",
      "Index: []\n",
      "Wall time: 525 ms\n"
     ]
    },
    {
     "data": {
      "text/html": [
       "<div>\n",
       "<style scoped>\n",
       "    .dataframe tbody tr th:only-of-type {\n",
       "        vertical-align: middle;\n",
       "    }\n",
       "\n",
       "    .dataframe tbody tr th {\n",
       "        vertical-align: top;\n",
       "    }\n",
       "\n",
       "    .dataframe thead th {\n",
       "        text-align: right;\n",
       "    }\n",
       "</style>\n",
       "<table border=\"1\" class=\"dataframe\">\n",
       "  <thead>\n",
       "    <tr style=\"text-align: right;\">\n",
       "      <th></th>\n",
       "      <th>number</th>\n",
       "      <th>actor</th>\n",
       "      <th>director</th>\n",
       "    </tr>\n",
       "  </thead>\n",
       "  <tbody>\n",
       "  </tbody>\n",
       "</table>\n",
       "</div>"
      ],
      "text/plain": [
       "Empty DataFrame\n",
       "Columns: [number, actor, director]\n",
       "Index: []"
      ]
     },
     "execution_count": 12,
     "metadata": {},
     "output_type": "execute_result"
    }
   ],
   "source": [
    "%%time\n",
    "# Write your sql query below\n",
    "\n",
    "query = \"\"\"\n",
    "        Select b.number,b.actor,b.director from (select MAX(a.count) as number,a.director,a.actor from \n",
    "        (select count(p.PID) as count ,p.PID as actor,md.PID as director from person as p left join m_cast as mc on p.PID=mc.PID \n",
    "        inner join m_director as md on md.MID=mc.MID group by md.PID ,p.PID) \n",
    "        as a group by a.actor) as b where b.director=(select PID from person where Name='Yash Chopra')\n",
    "        \n",
    "        \"\"\"\n",
    "\n",
    "q8 = pd.read_sql_query(query, conn)    \n",
    "print(q8.shape)\n",
    "print(q8)\n",
    "q8.head()"
   ]
  },
  {
   "cell_type": "markdown",
   "metadata": {},
   "source": [
    "## Q9 --- The Shahrukh number of an actor is the length of the shortest path between the actor and Shahrukh Khan in the \"co-acting\" graph. That is, Shahrukh Khan has Shahrukh number 0; all actors who acted in the same film as Shahrukh have Shahrukh number 1; all actors who acted in the same film as some actor with Shahrukh number 1 have Shahrukh number 2, etc. Return all actors whose Shahrukh number is 2."
   ]
  },
  {
   "cell_type": "code",
   "execution_count": 13,
   "metadata": {},
   "outputs": [
    {
     "name": "stdout",
     "output_type": "stream",
     "text": [
      "(0, 2)\n",
      "Empty DataFrame\n",
      "Columns: [PID, Name]\n",
      "Index: []\n",
      "Wall time: 290 ms\n"
     ]
    },
    {
     "data": {
      "text/html": [
       "<div>\n",
       "<style scoped>\n",
       "    .dataframe tbody tr th:only-of-type {\n",
       "        vertical-align: middle;\n",
       "    }\n",
       "\n",
       "    .dataframe tbody tr th {\n",
       "        vertical-align: top;\n",
       "    }\n",
       "\n",
       "    .dataframe thead th {\n",
       "        text-align: right;\n",
       "    }\n",
       "</style>\n",
       "<table border=\"1\" class=\"dataframe\">\n",
       "  <thead>\n",
       "    <tr style=\"text-align: right;\">\n",
       "      <th></th>\n",
       "      <th>PID</th>\n",
       "      <th>Name</th>\n",
       "    </tr>\n",
       "  </thead>\n",
       "  <tbody>\n",
       "  </tbody>\n",
       "</table>\n",
       "</div>"
      ],
      "text/plain": [
       "Empty DataFrame\n",
       "Columns: [PID, Name]\n",
       "Index: []"
      ]
     },
     "execution_count": 13,
     "metadata": {},
     "output_type": "execute_result"
    }
   ],
   "source": [
    "%%time\n",
    "# Write your sql query below\n",
    "\n",
    "query = \"\"\"\n",
    "        select distinct PID, Name\n",
    "        from Person natural join M_Cast\n",
    "        where Name <> 'Shah Rukh Khan' and MID in (select MID\n",
    "        from M_Cast where PID in (select PID\n",
    "        from Person natural join M_Cast\n",
    "        where Name <> 'Shah Rukh Khan' and MID in (select MID\n",
    "        from Person natural join M_Cast\n",
    "        where Name = 'Shah Rukh Khan')))\n",
    "        and PID not in (select PID\n",
    "        from Person natural join M_Cast\n",
    "        where Name <> 'Shah Rukh Khan' and MID in (select MID\n",
    "        from Person natural join M_Cast\n",
    "        where Name = 'Shah Rukh Khan'));\n",
    "        \n",
    "        \"\"\"\n",
    "\n",
    "q9 = pd.read_sql_query(query, conn)    \n",
    "print(q9.shape)\n",
    "print(q9)\n",
    "q9.head()"
   ]
  },
  {
   "cell_type": "code",
   "execution_count": null,
   "metadata": {},
   "outputs": [],
   "source": []
  },
  {
   "cell_type": "code",
   "execution_count": null,
   "metadata": {},
   "outputs": [],
   "source": []
  }
 ],
 "metadata": {
  "kernelspec": {
   "display_name": "Python 3",
   "language": "python",
   "name": "python3"
  },
  "language_info": {
   "codemirror_mode": {
    "name": "ipython",
    "version": 3
   },
   "file_extension": ".py",
   "mimetype": "text/x-python",
   "name": "python",
   "nbconvert_exporter": "python",
   "pygments_lexer": "ipython3",
   "version": "3.7.6"
  }
 },
 "nbformat": 4,
 "nbformat_minor": 2
}
